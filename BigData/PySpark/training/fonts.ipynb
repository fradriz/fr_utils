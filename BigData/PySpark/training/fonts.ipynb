{
 "cells": [
  {
   "cell_type": "markdown",
   "metadata": {},
   "source": [
    "# Customizing profile and themes for Notebooks\n",
    "https://nbviewer.jupyter.org/github/Carreau/posts/blob/master/Blog1.ipynb\n",
    "\n",
    "More basic: "
   ]
  },
  {
   "cell_type": "markdown",
   "metadata": {},
   "source": [
    "<p style=\"color:red\">This is a paragraph.</p>\n",
    "<p style=\"color:blue\">This is another paragraph.</p>\n",
    "\n",
    "---\n",
    "Normal\n",
    "## Serif Fonts\n",
    "<p style=\"font-family:'Times New Roman'\">This is another paragraph Times New Roman.</p>\n",
    "<p style=\"font-family:Georgia\">This is another paragraph Georgia.</p>\n",
    "\n",
    "## Sans-Serif Fonts\n",
    "<p style=\"font-family:verdana\">This is a paragraph VERDANA.</p>\n",
    "<p style=\"font-family:arial\">This is a paragraph ARIAL.</p>\n",
    "\n",
    "## Monspace Fonts\n",
    "<p style=\"font-family:'Courier New'\">This is another paragraph COURIER NEW.</p>\n",
    "<p style=\"font-family:'Lucida Console'\">This is another paragraph Lucida Console.</p>\n",
    "\n",
    "---\n",
    "<p style=\"font-size:30px\">This is a paragraph. SIZE 30</p>\n",
    "<p style=\"font-size:11px\">This is another paragraph. SIZE 11</p>\n",
    "\n",
    "---\n",
    "<p style=\"font-size:1em\">This is another paragraph. SIZE 1em</p>\n",
    "<p style=\"font-size:1.5em\">This is another paragraph. SIZE 1.5em</p>\n",
    "<p style=\"font-size:2em\">This is another paragraph. SIZE 2em</p>"
   ]
  },
  {
   "cell_type": "markdown",
   "metadata": {},
   "source": [
    "---\n",
    "<p style=\"font-size:2em; color:blue; font-family:verdana\">This is a paragraph. Combined I</p>\n",
    "<p style=\"font-size:2em; color:red; font-family:'Courier New'; text-align: center\">This is a paragraph. Combined II</p>"
   ]
  },
  {
   "cell_type": "markdown",
   "metadata": {},
   "source": [
    "<p style=\"font-size:2em; color:red; font-family:'Courier New'; text-align: center\">\n",
    "    This is a paragraph. Combined I\n",
    "ahora\n",
    "\n",
    "* <p style=\"font-size:1.2em; color:green; font-family:'Courier New'; text-align: left\">vemos que pasa</p>"
   ]
  },
  {
   "cell_type": "markdown",
   "metadata": {},
   "source": [
    "<font color=blue>__Text I__:  _Blablbbla mas copado_.</font>\n",
    "\n",
    "<font color=red size=5px>__Text II__:  _blbla_.</font>"
   ]
  }
 ],
 "metadata": {
  "kernelspec": {
   "display_name": "Python 3",
   "language": "python",
   "name": "python3"
  },
  "language_info": {
   "codemirror_mode": {
    "name": "ipython",
    "version": 3
   },
   "file_extension": ".py",
   "mimetype": "text/x-python",
   "name": "python",
   "nbconvert_exporter": "python",
   "pygments_lexer": "ipython3",
   "version": "3.7.5"
  }
 },
 "nbformat": 4,
 "nbformat_minor": 4
}
