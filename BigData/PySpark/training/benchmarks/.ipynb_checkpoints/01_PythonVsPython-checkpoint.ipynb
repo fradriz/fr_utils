{
 "cells": [
  {
   "cell_type": "markdown",
   "metadata": {},
   "source": [
    "# Benchamarks\n",
    "Let's prove what is real and what is not ..\n",
    "\n",
    "## 1) Python vs Python - For loops vs Map/Lambda vs Comprehension lists\n",
    "\n",
    "### Test 1: Create a short list"
   ]
  },
  {
   "cell_type": "code",
   "execution_count": 94,
   "metadata": {},
   "outputs": [],
   "source": [
    "n = 10000"
   ]
  },
  {
   "cell_type": "code",
   "execution_count": 95,
   "metadata": {},
   "outputs": [
    {
     "name": "stdout",
     "output_type": "stream",
     "text": [
      "699 µs ± 7.48 µs per loop (mean ± std. dev. of 7 runs, 1000 loops each)\n"
     ]
    }
   ],
   "source": [
    "%%timeit\n",
    "r = []\n",
    "for x in range(n):\n",
    "    r.append(x)"
   ]
  },
  {
   "cell_type": "code",
   "execution_count": 96,
   "metadata": {},
   "outputs": [
    {
     "name": "stdout",
     "output_type": "stream",
     "text": [
      "885 µs ± 16.4 µs per loop (mean ± std. dev. of 7 runs, 1000 loops each)\n"
     ]
    }
   ],
   "source": [
    "%%timeit\n",
    "# Map\n",
    "list(map(hex, range(n)))"
   ]
  },
  {
   "cell_type": "code",
   "execution_count": 97,
   "metadata": {},
   "outputs": [
    {
     "name": "stdout",
     "output_type": "stream",
     "text": [
      "1.35 ms ± 29.1 µs per loop (mean ± std. dev. of 7 runs, 1000 loops each)\n"
     ]
    }
   ],
   "source": [
    "%%timeit\n",
    "# Comprehension list\n",
    "[hex(x) for x in range(n)]"
   ]
  },
  {
   "cell_type": "code",
   "execution_count": 37,
   "metadata": {},
   "outputs": [
    {
     "name": "stdout",
     "output_type": "stream",
     "text": [
      "567 ns ± 4.03 ns per loop (mean ± std. dev. of 7 runs, 1000000 loops each)\n"
     ]
    }
   ],
   "source": [
    "%%timeit\n",
    "# Comprehension Generator \n",
    "(hex(x) for x in range(n))"
   ]
  },
  {
   "cell_type": "markdown",
   "metadata": {},
   "source": [
    "Clear winner is genearator, but don't get exited, generator is just creating the pointer is not creating the list. So, for now is not going to be taken into account.\n",
    "(for loop, map loop, CL)\n",
    "\n",
    "**Winner: For**\n",
    "* n=10    -> For (0.974 us, 1.3 us, 1.67 us)\n",
    "* n=1000  -> For (69 us, 85 us, 130 us)\n",
    "* n=10000 -> For (700us, 853 us, 1270 us)\n",
    "\n",
    "### EC2 (C5 RAM:144 GB)\n",
    "**Winner: For**\n",
    "* n=10    -> For (0.63 us, 0.73 us, 0.97 us)\n",
    "* n=1000  -> For (48 us, 54 us, 71 us)\n",
    "* n=10000 -> For (491us, 614 us, 837 us)"
   ]
  },
  {
   "cell_type": "markdown",
   "metadata": {},
   "source": [
    "### Test 2: Simple transformation"
   ]
  },
  {
   "cell_type": "code",
   "execution_count": 68,
   "metadata": {},
   "outputs": [],
   "source": [
    "n = 10000"
   ]
  },
  {
   "cell_type": "code",
   "execution_count": 69,
   "metadata": {},
   "outputs": [
    {
     "name": "stdout",
     "output_type": "stream",
     "text": [
      "962 µs ± 7.78 µs per loop (mean ± std. dev. of 7 runs, 1000 loops each)\n"
     ]
    }
   ],
   "source": [
    "%%timeit\n",
    "# For cycle\n",
    "result = []\n",
    "for x in range(n):\n",
    "    result.append(x+2)    "
   ]
  },
  {
   "cell_type": "code",
   "execution_count": 70,
   "metadata": {},
   "outputs": [
    {
     "name": "stdout",
     "output_type": "stream",
     "text": [
      "1.03 ms ± 6.62 µs per loop (mean ± std. dev. of 7 runs, 1000 loops each)\n"
     ]
    }
   ],
   "source": [
    "%%timeit\n",
    "# Map Lambda\n",
    "list(map(lambda x: x+2, range(n)))"
   ]
  },
  {
   "cell_type": "code",
   "execution_count": 71,
   "metadata": {},
   "outputs": [
    {
     "name": "stdout",
     "output_type": "stream",
     "text": [
      "583 µs ± 5.69 µs per loop (mean ± std. dev. of 7 runs, 1000 loops each)\n"
     ]
    }
   ],
   "source": [
    "%%timeit\n",
    "# Comprehension list\n",
    "[x+2 for x in range(n)]"
   ]
  },
  {
   "cell_type": "markdown",
   "metadata": {},
   "source": [
    "(for loop, map loop, CL)\n",
    "\n",
    "**Winner: CL** (by far !)\n",
    "* n=10    -> CL (1.13 us, 1.4 us, 0.842 us)\n",
    "* n=1000  -> CL (95.5 us, 98.3 us, 55.2 us)   \n",
    "* n=10000 -> CL (962us, 1.03 ms, 0.58 ms)\n",
    "\n",
    "### EC2 (C5 RAM:144 GB)\n",
    "\n",
    "**Winner: CL** (by far !)\n",
    "* n=10    -> CL (0.796 us, 1.08 us, 0.568 us)\n",
    "* n=1000  -> CL (65 us, 77 us, 40 us)   \n",
    "* n=10000 -> CL (667us, 806us, 418us)\n",
    "    \n",
    "Notice that the for loop is **in this case** better than the map/lambda loop. \n",
    "\n",
    "### Test 3: cuadratic function"
   ]
  },
  {
   "cell_type": "code",
   "execution_count": 128,
   "metadata": {},
   "outputs": [],
   "source": [
    "n = 1000\n",
    "def fun(x):\n",
    "    return -5*x**2+30*x+100"
   ]
  },
  {
   "cell_type": "code",
   "execution_count": 129,
   "metadata": {},
   "outputs": [
    {
     "name": "stdout",
     "output_type": "stream",
     "text": [
      "452 µs ± 3.37 µs per loop (mean ± std. dev. of 7 runs, 1000 loops each)\n"
     ]
    }
   ],
   "source": [
    "%%timeit\n",
    "# For cycle\n",
    "result = []\n",
    "for x in range(n):\n",
    "    result.append(-5*x**2+30*x+100)"
   ]
  },
  {
   "cell_type": "code",
   "execution_count": 130,
   "metadata": {},
   "outputs": [
    {
     "name": "stdout",
     "output_type": "stream",
     "text": [
      "461 µs ± 6.02 µs per loop (mean ± std. dev. of 7 runs, 1000 loops each)\n"
     ]
    }
   ],
   "source": [
    "%%timeit\n",
    "# Map Lambda\n",
    "list(map(lambda x: -5*x**2+30*x+100, range(n)))"
   ]
  },
  {
   "cell_type": "code",
   "execution_count": 131,
   "metadata": {},
   "outputs": [
    {
     "name": "stdout",
     "output_type": "stream",
     "text": [
      "416 µs ± 19.5 µs per loop (mean ± std. dev. of 7 runs, 1000 loops each)\n"
     ]
    }
   ],
   "source": [
    "%%timeit\n",
    "# Comprehension list\n",
    "[-5*x**2+30*x+100 for x in range(n)]"
   ]
  },
  {
   "cell_type": "markdown",
   "metadata": {},
   "source": [
    "*The winner here is CL* (~8%)\n",
    "\n",
    "OBS: All the numbers improved (faster) putting the function explicity instead of using `fun(x)`"
   ]
  },
  {
   "cell_type": "markdown",
   "metadata": {},
   "source": [
    "### Apendix\n",
    "#### Resources"
   ]
  },
  {
   "cell_type": "code",
   "execution_count": 134,
   "metadata": {},
   "outputs": [
    {
     "name": "stdout",
     "output_type": "stream",
     "text": [
      "hw.memsize: 17179869184\r\n"
     ]
    }
   ],
   "source": [
    "# Memory (!free -h) -> 17,179,869,184\n",
    "!sysctl -a |grep memsize"
   ]
  },
  {
   "cell_type": "code",
   "execution_count": 135,
   "metadata": {},
   "outputs": [
    {
     "name": "stdout",
     "output_type": "stream",
     "text": [
      "hw.ncpu: 8\r\n"
     ]
    }
   ],
   "source": [
    "!sysctl -a |grep ncpu"
   ]
  },
  {
   "cell_type": "markdown",
   "metadata": {},
   "source": [
    "#### Versions and used libraries"
   ]
  },
  {
   "cell_type": "code",
   "execution_count": 2,
   "metadata": {},
   "outputs": [
    {
     "name": "stdout",
     "output_type": "stream",
     "text": [
      "WARNING: An illegal reflective access operation has occurred\n",
      "WARNING: Illegal reflective access by org.apache.spark.unsafe.Platform (file:/Users/facradri/PycharmProjects/virtualenvs/env_pyspark/lib/python3.7/site-packages/pyspark/jars/spark-unsafe_2.12-3.0.0.jar) to constructor java.nio.DirectByteBuffer(long,int)\n",
      "WARNING: Please consider reporting this to the maintainers of org.apache.spark.unsafe.Platform\n",
      "WARNING: Use --illegal-access=warn to enable warnings of further illegal reflective access operations\n",
      "WARNING: All illegal access operations will be denied in a future release\n",
      "Welcome to\n",
      "      ____              __\n",
      "     / __/__  ___ _____/ /__\n",
      "    _\\ \\/ _ \\/ _ `/ __/  '_/\n",
      "   /___/ .__/\\_,_/_/ /_/\\_\\   version 3.0.0\n",
      "      /_/\n",
      "                        \n",
      "Using Scala version 2.12.10, OpenJDK 64-Bit Server VM, 13.0.1\n",
      "Branch HEAD\n",
      "Compiled by user ubuntu on 2020-06-06T11:32:25Z\n",
      "Revision 3fdfce3120f307147244e5eaf46d61419a723d50\n",
      "Url https://gitbox.apache.org/repos/asf/spark.git\n",
      "Type --help for more information.\n"
     ]
    }
   ],
   "source": [
    "!pyspark --version"
   ]
  },
  {
   "cell_type": "code",
   "execution_count": 5,
   "metadata": {},
   "outputs": [
    {
     "name": "stdout",
     "output_type": "stream",
     "text": [
      "Python 3.7.5\n",
      "openjdk version \"13.0.1\" 2019-10-15\n",
      "OpenJDK Runtime Environment (build 13.0.1+9)\n",
      "OpenJDK 64-Bit Server VM (build 13.0.1+9, mixed mode, sharing)\n"
     ]
    }
   ],
   "source": [
    "!python3 -V; java -version"
   ]
  },
  {
   "cell_type": "code",
   "execution_count": 6,
   "metadata": {},
   "outputs": [
    {
     "name": "stdout",
     "output_type": "stream",
     "text": [
      "Package            Version\n",
      "------------------ -------\n",
      "appnope            0.1.0  \n",
      "attrs              19.3.0 \n",
      "backcall           0.2.0  \n",
      "bleach             3.1.5  \n",
      "decorator          4.4.2  \n",
      "defusedxml         0.6.0  \n",
      "entrypoints        0.3    \n",
      "findspark          1.4.2  \n",
      "importlib-metadata 1.7.0  \n",
      "ipykernel          5.3.0  \n",
      "ipython            7.16.1 \n",
      "ipython-genutils   0.2.0  \n",
      "ipywidgets         7.5.1  \n",
      "jedi               0.17.1 \n",
      "Jinja2             2.11.2 \n",
      "jsonschema         3.2.0  \n",
      "jupyter            1.0.0  \n",
      "jupyter-client     6.1.5  \n",
      "jupyter-console    6.1.0  \n",
      "jupyter-core       4.6.3  \n",
      "MarkupSafe         1.1.1  \n",
      "mistune            0.8.4  \n",
      "nbconvert          5.6.1  \n",
      "nbformat           5.0.7  \n",
      "notebook           6.0.3  \n",
      "packaging          20.4   \n",
      "pandocfilters      1.4.2  \n",
      "parso              0.7.0  \n",
      "pexpect            4.8.0  \n",
      "pickleshare        0.7.5  \n",
      "pip                20.0.2 \n",
      "prometheus-client  0.8.0  \n",
      "prompt-toolkit     3.0.5  \n",
      "ptyprocess         0.6.0  \n",
      "py4j               0.10.9 \n",
      "Pygments           2.6.1  \n",
      "pyparsing          2.4.7  \n",
      "pyrsistent         0.16.0 \n",
      "pyspark            3.0.0  \n",
      "python-dateutil    2.8.1  \n",
      "pyzmq              19.0.1 \n",
      "qtconsole          4.7.5  \n",
      "QtPy               1.9.0  \n",
      "Send2Trash         1.5.0  \n",
      "setuptools         46.1.3 \n",
      "six                1.15.0 \n",
      "terminado          0.8.3  \n",
      "testpath           0.4.4  \n",
      "tornado            6.0.4  \n",
      "traitlets          4.3.3  \n",
      "wcwidth            0.2.5  \n",
      "webencodings       0.5.1  \n",
      "wheel              0.34.2 \n",
      "widgetsnbextension 3.5.1  \n",
      "zipp               3.1.0  \n",
      "\u001b[33mWARNING: You are using pip version 20.0.2; however, version 20.1.1 is available.\n",
      "You should consider upgrading via the '/Users/facradri/PycharmProjects/virtualenvs/env_pyspark/bin/python -m pip install --upgrade pip' command.\u001b[0m\n"
     ]
    }
   ],
   "source": [
    "!pip list"
   ]
  }
 ],
 "metadata": {
  "kernelspec": {
   "display_name": "Python 3",
   "language": "python",
   "name": "python3"
  },
  "language_info": {
   "codemirror_mode": {
    "name": "ipython",
    "version": 3
   },
   "file_extension": ".py",
   "mimetype": "text/x-python",
   "name": "python",
   "nbconvert_exporter": "python",
   "pygments_lexer": "ipython3",
   "version": "3.7.5"
  }
 },
 "nbformat": 4,
 "nbformat_minor": 4
}
