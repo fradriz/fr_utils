{
 "cells": [
  {
   "cell_type": "markdown",
   "metadata": {},
   "source": [
    "# [Cluster Mode Overview](https://spark.apache.org/docs/2.4.6/cluster-overview.html)\n",
    "\n",
    "![cluster overview](img/cluster-overview.png)\n",
    "\n",
    "<p style=\"font-size:1em; color:green; font-family:'Courier New'; text-align: center\">source: https://spark.apache.org/docs/2.4.0/img/cluster-overview.png</p>"
   ]
  },
  {
   "cell_type": "markdown",
   "metadata": {},
   "source": [
    "* Spark applications run as independent sets of processes on a cluster, coordinated by the SparkContext object in your main program (called the driver program).\n",
    "\n",
    "* To run on a cluster, the SparkContext can connect to several types of cluster managers (which allocate resources across applications):\n",
    "    + Spark’s own standalone cluster manager\n",
    "    + Mesos\n",
    "    + YARN\n",
    "    \n",
    "* Once connected, Spark acquires *executors on nodes in the cluster*, which are processes that run computations and store data for your application.\n",
    "\n",
    "* Next, it sends your application code (defined by JAR or Python files passed to SparkContext) to the executors. \n",
    "\n",
    "* Finally, SparkContext sends tasks to the executors to run."
   ]
  },
  {
   "cell_type": "markdown",
   "metadata": {},
   "source": [
    "There are several useful things to note about this architecture:\n",
    "\n",
    "1. **Each application gets its own executor processes**, which stay up for the duration of the whole application and **run tasks in multiple threads**. \n",
    "\n",
    "This has the benefit of isolating applications from each other, on both the scheduling side (each driver schedules its own tasks) and executor side (tasks from different applications run in different JVMs). However, it also means that data cannot be shared across different Spark applications (instances of SparkContext) without writing it to an external storage system.\n",
    "<br>\n",
    "2. Spark is agnostic to the underlying cluster manager. As long as it can acquire executor processes, and these communicate with each other, it is relatively easy to run it even on a cluster manager that also supports other applications (e.g. Mesos/YARN).\n",
    "<br><br>\n",
    "3. The driver program must listen for and accept incoming connections from its executors throughout its lifetime (e.g., see spark.driver.port in the network config section). As such, **the driver program must be network addressable from the worker nodes**.\n",
    "<br><br>\n",
    "4. Because the driver schedules tasks on the cluster, it should be run close to the worker nodes, preferably on the same local area network. If you’d like to send requests to the cluster remotely, it’s better to open an RPC to the driver and have it submit operations from nearby than to run a driver far away from the worker nodes."
   ]
  }
 ],
 "metadata": {
  "kernelspec": {
   "display_name": "Python 3",
   "language": "python",
   "name": "python3"
  },
  "language_info": {
   "codemirror_mode": {
    "name": "ipython",
    "version": 3
   },
   "file_extension": ".py",
   "mimetype": "text/x-python",
   "name": "python",
   "nbconvert_exporter": "python",
   "pygments_lexer": "ipython3",
   "version": "3.7.5"
  }
 },
 "nbformat": 4,
 "nbformat_minor": 4
}
