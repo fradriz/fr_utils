{
 "cells": [
  {
   "cell_type": "markdown",
   "metadata": {},
   "source": [
    "# Key terms used in Apache Spark:\n",
    "\n",
    "![cluster overview](img/cluster-overview.png)\n",
    "\n",
    "<p style=\"font-size:1em; color:green; font-family:'Courier New'; text-align: center\">source: https://spark.apache.org/docs/2.4.0/img/cluster-overview.png</p>"
   ]
  }
 ],
 "metadata": {
  "kernelspec": {
   "display_name": "Python 3",
   "language": "python",
   "name": "python3"
  },
  "language_info": {
   "codemirror_mode": {
    "name": "ipython",
    "version": 3
   },
   "file_extension": ".py",
   "mimetype": "text/x-python",
   "name": "python",
   "nbconvert_exporter": "python",
   "pygments_lexer": "ipython3",
   "version": "3.7.5"
  }
 },
 "nbformat": 4,
 "nbformat_minor": 4
}
