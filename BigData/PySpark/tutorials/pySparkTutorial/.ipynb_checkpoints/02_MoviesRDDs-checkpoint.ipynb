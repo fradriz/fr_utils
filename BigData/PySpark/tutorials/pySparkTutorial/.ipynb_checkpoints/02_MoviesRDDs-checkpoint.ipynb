{
 "cells": [
  {
   "cell_type": "markdown",
   "metadata": {},
   "source": [
    "## Spark in Action with Example\n",
    "### Opening & inspecting the files\n",
    "\n",
    "Let us work with a concrete example which takes care of some usual transformations.\n",
    "\n",
    "We will work on Movielens ml-100k.zip dataset which is a stable benchmark dataset. 100,000 ratings from 1000 users on 1700 movies. Released 4/1998.\n",
    "\n",
    "The Movielens dataset contains a lot of files but we are going to be working with 3 files only:\n",
    "\n",
    "1. **Users**: This file name is kept as “u.user”, The columns in this file are:\n",
    "\n",
    "`['user_id', 'age', 'sex', 'occupation', 'zip_code']`\n",
    "\n",
    "2. **Ratings**: This file name is kept as “u.data”, The columns in this file are:\n",
    "\n",
    "`['user_id', 'movie_id', 'rating', 'unix_timestamp']`\n",
    "\n",
    "3. **Movies**: This file name is kept as “u.item”, The columns in this file are:\n",
    "\n",
    "`['movie_id', 'title', 'release_date', 'video_release_date', 'imdb_url', and 18 more columns.....]`\n",
    "\n",
    "Our business partner now comes to us and asks us to find out:\n",
    "* **the 25 most rated movie titles from this data.** \n",
    "* **How many times a movie has been rated?**"
   ]
  },
  {
   "cell_type": "code",
   "execution_count": 3,
   "metadata": {},
   "outputs": [
    {
     "name": "stdout",
     "output_type": "stream",
     "text": [
      "/Users/facradri/Dropbox/Tech/apps/Python/PySpark/pySparkTutorial\r\n",
      "total 8\r\n",
      "-rw-r--r--@ 1 facradri  LL\\Domain Users  1873 Dec 31 16:04 02_MoviesRDDs.ipynb\r\n",
      "drwxr-xr-x@ 6 facradri  LL\\Domain Users   192 Dec 30 15:45 \u001b[34mData-ML-100k--master\u001b[m\u001b[m\r\n"
     ]
    }
   ],
   "source": [
    "!pwd;ls -l"
   ]
  },
  {
   "cell_type": "code",
   "execution_count": 5,
   "metadata": {},
   "outputs": [
    {
     "data": {
      "text/plain": [
       "['1|24|M|technician|85711', '2|53|F|other|94043', '3|23|M|writer|32067']"
      ]
     },
     "execution_count": 5,
     "metadata": {},
     "output_type": "execute_result"
    }
   ],
   "source": [
    "# Distribute the data - Create a RDD \n",
    "users = sc.textFile(\"Data-ML-100k--master/ml-100k/u.user\")\n",
    "users.take(3)"
   ]
  },
  {
   "cell_type": "code",
   "execution_count": 8,
   "metadata": {},
   "outputs": [
    {
     "name": "stdout",
     "output_type": "stream",
     "text": [
      "userRDD: ['1|24|M|technician|85711']\n",
      "ratingRDD: ['196\\t242\\t3\\t881250949']\n",
      "movieRDD: ['1|Toy Story (1995)|01-Jan-1995||http://us.imdb.com/M/title-exact?Toy%20Story%20(1995)|0|0|0|1|1|1|0|0|0|0|0|0|0|0|0|0|0|0|0']\n"
     ]
    }
   ],
   "source": [
    "userRDD = sc.textFile(\"Data-ML-100k--master/ml-100k/u.user\") \n",
    "ratingRDD = sc.textFile(\"Data-ML-100k--master/ml-100k/u.data\") \n",
    "movieRDD = sc.textFile(\"Data-ML-100k--master/ml-100k/u.item\") \n",
    "print(\"userRDD:\",userRDD.take(1))\n",
    "print(\"ratingRDD:\",ratingRDD.take(1))\n",
    "print(\"movieRDD:\",movieRDD.take(1))"
   ]
  },
  {
   "cell_type": "code",
   "execution_count": 9,
   "metadata": {},
   "outputs": [
    {
     "name": "stdout",
     "output_type": "stream",
     "text": [
      "RDD_movid_rating: [('242', '3'), ('302', '3'), ('377', '1'), ('51', '2')]\n"
     ]
    }
   ],
   "source": [
    "# Create a RDD from RatingRDD that only contains the two columns of interest i.e. movie_id,rating.\n",
    "RDD_movid_rating = ratingRDD.map(lambda x : (x.split(\"\\t\")[1],x.split(\"\\t\")[2]))\n",
    "print(\"RDD_movid_rating:\",RDD_movid_rating.take(4))"
   ]
  },
  {
   "cell_type": "code",
   "execution_count": 10,
   "metadata": {},
   "outputs": [
    {
     "name": "stdout",
     "output_type": "stream",
     "text": [
      "RDD_movid_title: [('1', 'Toy Story (1995)'), ('2', 'GoldenEye (1995)')]\n"
     ]
    }
   ],
   "source": [
    "# Create a RDD from MovieRDD that only contains the two columns of interest i.e. movie_id,title.\n",
    "RDD_movid_title = movieRDD.map(lambda x : (x.split(\"|\")[0],x.split(\"|\")[1]))\n",
    "print(\"RDD_movid_title:\",RDD_movid_title.take(2))"
   ]
  },
  {
   "cell_type": "code",
   "execution_count": 11,
   "metadata": {},
   "outputs": [
    {
     "name": "stdout",
     "output_type": "stream",
     "text": [
      "rdd_movid_title_rating: [('346', ('1', 'Jackie Brown (1997)'))]\n"
     ]
    }
   ],
   "source": [
    "# merge these two pair RDDs based on movie_id. For this we will use the transformation leftOuterJoin(). See the transformation document.\n",
    "rdd_movid_title_rating = RDD_movid_rating.leftOuterJoin(RDD_movid_title)\n",
    "print(\"rdd_movid_title_rating:\",rdd_movid_title_rating.take(1))"
   ]
  },
  {
   "cell_type": "code",
   "execution_count": 12,
   "metadata": {},
   "outputs": [
    {
     "name": "stdout",
     "output_type": "stream",
     "text": [
      "rdd_title_rating: [('Jackie Brown (1997)', 1), ('Jackie Brown (1997)', 1)]\n"
     ]
    }
   ],
   "source": [
    "# use the RDD in previous step to create (movie,1) tuple pair RDD\n",
    "rdd_title_rating = rdd_movid_title_rating.map(lambda x: (x[1][1],1 ))\n",
    "print(\"rdd_title_rating:\",rdd_title_rating.take(2))"
   ]
  },
  {
   "cell_type": "code",
   "execution_count": 13,
   "metadata": {},
   "outputs": [
    {
     "name": "stdout",
     "output_type": "stream",
     "text": [
      "rdd_title_ratingcnt: [('Jackie Brown (1997)', 126), ('Jungle Book, The (1994)', 85)]\n"
     ]
    }
   ],
   "source": [
    "# Use the reduceByKey transformation to reduce on the basis of movie_title\n",
    "rdd_title_ratingcnt = rdd_title_rating.reduceByKey(lambda x,y: x+y)\n",
    "print(\"rdd_title_ratingcnt:\",rdd_title_ratingcnt.take(2))"
   ]
  },
  {
   "cell_type": "code",
   "execution_count": 16,
   "metadata": {},
   "outputs": [
    {
     "name": "stdout",
     "output_type": "stream",
     "text": [
      "#####################################\n",
      "#####################################\n"
     ]
    }
   ],
   "source": [
    "# Get the final answer by using takeOrdered Transformation\n",
    "print (\"#####################################\")\n",
    "# print (\"25 most rated movies:\",rdd_title_ratingcnt.takeOrdered(25,lambda x:-x[1]))\n",
    "print (\"#####################################\")"
   ]
  },
  {
   "cell_type": "code",
   "execution_count": null,
   "metadata": {},
   "outputs": [],
   "source": []
  },
  {
   "cell_type": "code",
   "execution_count": null,
   "metadata": {},
   "outputs": [],
   "source": []
  }
 ],
 "metadata": {
  "kernelspec": {
   "display_name": "Python 3",
   "language": "python",
   "name": "python3"
  },
  "language_info": {
   "codemirror_mode": {
    "name": "ipython",
    "version": 3
   },
   "file_extension": ".py",
   "mimetype": "text/x-python",
   "name": "python",
   "nbconvert_exporter": "python",
   "pygments_lexer": "ipython3",
   "version": "3.7.5"
  }
 },
 "nbformat": 4,
 "nbformat_minor": 2
}
