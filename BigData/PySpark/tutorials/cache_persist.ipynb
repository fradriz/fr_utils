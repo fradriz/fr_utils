{
 "cells": [
  {
   "cell_type": "markdown",
   "metadata": {},
   "source": [
    "# Persist & Cache\n",
    "Trying to understand how to use persist/cache in pyspark\n",
    "\n",
    "http://spark.apache.org/docs/latest/rdd-programming-guide.html#rdd-persistence\n",
    "\n",
    "**Check persist in the UI:** https://jaceklaskowski.gitbooks.io/mastering-spark-sql/spark-sql-caching-and-persistence.html \n",
    "\n",
    "**Explain using persist:** https://stackoverflow.com/questions/44156365/when-to-cache-a-dataframe\n",
    "\n",
    "Spark gives 5 types of Storage level: MEMORY_ONLY, MEMORY_ONLY_SER, MEMORY_AND_DISK, MEMORY_AND_DISK_SER, DISK_ONLY\n",
    "\n",
    "cache() will use MEMORY_AND_DISK. If you want to use something else, use persist(StorageLevel.<*type*>).\n",
    "\n",
    "By default persist() will store the data in the JVM heap as unserialized objects.\n",
    "\n",
    "*Note: In **Python**, stored objects will always be serialized with the `Pickle` library, so it does not matter whether you choose a serialized level. The available storage levels in Python include MEMORY_ONLY, MEMORY_AND_DISK (cache), DISK_ONLY, and its '_2' versions.*\n",
    "\n",
    "\n",
    "**Important:** cache/persist is lazy and so nothing happens until peforming an action (like count)"
   ]
  },
  {
   "cell_type": "markdown",
   "metadata": {},
   "source": [
    "Read the data and putting in a df"
   ]
  },
  {
   "cell_type": "code",
   "execution_count": 1,
   "metadata": {},
   "outputs": [
    {
     "name": "stdout",
     "output_type": "stream",
     "text": [
      "+--------------------+----------+----------+--------+------------+\n",
      "|                 psn|first_seen| last_seen|num_days|     segment|\n",
      "+--------------------+----------+----------+--------+------------+\n",
      "|1900084E030E0C004...|2020-01-23|2020-01-23|       1|       advil|\n",
      "|220022940313EE005...|2019-11-05|2019-11-05|       1|topicalCreme|\n",
      "|180053FE031130000...|2019-08-15|2020-01-23|       3|intAnalgesic|\n",
      "|1D00F786030E0C002...|2019-08-15|2020-01-23|       3|intAnalgesic|\n",
      "|1200B6D4031129000...|2019-08-15|2020-01-23|       3|intAnalgesic|\n",
      "+--------------------+----------+----------+--------+------------+\n",
      "only showing top 5 rows\n",
      "\n"
     ]
    }
   ],
   "source": [
    "pp = \"s3a://client-gsk-gsk-us-9979/toolbox-output/idmap/20200416170301KapilSharma/idmap/idspace=epsilon/\"\n",
    "df = spark.read.parquet(pp)\n",
    "df.show(5)"
   ]
  },
  {
   "cell_type": "markdown",
   "metadata": {},
   "source": [
    "**Which storage level is using 'df'?**\n",
    "\n",
    "We can see below, that df is not chached at all"
   ]
  },
  {
   "cell_type": "code",
   "execution_count": 2,
   "metadata": {},
   "outputs": [
    {
     "data": {
      "text/plain": [
       "StorageLevel(False, False, False, False, 1)"
      ]
     },
     "execution_count": 2,
     "metadata": {},
     "output_type": "execute_result"
    }
   ],
   "source": [
    "df.storageLevel"
   ]
  },
  {
   "cell_type": "code",
   "execution_count": 22,
   "metadata": {},
   "outputs": [
    {
     "name": "stdout",
     "output_type": "stream",
     "text": [
      "Serialized 1x Replicated\n"
     ]
    }
   ],
   "source": [
    "print(df.storageLevel)"
   ]
  },
  {
   "cell_type": "markdown",
   "metadata": {},
   "source": [
    "Ok, the data is in 'df' but is not all the data (remember that spark is lazy !)\n",
    "\n",
    "Now I want to filter the data an assign it to df2, but now the new df is going to be small.\n",
    "\n",
    "If I don't use cache (or persist), then the filter is not going to 'stay' and it will still use the whole data to do the grouping below, which is very expensive operation."
   ]
  },
  {
   "cell_type": "code",
   "execution_count": 3,
   "metadata": {},
   "outputs": [],
   "source": [
    "df.createOrReplaceTempView(\"idmap_out_epsilon\")"
   ]
  },
  {
   "cell_type": "code",
   "execution_count": 4,
   "metadata": {},
   "outputs": [
    {
     "name": "stdout",
     "output_type": "stream",
     "text": [
      "CPU times: user 1.56 ms, sys: 0 ns, total: 1.56 ms\n",
      "Wall time: 2.49 s\n"
     ]
    }
   ],
   "source": [
    "%%time\n",
    "df2 = spark.sql(\"\"\"\n",
    "    select \n",
    "        * \n",
    "    from \n",
    "        idmap_out_epsilon \n",
    "    where \n",
    "        psn like '2A00467D030E0C00829114' \n",
    "    order by\n",
    "        segment\"\"\").cache()"
   ]
  },
  {
   "cell_type": "markdown",
   "metadata": {},
   "source": [
    "### What storage level is using 'df2'?\n",
    "\n",
    "We can see that it is: StorageLevel(True, True, False, True, 1)\n",
    "\n",
    "Which means:\n",
    "* MEMORY_ONLY -> True\n",
    "* MEMORY_ONLY_SER -> True\n",
    "* MEMORY_AND_DISK\n",
    "* MEMORY_AND_DISK_SER -> True\n",
    "* DISK_ONLY\n"
   ]
  },
  {
   "cell_type": "code",
   "execution_count": 5,
   "metadata": {},
   "outputs": [
    {
     "data": {
      "text/plain": [
       "StorageLevel(True, True, False, True, 1)"
      ]
     },
     "execution_count": 5,
     "metadata": {},
     "output_type": "execute_result"
    }
   ],
   "source": [
    "df2.storageLevel"
   ]
  },
  {
   "cell_type": "code",
   "execution_count": 48,
   "metadata": {},
   "outputs": [
    {
     "name": "stdout",
     "output_type": "stream",
     "text": [
      "Memory Serialized 1x Replicated\n"
     ]
    }
   ],
   "source": [
    "print(df2.storageLevel)"
   ]
  },
  {
   "cell_type": "code",
   "execution_count": 65,
   "metadata": {},
   "outputs": [
    {
     "data": {
      "text/plain": [
       "DataFrame[psn: string, first_seen: date, last_seen: date, num_days: bigint, segment: string]"
      ]
     },
     "execution_count": 65,
     "metadata": {},
     "output_type": "execute_result"
    }
   ],
   "source": [
    "df2.unpersist()        # To disable the cache i did before"
   ]
  },
  {
   "cell_type": "code",
   "execution_count": 66,
   "metadata": {},
   "outputs": [
    {
     "data": {
      "text/plain": [
       "StorageLevel(True, True, False, False, 1)"
      ]
     },
     "execution_count": 66,
     "metadata": {},
     "output_type": "execute_result"
    }
   ],
   "source": [
    "# Using persist ...\n",
    "from pyspark import StorageLevel\n",
    "# df2.persist(storageLevel=StorageLevel(False, True, False, True, 1)).storageLevel\n",
    "df2.unpersist()  \n",
    "df2.persist(storageLevel=StorageLevel.MEMORY_AND_DISK).storageLevel\n",
    "df2.cache().storageLevel"
   ]
  },
  {
   "cell_type": "code",
   "execution_count": 67,
   "metadata": {},
   "outputs": [
    {
     "name": "stdout",
     "output_type": "stream",
     "text": [
      "Disk Memory Serialized 1x Replicated\n"
     ]
    }
   ],
   "source": [
    "print(df2.storageLevel)"
   ]
  },
  {
   "cell_type": "markdown",
   "metadata": {},
   "source": [
    "| StorageLevel (name)| StorageLevel(bool) |Description | Comment |\n",
    "| --- | --- | --- | --- |\n",
    "| |StorageLevel(True, True, False, True, 1) | Disk Memory Deserialized 1x Replicated| This is the one when using cache() |\n",
    "| |StorageLevel(False, True, False, True, 1) | Memory Deserialized 1x Replicated| |\n",
    "|DISK_ONLY | StorageLevel(True, False, False, False, 1) | Disk Serialized 1x Replicated||\n",
    "|MEMORY_AND_DISK| StorageLevel(True, True, False, False, 1) | Disk Memory Serialized 1x Replicated||\n",
    "|MEMORY_ONLY | StorageLevel(False, True, False, False, 1) | Memory Serialized 1x Replicated||\n",
    "|OFF_HEAP | StorageLevel(True, True, True, False, 1) | Disk Memory OffHeap Serialized 1x Replicated||"
   ]
  },
  {
   "cell_type": "markdown",
   "metadata": {},
   "source": [
    "Notice the 'cache' key word - This is making the access to the data really fast and don't need to write and read it from disk."
   ]
  },
  {
   "cell_type": "code",
   "execution_count": 29,
   "metadata": {},
   "outputs": [
    {
     "name": "stdout",
     "output_type": "stream",
     "text": [
      "CPU times: user 9.91 ms, sys: 811 µs, total: 10.7 ms\n",
      "Wall time: 33.8 s\n"
     ]
    },
    {
     "data": {
      "text/html": [
       "<div>\n",
       "<style scoped>\n",
       "    .dataframe tbody tr th:only-of-type {\n",
       "        vertical-align: middle;\n",
       "    }\n",
       "\n",
       "    .dataframe tbody tr th {\n",
       "        vertical-align: top;\n",
       "    }\n",
       "\n",
       "    .dataframe thead th {\n",
       "        text-align: right;\n",
       "    }\n",
       "</style>\n",
       "<table border=\"1\" class=\"dataframe\">\n",
       "  <thead>\n",
       "    <tr style=\"text-align: right;\">\n",
       "      <th></th>\n",
       "      <th>psn</th>\n",
       "      <th>first_seen</th>\n",
       "      <th>last_seen</th>\n",
       "      <th>num_days</th>\n",
       "      <th>segment</th>\n",
       "    </tr>\n",
       "  </thead>\n",
       "  <tbody>\n",
       "    <tr>\n",
       "      <th>0</th>\n",
       "      <td>2A00467D030E0C00829114</td>\n",
       "      <td>2019-11-05</td>\n",
       "      <td>2020-01-23</td>\n",
       "      <td>2</td>\n",
       "      <td>advil</td>\n",
       "    </tr>\n",
       "    <tr>\n",
       "      <th>1</th>\n",
       "      <td>2A00467D030E0C00829114</td>\n",
       "      <td>2019-08-15</td>\n",
       "      <td>2019-08-15</td>\n",
       "      <td>1</td>\n",
       "      <td>advil</td>\n",
       "    </tr>\n",
       "    <tr>\n",
       "      <th>2</th>\n",
       "      <td>2A00467D030E0C00829114</td>\n",
       "      <td>2020-01-23</td>\n",
       "      <td>2020-01-23</td>\n",
       "      <td>1</td>\n",
       "      <td>advil</td>\n",
       "    </tr>\n",
       "    <tr>\n",
       "      <th>3</th>\n",
       "      <td>2A00467D030E0C00829114</td>\n",
       "      <td>2019-08-15</td>\n",
       "      <td>2020-01-23</td>\n",
       "      <td>3</td>\n",
       "      <td>advil</td>\n",
       "    </tr>\n",
       "    <tr>\n",
       "      <th>4</th>\n",
       "      <td>2A00467D030E0C00829114</td>\n",
       "      <td>2019-08-15</td>\n",
       "      <td>2020-01-23</td>\n",
       "      <td>2</td>\n",
       "      <td>advil</td>\n",
       "    </tr>\n",
       "  </tbody>\n",
       "</table>\n",
       "</div>"
      ],
      "text/plain": [
       "                      psn  first_seen   last_seen  num_days segment\n",
       "0  2A00467D030E0C00829114  2019-11-05  2020-01-23         2   advil\n",
       "1  2A00467D030E0C00829114  2019-08-15  2019-08-15         1   advil\n",
       "2  2A00467D030E0C00829114  2020-01-23  2020-01-23         1   advil\n",
       "3  2A00467D030E0C00829114  2019-08-15  2020-01-23         3   advil\n",
       "4  2A00467D030E0C00829114  2019-08-15  2020-01-23         2   advil"
      ]
     },
     "execution_count": 29,
     "metadata": {},
     "output_type": "execute_result"
    }
   ],
   "source": [
    "%%time\n",
    "df2.limit(5).toPandas()"
   ]
  },
  {
   "cell_type": "code",
   "execution_count": 8,
   "metadata": {},
   "outputs": [],
   "source": [
    "df2.createOrReplaceTempView(\"lim_epsi\")"
   ]
  },
  {
   "cell_type": "code",
   "execution_count": 9,
   "metadata": {},
   "outputs": [
    {
     "name": "stdout",
     "output_type": "stream",
     "text": [
      "+-------------------------------------------------------------+\n",
      "|count(DISTINCT psn, first_seen, last_seen, num_days, segment)|\n",
      "+-------------------------------------------------------------+\n",
      "|                                                           38|\n",
      "+-------------------------------------------------------------+\n",
      "\n",
      "CPU times: user 1.79 ms, sys: 0 ns, total: 1.79 ms\n",
      "Wall time: 95.9 ms\n"
     ]
    }
   ],
   "source": [
    "%%time\n",
    "spark.sql(\"\"\"\n",
    "    select \n",
    "        count(distinct *) \n",
    "    from \n",
    "        lim_epsi \n",
    "    \"\"\").show()"
   ]
  },
  {
   "cell_type": "code",
   "execution_count": 10,
   "metadata": {},
   "outputs": [
    {
     "name": "stdout",
     "output_type": "stream",
     "text": [
      "CPU times: user 4.26 ms, sys: 104 µs, total: 4.36 ms\n",
      "Wall time: 278 ms\n"
     ]
    },
    {
     "data": {
      "text/html": [
       "<div>\n",
       "<style scoped>\n",
       "    .dataframe tbody tr th:only-of-type {\n",
       "        vertical-align: middle;\n",
       "    }\n",
       "\n",
       "    .dataframe tbody tr th {\n",
       "        vertical-align: top;\n",
       "    }\n",
       "\n",
       "    .dataframe thead th {\n",
       "        text-align: right;\n",
       "    }\n",
       "</style>\n",
       "<table border=\"1\" class=\"dataframe\">\n",
       "  <thead>\n",
       "    <tr style=\"text-align: right;\">\n",
       "      <th></th>\n",
       "      <th>psn</th>\n",
       "      <th>min(first_seen)</th>\n",
       "      <th>max(last_seen)</th>\n",
       "    </tr>\n",
       "  </thead>\n",
       "  <tbody>\n",
       "    <tr>\n",
       "      <th>0</th>\n",
       "      <td>2A00467D030E0C00829114</td>\n",
       "      <td>2019-08-15</td>\n",
       "      <td>2020-01-23</td>\n",
       "    </tr>\n",
       "  </tbody>\n",
       "</table>\n",
       "</div>"
      ],
      "text/plain": [
       "                      psn min(first_seen) max(last_seen)\n",
       "0  2A00467D030E0C00829114      2019-08-15     2020-01-23"
      ]
     },
     "execution_count": 10,
     "metadata": {},
     "output_type": "execute_result"
    }
   ],
   "source": [
    "%%time\n",
    "spark.sql(\"\"\"\n",
    "    select \n",
    "        psn, min(first_seen), max(last_seen)\n",
    "    from \n",
    "        lim_epsi \n",
    "    group by\n",
    "        psn\n",
    "    \"\"\").toPandas()"
   ]
  },
  {
   "cell_type": "code",
   "execution_count": 8,
   "metadata": {},
   "outputs": [
    {
     "name": "stdout",
     "output_type": "stream",
     "text": [
      "Help on method persist in module pyspark.sql.dataframe:\n",
      "\n",
      "persist(storageLevel=StorageLevel(True, True, False, False, 1)) method of pyspark.sql.dataframe.DataFrame instance\n",
      "    Sets the storage level to persist the contents of the :class:`DataFrame` across\n",
      "    operations after the first time it is computed. This can only be used to assign\n",
      "    a new storage level if the :class:`DataFrame` does not have a storage level set yet.\n",
      "    If no storage level is specified defaults to (C{MEMORY_AND_DISK}).\n",
      "    \n",
      "    .. note:: The default storage level has changed to C{MEMORY_AND_DISK} to match Scala in 2.0.\n",
      "    \n",
      "    .. versionadded:: 1.3\n",
      "\n"
     ]
    }
   ],
   "source": [
    "help (df2.persist)"
   ]
  }
 ],
 "metadata": {
  "kernelspec": {
   "display_name": "Python 3",
   "language": "python",
   "name": "python3"
  },
  "language_info": {
   "codemirror_mode": {
    "name": "ipython",
    "version": 3
   },
   "file_extension": ".py",
   "mimetype": "text/x-python",
   "name": "python",
   "nbconvert_exporter": "python",
   "pygments_lexer": "ipython3",
   "version": "3.7.5"
  }
 },
 "nbformat": 4,
 "nbformat_minor": 4
}
