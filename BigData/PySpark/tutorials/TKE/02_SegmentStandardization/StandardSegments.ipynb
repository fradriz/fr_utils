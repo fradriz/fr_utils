{
 "cells": [
  {
   "cell_type": "markdown",
   "metadata": {},
   "source": [
    "# Standard Segment File\n",
    "Data arrives in many different formats and shapes, but our application requires that all data be transformed into a standard format with all necessary information included.\n",
    "\n",
    "In this example, the vendor is providing data on past purchases from their pet store.\n",
    "\n",
    "We are provided with two files.\n",
    "1. **Product-Map:** matches the segment ID to the text description\n",
    "2. **User-Segments:** table with users and their associated purchase segment history\n",
    "\n",
    "Given these two tables, we need to create a process generate the following output:\n",
    "\n",
    "user_id | segment_id | segment_name\n",
    "---|---|---\n",
    "\t6420629a-b302-487a-8413-3c8f8a6856cb | 4997 | Cat Furniture\n",
    "    6420629a-b302-487a-8413-3c8f8a6856cb | 5001 | Cat Toys\n",
    "    \n",
    "## Requirements:\n",
    "- Please write the code to solve this problem in a distributed language like Apache Spark, or Hive\n",
    "- Keep in mind that this is a sample file from the vendor and that the real data will be much larger, so efficiency matters!"
   ]
  },
  {
   "cell_type": "code",
   "execution_count": null,
   "metadata": {},
   "outputs": [],
   "source": []
  }
 ],
 "metadata": {
  "kernelspec": {
   "display_name": "Python3 (sys)",
   "language": "python",
   "name": "python3"
  },
  "language_info": {
   "codemirror_mode": {
    "name": "ipython",
    "version": 3
   },
   "file_extension": ".py",
   "mimetype": "text/x-python",
   "name": "python",
   "nbconvert_exporter": "python",
   "pygments_lexer": "ipython3",
   "version": "3.6.4"
  }
 },
 "nbformat": 4,
 "nbformat_minor": 2
}
