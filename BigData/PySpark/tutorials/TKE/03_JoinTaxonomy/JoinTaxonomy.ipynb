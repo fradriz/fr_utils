{
 "cells": [
  {
   "cell_type": "markdown",
   "metadata": {},
   "source": [
    "# JoinTaxonomy\n",
    "Often our data is delivered in three parts:\n",
    "    \n",
    "    * idmap - table to map IDs from a source to a common ID space.\n",
    "    * event - transactional event table that contains often contains a timestamp, a source id, and some action\n",
    "    * taxonomy - a look up table to join metadata to the event table\n",
    "    \n",
    "We need to design a process to join these tables together however, we only want to retain classifications from taxonomy table that have a probability of > 0.5.\n",
    "\n",
    "The desired output will look like:\n",
    "\n",
    "|user\\_id|latitude\\_longitude|place\\_category|\n",
    "|---|---|---|\n",
    "|e01d648a-e983-4ce8-885e-3395083a3ec7|[40.1009502, -94.2708051]|[grocery\\_store| flower\\_store]|\n",
    "|6cc88a06-abfc-47d2-a12c-2ccfe2ea39d4|[37.57553, -92.3118588]|[shopping\\_mall]|\n",
    "\n",
    "## Requirements\n",
    "- Please write the code to solve this problem in a distributed language like Apache Spark, or Hive\n",
    "    - UDFs may be written in Python if using Pyspark.\n",
    "- Keep in mind that this is a sample file from the vendor and that the real data will be much larger, so efficiency matters!\n"
   ]
  },
  {
   "cell_type": "code",
   "execution_count": null,
   "metadata": {},
   "outputs": [],
   "source": []
  }
 ],
 "metadata": {
  "kernelspec": {
   "display_name": "Python3 (sys)",
   "language": "python",
   "name": "python3"
  },
  "language_info": {
   "codemirror_mode": {
    "name": "ipython",
    "version": 3
   },
   "file_extension": ".py",
   "mimetype": "text/x-python",
   "name": "python",
   "nbconvert_exporter": "python",
   "pygments_lexer": "ipython3",
   "version": "3.6.4"
  }
 },
 "nbformat": 4,
 "nbformat_minor": 2
}
