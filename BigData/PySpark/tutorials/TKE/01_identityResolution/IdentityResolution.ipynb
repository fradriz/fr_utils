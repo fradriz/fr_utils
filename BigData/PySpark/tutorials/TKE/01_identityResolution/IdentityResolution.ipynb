{
 "cells": [
  {
   "cell_type": "markdown",
   "metadata": {},
   "source": [
    "# Identity Resolution\n",
    "Our application requires data to be ingested from multiple sources and linked together across ID's. It is common for two data sets to not have unique matches. This means that one ID in a single source could match to multiple ID's in another source.\n",
    "\n",
    "In order for our application to operate correctly and represent the most accurate identites, we need to resolve the identities across these sources each day.\n",
    "\n",
    "We need to design a process that will ensure that we are able to reprocess the identities efficiently each day.\n",
    "\n",
    "The desired output will look like:\n",
    "\n",
    "user_id | user_id_creation_date | id_type | id | creation_date\n",
    "---|---|---|---|---\n",
    "7c967b32-fd72-42c4-a825-a5083b952b00 | 2019-01-01 | source_id | 122f2a7bb8644ca4ab3d61b2affd951d | 2019-01-01\n",
    "7c967b32-fd72-42c4-a825-a5083b952b00 | 2019-01-01 |user_id | 7e9be255-32c4-4ec3-a9a6-c3f51cffa656 | 2019-01-02\n",
    "\n",
    "## Requirements\n",
    "- We always keep the first (earliest date) of a 'user_id' even if we have a match to a new one\n",
    "- Please write the code to solve this problem in a distributed language like Apache Spark, or Hive\n",
    "- Keep in mind that this is a sample file from the vendor and that the real data will be much larger, so efficiency matters!\n"
   ]
  },
  {
   "cell_type": "code",
   "execution_count": null,
   "metadata": {},
   "outputs": [],
   "source": []
  }
 ],
 "metadata": {
  "kernelspec": {
   "display_name": "Python3 (sys)",
   "language": "python",
   "name": "python3"
  },
  "language_info": {
   "codemirror_mode": {
    "name": "ipython",
    "version": 3
   },
   "file_extension": ".py",
   "mimetype": "text/x-python",
   "name": "python",
   "nbconvert_exporter": "python",
   "pygments_lexer": "ipython3",
   "version": "3.6.4"
  }
 },
 "nbformat": 4,
 "nbformat_minor": 2
}
