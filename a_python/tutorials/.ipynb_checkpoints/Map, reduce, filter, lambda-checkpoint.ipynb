{
 "cells": [
  {
   "cell_type": "markdown",
   "metadata": {},
   "source": [
    "# Map, reduce, filter y lambda\n",
    "\n",
    "Un poco de manejo con estas funciones\n",
    "\n",
    "Ejemplos sacados de [aca](https://www.python-course.eu/lambda.php) y [aca](https://www.youtube.com/watch?v=cKlnR-CB3tk)\n",
    "\n",
    "* map: Para iterar sobre una lista\n",
    "* filter: Iterar sobre una lista pero filtrando el resultado\n",
    "* reduce: **Agrupa** el resultado de una lista\n",
    "* lambda: Para aplicar una función."
   ]
  },
  {
   "cell_type": "code",
   "execution_count": 1,
   "metadata": {
    "collapsed": true
   },
   "outputs": [],
   "source": [
    "# Given this list\n",
    "lista = [2, 18, 9, 22, 17, 24, 8, 12, 27]"
   ]
  },
  {
   "cell_type": "markdown",
   "metadata": {},
   "source": [
    "## Apply a function to an input\n",
    "### Using map"
   ]
  },
  {
   "cell_type": "code",
   "execution_count": 14,
   "metadata": {},
   "outputs": [
    {
     "name": "stdout",
     "output_type": "stream",
     "text": [
      "[102, 118, 109, 122, 117, 124, 108, 112, 127]\n"
     ]
    }
   ],
   "source": [
    "# A way to use map. First define a function with ONLY one argument\n",
    "def func_test(a):\n",
    "    return a+100\n",
    "\n",
    "# Now using it\n",
    "r = []\n",
    "for l in lista:\n",
    "    r.append(func_test(l))\n",
    "    \n",
    "print(r)"
   ]
  },
  {
   "cell_type": "code",
   "execution_count": 15,
   "metadata": {},
   "outputs": [
    {
     "data": {
      "text/plain": [
       "[102, 118, 109, 122, 117, 124, 108, 112, 127]"
      ]
     },
     "execution_count": 15,
     "metadata": {},
     "output_type": "execute_result"
    }
   ],
   "source": [
    "# Using map to iterate over the whole list: map(function, list) and showing using 'list'\n",
    "list(map (func_test,lista))"
   ]
  },
  {
   "cell_type": "markdown",
   "metadata": {},
   "source": [
    "As we can see, **using map function is much more simple** in the code than using a for loop."
   ]
  },
  {
   "cell_type": "markdown",
   "metadata": {},
   "source": [
    "### Now using lambda function to do the same\n",
    "\n",
    "Use of **lambda**: \n",
    "* lambda x: *f(x)*, scalar_input\n",
    "* map(lambda x: *f(x)*, list)\n",
    "\n",
    "Where:\n",
    "* f(x) is a function of x (scalar or list)\n"
   ]
  },
  {
   "cell_type": "code",
   "execution_count": 32,
   "metadata": {},
   "outputs": [
    {
     "data": {
      "text/plain": [
       "[102, 118, 109, 122, 117, 124, 108, 112, 127]"
      ]
     },
     "execution_count": 32,
     "metadata": {},
     "output_type": "execute_result"
    }
   ],
   "source": [
    "list(map(lambda x : x + 100, lista))"
   ]
  },
  {
   "cell_type": "markdown",
   "metadata": {},
   "source": [
    "**In one line we solved the same problem than before with 6 lines.**"
   ]
  },
  {
   "cell_type": "markdown",
   "metadata": {},
   "source": [
    "## Find (filter) multiples of 3 and print them\n",
    "\n",
    "Now, instead of using *map(lambda x: f(x), list)* we'll use **filter(lambda x: f(x), list)**\n",
    "\n",
    "Con 'filter', lambda pasa a ser un función de condición no de transformación de los datos."
   ]
  },
  {
   "cell_type": "code",
   "execution_count": 9,
   "metadata": {},
   "outputs": [
    {
     "data": {
      "text/plain": [
       "[18, 9, 24, 12, 27]"
      ]
     },
     "execution_count": 9,
     "metadata": {},
     "output_type": "execute_result"
    }
   ],
   "source": [
    "#print(list(filter(lambda x: x % 3 == 0, lista)))      #Si no se pone 'list' muestra un código (debe ser un puntero a memoria)\n",
    "\n",
    "list(filter(lambda x: x % 3 == 0, lista))"
   ]
  },
  {
   "cell_type": "markdown",
   "metadata": {},
   "source": [
    "## Apply any numerical function to a given variable"
   ]
  },
  {
   "cell_type": "code",
   "execution_count": 25,
   "metadata": {},
   "outputs": [
    {
     "data": {
      "text/plain": [
       "8"
      ]
     },
     "execution_count": 25,
     "metadata": {},
     "output_type": "execute_result"
    }
   ],
   "source": [
    "# Example in traditional way\n",
    "def mx(x,y):\n",
    "    if x > y:\n",
    "        return x\n",
    "    else:\n",
    "        return y\n",
    "    \n",
    "mx(8,5)"
   ]
  },
  {
   "cell_type": "code",
   "execution_count": 26,
   "metadata": {},
   "outputs": [
    {
     "data": {
      "text/plain": [
       "8"
      ]
     },
     "execution_count": 26,
     "metadata": {},
     "output_type": "execute_result"
    }
   ],
   "source": [
    "# Same using lambda function\n",
    "mx = lambda x,y: x if x > y else y\n",
    "\n",
    "mx(8,5)"
   ]
  },
  {
   "cell_type": "markdown",
   "metadata": {},
   "source": [
    "Another example"
   ]
  },
  {
   "cell_type": "code",
   "execution_count": 24,
   "metadata": {},
   "outputs": [
    {
     "name": "stdout",
     "output_type": "stream",
     "text": [
      "18\n"
     ]
    }
   ],
   "source": [
    "# Traditional way\n",
    "def g(a):\n",
    "    return a * 2 + 10\n",
    "\n",
    "print(g(4))"
   ]
  },
  {
   "cell_type": "code",
   "execution_count": 11,
   "metadata": {},
   "outputs": [
    {
     "data": {
      "text/plain": [
       "18"
      ]
     },
     "execution_count": 11,
     "metadata": {},
     "output_type": "execute_result"
    }
   ],
   "source": [
    "#Scalar variable\n",
    "g = lambda x: x * 2 + 10\n",
    "\n",
    "#print ((g(5)))         #Con esto puedo aplicar la func a un número. Para aplicar a una lista usar 'map'\n",
    "\n",
    "g(4)"
   ]
  },
  {
   "cell_type": "markdown",
   "metadata": {},
   "source": [
    "Now, using lambda in a list"
   ]
  },
  {
   "cell_type": "code",
   "execution_count": 16,
   "metadata": {},
   "outputs": [
    {
     "data": {
      "text/plain": [
       "[14, 46, 28, 54, 44, 58, 26, 34, 64]"
      ]
     },
     "execution_count": 16,
     "metadata": {},
     "output_type": "execute_result"
    }
   ],
   "source": [
    "#Apply to whole list of numbers\n",
    "#print(list(map(lambda x: x * 2 + 10, lista)))\n",
    "\n",
    "list(map(lambda x: x * 2 + 10, lista))"
   ]
  },
  {
   "cell_type": "markdown",
   "metadata": {},
   "source": [
    "## Using '*reduce*' in a list\n",
    "\n",
    "Add all the members of the list"
   ]
  },
  {
   "cell_type": "code",
   "execution_count": 20,
   "metadata": {},
   "outputs": [
    {
     "name": "stdout",
     "output_type": "stream",
     "text": [
      "139\n"
     ]
    }
   ],
   "source": [
    "# Traditional way\n",
    "r = 0 \n",
    "for l in lista:\n",
    "    r = r + l\n",
    "\n",
    "print(r)"
   ]
  },
  {
   "cell_type": "markdown",
   "metadata": {},
   "source": [
    "Using *reduce* will need two arguments 'x' which is the one being added and 'y' the new list member to add to 'x'"
   ]
  },
  {
   "cell_type": "code",
   "execution_count": 17,
   "metadata": {},
   "outputs": [
    {
     "ename": "TypeError",
     "evalue": "<lambda>() missing 1 required positional argument: 'y'",
     "output_type": "error",
     "traceback": [
      "\u001b[0;31m---------------------------------------------------------------------------\u001b[0m",
      "\u001b[0;31mTypeError\u001b[0m                                 Traceback (most recent call last)",
      "\u001b[0;32m<ipython-input-17-b7c52bc5caee>\u001b[0m in \u001b[0;36m<module>\u001b[0;34m()\u001b[0m\n\u001b[1;32m      2\u001b[0m \u001b[1;31m#print(list(map(lambda x, y: x + y, lista)))\u001b[0m\u001b[1;33m\u001b[0m\u001b[1;33m\u001b[0m\u001b[0m\n\u001b[1;32m      3\u001b[0m \u001b[1;33m\u001b[0m\u001b[0m\n\u001b[0;32m----> 4\u001b[0;31m \u001b[0mlist\u001b[0m\u001b[1;33m(\u001b[0m\u001b[0mmap\u001b[0m\u001b[1;33m(\u001b[0m\u001b[1;32mlambda\u001b[0m \u001b[0mx\u001b[0m\u001b[1;33m,\u001b[0m \u001b[0my\u001b[0m\u001b[1;33m:\u001b[0m \u001b[0mx\u001b[0m \u001b[1;33m+\u001b[0m \u001b[0my\u001b[0m\u001b[1;33m,\u001b[0m \u001b[0mlista\u001b[0m\u001b[1;33m)\u001b[0m\u001b[1;33m)\u001b[0m\u001b[1;33m\u001b[0m\u001b[0m\n\u001b[0m",
      "\u001b[0;31mTypeError\u001b[0m: <lambda>() missing 1 required positional argument: 'y'"
     ]
    }
   ],
   "source": [
    "# This won't work well\n",
    "#print(list(map(lambda x, y: x + y, lista)))\n",
    "\n",
    "list(map(lambda x, y: x + y, lista))"
   ]
  },
  {
   "cell_type": "code",
   "execution_count": 21,
   "metadata": {},
   "outputs": [
    {
     "data": {
      "text/plain": [
       "139"
      ]
     },
     "execution_count": 21,
     "metadata": {},
     "output_type": "execute_result"
    }
   ],
   "source": [
    "#To use reduce we need to import a library\n",
    "import functools as ft          #Reduce esta en esta libreria\n",
    "\n",
    "#print (ft.reduce(lambda x, y: x + y, lista))\n",
    "ft.reduce(lambda x, y: x + y, lista)"
   ]
  },
  {
   "cell_type": "code",
   "execution_count": 22,
   "metadata": {},
   "outputs": [
    {
     "data": {
      "text/plain": [
       "139"
      ]
     },
     "execution_count": 22,
     "metadata": {},
     "output_type": "execute_result"
    }
   ],
   "source": [
    "# This is better\n",
    "#print (sum(lista))\n",
    "sum(lista)"
   ]
  },
  {
   "cell_type": "markdown",
   "metadata": {},
   "source": [
    "## Example using in the TKE\n",
    "\n",
    "### Traditional way"
   ]
  },
  {
   "cell_type": "code",
   "execution_count": 109,
   "metadata": {
    "collapsed": true
   },
   "outputs": [],
   "source": [
    "import re\n",
    "\n",
    "lista = \"{'gas_station':0.43123171372877567, 'convenience store': 0.6912115124264568}\""
   ]
  },
  {
   "cell_type": "code",
   "execution_count": 110,
   "metadata": {},
   "outputs": [
    {
     "data": {
      "text/plain": [
       "['convenience store']"
      ]
     },
     "execution_count": 110,
     "metadata": {},
     "output_type": "execute_result"
    }
   ],
   "source": [
    "def places(s):    \n",
    "  s=str(s)\n",
    "  threshold = 0.5\n",
    "  output = []\n",
    "\n",
    "  try:\n",
    "    for d in s.split(','):\n",
    "        (key,val) = d.split(':')   \n",
    "        if (float(val[0:5]) > threshold):            \n",
    "            output = output + re.findall(r\"'(.*?)'\",key)\n",
    "            #output.append(re.findall(r\"'(.*?)'\",key))\n",
    "        \n",
    "  #If data doesn't come as expected, leave it empty and continue \n",
    "  except ValueError:\n",
    "      print(ValueError)\n",
    "      pass\n",
    "      \n",
    "  return output\n",
    "\n",
    "places(lista)"
   ]
  },
  {
   "cell_type": "markdown",
   "metadata": {},
   "source": [
    "### Using Map / Lambda"
   ]
  },
  {
   "cell_type": "code",
   "execution_count": 126,
   "metadata": {},
   "outputs": [
    {
     "data": {
      "text/plain": [
       "['convenience store']"
      ]
     },
     "execution_count": 126,
     "metadata": {},
     "output_type": "execute_result"
    }
   ],
   "source": [
    "#lista.split(',')\n",
    "\n",
    "uu = \"{'gas_station':0.43123171372877567\"\n",
    "dd = \" 'convenience store': 0.6912115124264568}\"\n",
    "\n",
    "f = lambda x: re.findall(r\"'(.*?)'\",x.split(':')[0]) if (float(x.split(':')[1][0:5])) > 0.2 else None\n",
    "\n",
    "#f(uu)\n",
    "f(dd)"
   ]
  },
  {
   "cell_type": "code",
   "execution_count": 111,
   "metadata": {},
   "outputs": [
    {
     "data": {
      "text/plain": [
       "[['gas_station'], ['convenience store']]"
      ]
     },
     "execution_count": 111,
     "metadata": {},
     "output_type": "execute_result"
    }
   ],
   "source": [
    "# Now, doing it in the whole list\n",
    "# USING: map(function, list)\n",
    "#       List: lista.split(',')\n",
    "#       Function:lambda x: re.findall(r\"'(.*?)'\",x.split(':')[0]) if (float(x.split(':')[1])) > 0.2 else None\n",
    "\n",
    "\n",
    "threshold = 0.2\n",
    "\n",
    "list(map(lambda x: re.findall(r\"'(.*?)'\",x.split(':')[0]) if (float(x.split(':')[1][0:5])) > threshold else None,lista.split(',')))"
   ]
  },
  {
   "cell_type": "markdown",
   "metadata": {},
   "source": [
    "### Using Comprehension lists - Listas por compresión"
   ]
  },
  {
   "cell_type": "code",
   "execution_count": 162,
   "metadata": {},
   "outputs": [
    {
     "name": "stdout",
     "output_type": "stream",
     "text": [
      "[['gas_station'], ['convenience store']]\n"
     ]
    }
   ],
   "source": [
    "# Esto funciona. Queda pendiente hacerlo más legible.\n",
    "\n",
    "# Asi se usa la lista por compresión [x for x in lista if x > threshold]\n",
    "# Lista = entrada.split(',') \n",
    "\n",
    "entrada = \"{'gas_station':0.43123171372877567, 'convenience store': 0.6912115124264568}\"\n",
    "# 'x' va a ser:{'gas_station':0.43123171372877567 por ej\n",
    "# lo que debe devolver => x.split(':')[0] (a esto hay que aplicarle el regex)\n",
    "# El valor a comparar con threshold: float(x.split(':')[1][0:5])\n",
    "\n",
    "# Pasamos de string a lista\n",
    "lst = entrada.split(',')\n",
    "\n",
    "threshold = 0.2\n",
    "sal = [re.findall(r\"'(.*?)'\",x.split(':')[0]) for x in lst if (float(x.split(':')[1][0:5])> threshold)]\n",
    "\n",
    "print(sal)"
   ]
  },
  {
   "cell_type": "markdown",
   "metadata": {},
   "source": [
    "The above code seems to do the same as the function one but, as we can see, it is a lot more complicated to follow.\n",
    "\n",
    "## Conclution\n",
    "\n",
    "Sometimes is better to use map/lambda and sometimes is not.\n",
    "\n",
    "Also, to handel errors (like try: except: statements) is better and clearer to use the traditional functions."
   ]
  }
 ],
 "metadata": {
  "anaconda-cloud": {},
  "kernelspec": {
   "display_name": "Python 3",
   "language": "python",
   "name": "python3"
  },
  "language_info": {
   "codemirror_mode": {
    "name": "ipython",
    "version": 3
   },
   "file_extension": ".py",
   "mimetype": "text/x-python",
   "name": "python",
   "nbconvert_exporter": "python",
   "pygments_lexer": "ipython3",
   "version": "3.7.3"
  }
 },
 "nbformat": 4,
 "nbformat_minor": 1
}
