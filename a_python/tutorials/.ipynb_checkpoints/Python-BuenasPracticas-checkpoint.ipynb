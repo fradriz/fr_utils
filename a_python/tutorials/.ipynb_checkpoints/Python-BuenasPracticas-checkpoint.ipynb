{
 "cells": [
  {
   "cell_type": "markdown",
   "metadata": {},
   "source": [
    "# Buenas Practicas en Python\n",
    "\n",
    ">Tutorial hecho por Gonzalo y Claudio en EFX y algunas cosas modificadas/agregadas por mi.\n",
    "\n",
    "## Algunas conclusiones valiosas\n",
    "\n",
    "* Si los valores de una lista no se van a modificar, usar tuplas (esta conclusión es de otro tutorial)\n",
    "\n",
    "\n",
    "* Usar diccionarios.\n",
    "\n",
    "\n",
    "* Al trabajar con listas, siempre que se pueda, usar este orden de preferencia:\n",
    "    * map/lambda\n",
    "    * listas por comprensión (problema de ciclo for)\n",
    "    * **NO USAR**: ciclos for tradicionales, son los menos performantes.\n",
    "\n",
    "\n",
    "* **No usar orientación a objetos** (clases, metodos, etc) por ser menos performante que map/lambda y diccionarios. "
   ]
  },
  {
   "cell_type": "markdown",
   "metadata": {},
   "source": [
    "## Concatenar valores en python"
   ]
  },
  {
   "cell_type": "code",
   "execution_count": 3,
   "metadata": {},
   "outputs": [
    {
     "name": "stdout",
     "output_type": "stream",
     "text": [
      "1230-JRDC\n"
     ]
    }
   ],
   "source": [
    "# Dada la siguiente lista\n",
    "lista = ['1','2','3','0','-','J','R','D','C']\n",
    "\n",
    "# Bien concatenada\n",
    "c = ''.join(lista)\n",
    "\n",
    "print (c)\n"
   ]
  },
  {
   "cell_type": "code",
   "execution_count": 6,
   "metadata": {},
   "outputs": [
    {
     "name": "stdout",
     "output_type": "stream",
     "text": [
      "1230-JRDC\n"
     ]
    }
   ],
   "source": [
    "# Mal concatenada\n",
    "concatenada = ''\n",
    "for s in lista:\n",
    "    concatenada += s\n",
    "\n",
    "print (concatenada)"
   ]
  },
  {
   "cell_type": "markdown",
   "metadata": {},
   "source": [
    "### Importar otros archivos .py\n",
    "\n",
    "Es más prolijo importar aquellas funciones que necesitamos anes que toda la librería\n",
    "\n",
    "**Bien**\n",
    "\n",
    "\timport nombre_archivo_ejemplo as nombre\n",
    "\tnombre.funcion\n",
    "\n",
    "\tfrom nombre_archivo_ejemplo import funcion\n",
    "\tfuncion\n",
    "\n",
    "**Mal**\n",
    "\n",
    "\tfrom nombre_archivo_ejemplo import *\n"
   ]
  },
  {
   "cell_type": "markdown",
   "metadata": {},
   "source": [
    "## Listas por comprension\n",
    "\n",
    "Para iterar y trabajar con todos los elementos de una lista, se pueden usar listas por comprensión.\n",
    "El resultado de aplicar una lista por comprensión es otra lista, la cual tiene el resultado de aplicarle una función los elementos que cumplen con la condición explicitada.\n",
    "\n",
    "Sintaxis:\n",
    "\n",
    "**Lista_comprension = [resultado_a_devolver ciclo_for condición_if]**\n"
   ]
  },
  {
   "cell_type": "markdown",
   "metadata": {},
   "source": [
    "#### Bien"
   ]
  },
  {
   "cell_type": "code",
   "execution_count": 11,
   "metadata": {},
   "outputs": [
    {
     "name": "stdout",
     "output_type": "stream",
     "text": [
      "Resultado de la suma\n",
      "6\n",
      "Resultado del filtrado\n",
      "[2, 3]\n"
     ]
    }
   ],
   "source": [
    "lista = [1,2,3]\n",
    "\n",
    "# Agregar valores sumando todos los valores de la lista\n",
    "suma = sum([x for x in lista])\n",
    "print(\"Resultado de la suma\")\n",
    "print(suma)\n",
    "\n",
    "# Filtrar valores, solo dejar los mayores a 1\n",
    "\n",
    "filt = [x for x in lista if x > 1]\n",
    "print(\"Resultado del filtrado\")\n",
    "print(filt)\n"
   ]
  },
  {
   "cell_type": "markdown",
   "metadata": {},
   "source": [
    "#### Mal - no hacer esto (es menos performante ??)"
   ]
  },
  {
   "cell_type": "code",
   "execution_count": 17,
   "metadata": {},
   "outputs": [
    {
     "name": "stdout",
     "output_type": "stream",
     "text": [
      "5\n"
     ]
    }
   ],
   "source": [
    "aux = 0\n",
    "\n",
    "for n in lista:\n",
    "    if n > 1:\n",
    "        aux += n\n",
    "        \n",
    "print (aux)"
   ]
  },
  {
   "cell_type": "markdown",
   "metadata": {},
   "source": [
    "La desventaja es que igualmente estamos usando un ciclo for para recorrer cada elemento de la lista, si bien es más performante usar listas por comprensión (ya que Python las trabaja de forma más óptima que con ciclos for y la función in()), no evitamos tener que usar un ciclo."
   ]
  },
  {
   "cell_type": "markdown",
   "metadata": {},
   "source": [
    "## Map / Lambda\n",
    "\n",
    "La función map recorre y aplica una función determinada sobre un conjunto de valores (Lista) y retorna una lista. \n",
    "\n",
    "**No se le puede pasar por parámetro ninguna variable a la función que invocamos desde la función map.** Si queremos realizar esto, se puede crear un diccionario en el scope global y luego, dentro de la función que llamamos desde la función map, hacer uso de este diccionario según corresponda.\n",
    "\n",
    "Sintaxis:\n",
    "    \n",
    "    map(funcion, lista)   # funcion debe definirse antes\n",
    "    \n",
    "    map(lambda x:< >, lista)"
   ]
  },
  {
   "cell_type": "markdown",
   "metadata": {},
   "source": [
    "Según Claudio y Gonzalo, usar map/lambda es más performante que usar listas por comprensión (yo no lo verifique).\n",
    "\n",
    "a) *Listas por comprensión:*\n",
    "\n",
    "**Saldo_cuotas_eq_0 = len([x for x in variables_tarjetas['saldo_cuotas_ult'] if x == 0 ])**\n",
    "\n",
    "b) *Map y lambda:*\n",
    "\n",
    "**Saldo_cuotas_eq_0 = sum(map(lambda x: 1 if x == 0 else 0,variables_tarjetas['saldo_cuotas_ult']))**\n",
    "\n",
    "Si bien ambos códigos devolverán lo mismo, la diferencia reside en que no estamos usando un ciclo for.\n",
    "En una línea no vamos a notar mucha mejora de tiempos, pero si en el acumulado, en el código completo."
   ]
  },
  {
   "cell_type": "code",
   "execution_count": 26,
   "metadata": {},
   "outputs": [
    {
     "data": {
      "text/plain": [
       "6"
      ]
     },
     "execution_count": 26,
     "metadata": {},
     "output_type": "execute_result"
    }
   ],
   "source": [
    "#suma = sum([x for x in lista])\n",
    "def func(x):\n",
    "    return x\n",
    "\n",
    "# Con map se recorre toda la lista - la función devuelve el valor o puede realizar alguna operación.\n",
    "sum(map(func,lista))"
   ]
  },
  {
   "cell_type": "code",
   "execution_count": 30,
   "metadata": {},
   "outputs": [
    {
     "data": {
      "text/plain": [
       "6"
      ]
     },
     "execution_count": 30,
     "metadata": {},
     "output_type": "execute_result"
    }
   ],
   "source": [
    "# Ahora la función se hace usando lambda\n",
    "sum(map(lambda x:x ,lista))"
   ]
  },
  {
   "cell_type": "code",
   "execution_count": 34,
   "metadata": {},
   "outputs": [
    {
     "ename": "TypeError",
     "evalue": "<lambda>() missing 1 required positional argument: 'y'",
     "output_type": "error",
     "traceback": [
      "\u001b[0;31m---------------------------------------------------------------------------\u001b[0m",
      "\u001b[0;31mTypeError\u001b[0m                                 Traceback (most recent call last)",
      "\u001b[0;32m<ipython-input-34-518881239b75>\u001b[0m in \u001b[0;36m<module>\u001b[0;34m\u001b[0m\n\u001b[0;32m----> 1\u001b[0;31m \u001b[0mlist\u001b[0m\u001b[0;34m(\u001b[0m\u001b[0mmap\u001b[0m\u001b[0;34m(\u001b[0m\u001b[0;32mlambda\u001b[0m \u001b[0mx\u001b[0m\u001b[0;34m,\u001b[0m\u001b[0my\u001b[0m\u001b[0;34m:\u001b[0m\u001b[0mx\u001b[0m \u001b[0;34m+\u001b[0m \u001b[0my\u001b[0m \u001b[0;34m,\u001b[0m\u001b[0mlista\u001b[0m\u001b[0;34m)\u001b[0m\u001b[0;34m)\u001b[0m\u001b[0;34m\u001b[0m\u001b[0;34m\u001b[0m\u001b[0m\n\u001b[0m",
      "\u001b[0;31mTypeError\u001b[0m: <lambda>() missing 1 required positional argument: 'y'"
     ]
    }
   ],
   "source": [
    "# Esto da error\n",
    "list(map(lambda x,y:x + y ,lista))"
   ]
  },
  {
   "cell_type": "code",
   "execution_count": 36,
   "metadata": {},
   "outputs": [
    {
     "data": {
      "text/plain": [
       "6"
      ]
     },
     "execution_count": 36,
     "metadata": {},
     "output_type": "execute_result"
    }
   ],
   "source": [
    "# Para hacer lo anterior hay que usar reduce asi:\n",
    "import functools as ft                 #Reduce esta en esta libreria\n",
    "\n",
    "ft.reduce(lambda x,y:x + y ,lista)     # Se reemplaza 'map' por 'reduce' !!"
   ]
  },
  {
   "cell_type": "markdown",
   "metadata": {},
   "source": [
    "### Operaciones con la instancia de objeto None\n",
    "\n",
    "No se puede realizar ninguna operación matemática con alguna etiqueta que apunte a una instancia del objeto None.\n",
    "En otras palabras, no se pueden realizar las siguientes operaciones:\n",
    "\n",
    "A = None\n",
    "A*2\n",
    "A/2\n",
    "\n",
    "Tampoco se puede concatenar None\n",
    "\n",
    "print(\"texto:\" + None) -> da error\n",
    "\n",
    "Habría que hacer esto:\n",
    "print(\"texto:\" str(None))\n"
   ]
  },
  {
   "cell_type": "code",
   "execution_count": 48,
   "metadata": {},
   "outputs": [],
   "source": [
    "# Se puede hacer una función propia NVL\n",
    "#--------NVL-------------#\n",
    "def NVL(var, val):\n",
    "    if var is None:\n",
    "        return val\n",
    "    else:\n",
    "        return var"
   ]
  },
  {
   "cell_type": "markdown",
   "metadata": {},
   "source": [
    "#### Pero Python ya tiene implementado un NVL ..."
   ]
  },
  {
   "cell_type": "code",
   "execution_count": 49,
   "metadata": {},
   "outputs": [
    {
     "name": "stdout",
     "output_type": "stream",
     "text": [
      "0\n"
     ]
    }
   ],
   "source": [
    "# En estos casos, usará el valor de 'x' si no es None o False, sino será '0'\n",
    "x = 1\n",
    "x = None\n",
    "x = False\n",
    "\n",
    "print (x or 0)"
   ]
  },
  {
   "attachments": {},
   "cell_type": "markdown",
   "metadata": {},
   "source": [
    "### Variables globales vs diccionarios\n",
    "\n",
    "Al trabajar con variables globales, notamos que no siempre estaban llegando a todas las funciones, es decir, no siempre dentro del scope de una función lográbamos operar con el valor de alguna variable definida como global (global nombre_variable).\n",
    "\n",
    "En vez de eso, se usaron diccionarios, definidos dentro del scope global.\n",
    "De esta forma pudimos realizar un pasamano de variables transparente entre diferentes funciones a lo largo de todo el script en Python.\n",
    "\n",
    "El manejo de diccionarios nos resultó bastante performante a la hora de trabajar con estructuras que acumulen otras estructuras de datos (listas, tuplas, diccionarios o simples variables integer, float, string) categorizados bajo una misma fuente de datos.\n",
    "\n",
    "Además al parecer, *Python es poco performante  al momento de tener que mantener el seguimiento de las referencias a variables globales.*\n"
   ]
  },
  {
   "cell_type": "markdown",
   "metadata": {},
   "source": [
    "### Diccionarios: concatenación"
   ]
  },
  {
   "cell_type": "code",
   "execution_count": 51,
   "metadata": {},
   "outputs": [
    {
     "data": {
      "text/plain": [
       "{'dict_1_clave1': [], 'dict_1_clave2': [], 'dict_1_clave3': []}"
      ]
     },
     "execution_count": 51,
     "metadata": {},
     "output_type": "execute_result"
    }
   ],
   "source": [
    "# Dados estos diccionearios\n",
    "dict_1 = {'dict_1_clave1':[],'dict_1_clave2':[],'dict_1_clave3':[]}\n",
    "dict_2 = {'dict_2_clave1':[],'dict_2_clave2':[],'dict_2_clave3':[]}\n",
    "dict_3 = {'dict_3_clave1':[],'dict_3_clave2':[],'dict_3_clave3':[]}\n",
    "dict_4 = {'dict_4_clave1':[],'dict_4_clave2':[],'dict_4_clave3':[]}\n",
    "dict_5 = {'dict_5_clave1':[],'dict_5_clave2':[],'dict_5_clave3':[]}\n",
    "\n",
    "# Los queremos fusionar en el siguiente diccionario\n",
    "dict_fusion = {}\n",
    "\n",
    "dict_fusion = dict(dict_fusion, ** dict_1)\n",
    "dict_fusion"
   ]
  },
  {
   "cell_type": "code",
   "execution_count": 55,
   "metadata": {},
   "outputs": [
    {
     "data": {
      "text/plain": [
       "{'dict_1_clave1': [],\n",
       " 'dict_1_clave2': [],\n",
       " 'dict_1_clave3': [],\n",
       " 'dict_2_clave1': [],\n",
       " 'dict_2_clave2': [],\n",
       " 'dict_2_clave3': [],\n",
       " 'dict_3_clave1': [],\n",
       " 'dict_3_clave2': [],\n",
       " 'dict_3_clave3': [],\n",
       " 'dict_4_clave1': [],\n",
       " 'dict_4_clave2': [],\n",
       " 'dict_4_clave3': [],\n",
       " 'dict_5_clave1': [],\n",
       " 'dict_5_clave2': [],\n",
       " 'dict_5_clave3': []}"
      ]
     },
     "execution_count": 55,
     "metadata": {},
     "output_type": "execute_result"
    }
   ],
   "source": [
    "# fusionando con los otros:\n",
    "dict_fusion = dict(dict_fusion, ** dict_2)\n",
    "dict_fusion = dict(dict_fusion, ** dict_3)\n",
    "dict_fusion = dict(dict_fusion, ** dict_4)\n",
    "dict_fusion = dict(dict_fusion, ** dict_5)\n",
    "\n",
    "dict_fusion"
   ]
  },
  {
   "cell_type": "markdown",
   "metadata": {},
   "source": [
    "## Para verificar si una lista tiene aunque sea un valor/posición\n",
    "\n",
    "__Bien__:\n",
    "\n",
    "    If lista:\n",
    "\n",
    "__Mal 1__\n",
    "\n",
    "    If len(lista) > 0:\n",
    "\n",
    "__Mal 2__\n",
    "\t\t \n",
    "    If lista != []:\n",
    "    \n",
    "    \n",
    "En caso de necesitar saber si la lista tiene más de dos valores/posiciones, usar función len(), sino alcanza con preguntar por la lista en la condición.\n",
    "\n",
    "Para verificar por valores True o False\n",
    "\n",
    "__Bien__\n",
    "\t\t\n",
    "        If x:\n",
    "\n",
    "__Mal__\n",
    "\n",
    "        If x == True:\n"
   ]
  },
  {
   "attachments": {},
   "cell_type": "markdown",
   "metadata": {},
   "source": [
    "### Listas: Diferencia entre append y extend \n",
    "-**append** crea una nueva posición en la lista y agrega el objeto pasado por parámetro.\n",
    "\n",
    "-**extend** crea una nueva posición en la lista si el elemento pasado por parametro es un objeto no iterable (integer, float, string, etc), si el elemento es un objeto iterable (lista), agrega cada elemento del objeto iterable pasado por parámetro en una nueva posición. Es decir, **cambia el tipo de dato agregado de lista a objetos escalares**\n"
   ]
  },
  {
   "cell_type": "code",
   "execution_count": 57,
   "metadata": {},
   "outputs": [
    {
     "data": {
      "text/plain": [
       "['soy un string en la posicion 1',\n",
       " ['soy una lista en la posicion 2'],\n",
       " [1, 2, 3, 4, 5]]"
      ]
     },
     "execution_count": 57,
     "metadata": {},
     "output_type": "execute_result"
    }
   ],
   "source": [
    "#Ejemplo 1 - append\n",
    "lista_1 = [1,2,3,4,5]\n",
    "lista_3 = ['soy un string en la posicion 1',['soy una lista en la posicion 2']]\n",
    "\n",
    "lista_3.append(lista_1)\n",
    "\n",
    "lista_3\n"
   ]
  },
  {
   "cell_type": "code",
   "execution_count": 59,
   "metadata": {},
   "outputs": [
    {
     "data": {
      "text/plain": [
       "['soy un string en la posicion 1',\n",
       " ['soy una lista en la posicion 2'],\n",
       " 1,\n",
       " 2,\n",
       " 3,\n",
       " 4,\n",
       " 5]"
      ]
     },
     "execution_count": 59,
     "metadata": {},
     "output_type": "execute_result"
    }
   ],
   "source": [
    "# Ejemplo 2 - extend\n",
    "lista_1 = [1,2,3,4,5]\n",
    "lista_3 = ['soy un string en la posicion 1',['soy una lista en la posicion 2']]\n",
    "\n",
    "lista_3.extend(lista_1)\n",
    "lista_3"
   ]
  },
  {
   "cell_type": "code",
   "execution_count": 62,
   "metadata": {},
   "outputs": [
    {
     "data": {
      "text/plain": [
       "['soy un string en la posicion 1',\n",
       " ['soy una lista en la posicion 2'],\n",
       " 'dict_1_clave1',\n",
       " 'dict_1_clave2',\n",
       " 'dict_1_clave3']"
      ]
     },
     "execution_count": 62,
     "metadata": {},
     "output_type": "execute_result"
    }
   ],
   "source": [
    "#Agregamos un diccionario a la lista usando 'extend'\n",
    "lista_3 = ['soy un string en la posicion 1',['soy una lista en la posicion 2']]\n",
    "dict_1 = {'dict_1_clave1':[],'dict_1_clave2':[],'dict_1_clave3':[]}\n",
    "\n",
    "lista_3.extend(dict_1)\n",
    "lista_3"
   ]
  },
  {
   "cell_type": "code",
   "execution_count": 63,
   "metadata": {},
   "outputs": [
    {
     "data": {
      "text/plain": [
       "['soy un string en la posicion 1',\n",
       " ['soy una lista en la posicion 2'],\n",
       " {'dict_1_clave1': [], 'dict_1_clave2': [], 'dict_1_clave3': []}]"
      ]
     },
     "execution_count": 63,
     "metadata": {},
     "output_type": "execute_result"
    }
   ],
   "source": [
    "#Agregamos un diccionario a la lista usando 'append'\n",
    "lista_3 = ['soy un string en la posicion 1',['soy una lista en la posicion 2']]\n",
    "dict_1 = {'dict_1_clave1':[],'dict_1_clave2':[],'dict_1_clave3':[]}\n",
    "\n",
    "lista_3.append(dict_1)\n",
    "lista_3"
   ]
  },
  {
   "cell_type": "code",
   "execution_count": 65,
   "metadata": {},
   "outputs": [
    {
     "data": {
      "text/plain": [
       "['soy un string en la posicion 1',\n",
       " ['soy una lista en la posicion 2'],\n",
       " 1,\n",
       " 2,\n",
       " 3,\n",
       " 4,\n",
       " 5,\n",
       " 6,\n",
       " 7]"
      ]
     },
     "execution_count": 65,
     "metadata": {},
     "output_type": "execute_result"
    }
   ],
   "source": [
    "# Agregando una tupla a una lista - extend\n",
    "tupla_1 = (1,2,3,4,5,6,7)\n",
    "\n",
    "lista_3 = ['soy un string en la posicion 1',['soy una lista en la posicion 2']]\n",
    "lista_3.extend(tupla_1)\n",
    "\n",
    "lista_3"
   ]
  },
  {
   "cell_type": "code",
   "execution_count": 66,
   "metadata": {},
   "outputs": [
    {
     "data": {
      "text/plain": [
       "['soy un string en la posicion 1',\n",
       " ['soy una lista en la posicion 2'],\n",
       " (1, 2, 3, 4, 5, 6, 7)]"
      ]
     },
     "execution_count": 66,
     "metadata": {},
     "output_type": "execute_result"
    }
   ],
   "source": [
    "# Agregando una tupla a una lista - append\n",
    "tupla_1 = (1,2,3,4,5,6,7)\n",
    "\n",
    "lista_3 = ['soy un string en la posicion 1',['soy una lista en la posicion 2']]\n",
    "lista_3.append(tupla_1)\n",
    "\n",
    "lista_3"
   ]
  },
  {
   "attachments": {},
   "cell_type": "markdown",
   "metadata": {},
   "source": [
    "## Ordenamiento de listas\n",
    "\n",
    "<blockquote>\n",
    "Existe la función sorted que devuelve el objeto iterable pasado por parámetro ordenado según algún criterio.\n",
    "<br>\n",
    "\n",
    "Sintaxis:<br>\n",
    "**sorted(iterable[, key][, reverse])**\n",
    "<br>\n",
    "\n",
    "Donde:<br>\n",
    "iterable - sequence (string, tuple, list) or collection (set, dictionary, frozen set) or any iterator \n",
    "reverse (Optional) - <br>If true, the sorted list is reversed (or sorted in Descending order)\n",
    "key (Optional) - <br>function that serves as a key for the sort comparison\n",
    "</blockquote>"
   ]
  },
  {
   "cell_type": "code",
   "execution_count": 68,
   "metadata": {},
   "outputs": [
    {
     "data": {
      "text/plain": [
       "[1, 2, 4, 5, 23]"
      ]
     },
     "execution_count": 68,
     "metadata": {},
     "output_type": "execute_result"
    }
   ],
   "source": [
    "# ordenando una lista\n",
    "lista_1 = [4,5,23,2,1]\n",
    "lista_1 = sorted(lista_1)\n",
    "\n",
    "lista_1"
   ]
  },
  {
   "cell_type": "code",
   "execution_count": 70,
   "metadata": {},
   "outputs": [
    {
     "data": {
      "text/plain": [
       "[[6, 3, 5], [64, 13, 43]]"
      ]
     },
     "execution_count": 70,
     "metadata": {},
     "output_type": "execute_result"
    }
   ],
   "source": [
    "#Ordenando una lista de listas\n",
    "# Como se ve, solo ordena la lista y no los elementos que contienen las listas en su interior.\n",
    "lista_1 = [[64,13,43],[6,3,5]]\n",
    "lista_1 = sorted(lista_1)\n",
    "\n",
    "lista_1"
   ]
  },
  {
   "cell_type": "code",
   "execution_count": 74,
   "metadata": {},
   "outputs": [
    {
     "data": {
      "text/plain": [
       "[(4, 1), (2, 2), (1, 3), (3, 4)]"
      ]
     },
     "execution_count": 74,
     "metadata": {},
     "output_type": "execute_result"
    }
   ],
   "source": [
    "#Ordenando una lista de tuplas, usando la clausula key:\n",
    "def segundo(elem):\n",
    "    return elem[1]\n",
    "\n",
    "lista_1 = [(2, 2), (3, 4), (4, 1), (1, 3)]\n",
    "lista_1 = sorted(lista_1, key=segundo)\n",
    "\n",
    "lista_1"
   ]
  },
  {
   "attachments": {},
   "cell_type": "markdown",
   "metadata": {},
   "source": [
    "### Ejercicio de ordenamiento de listas\n",
    "\n",
    "Dados 3 diccionarios, ordenarlos por:\n",
    "\n",
    "* menor valor de pos\n",
    "* mayor valor de aportado_cant\n",
    "* mayor valor de aportado_fh_num\n",
    "* menor valor de cod_postal"
   ]
  },
  {
   "cell_type": "code",
   "execution_count": 101,
   "metadata": {},
   "outputs": [],
   "source": [
    "variables_direcciones_1={'aportado_fh':'2012-10','aportado_fh_num':'20180101','aportado_cant':4,'cod_postal':1406,'mes':360,'cpa':'DDCR10','geo_nse':'NA','provincia':'P','aglomerado':'C','avg_tc_limite_credito':1234.123,'pos':1,'cpa_num':331,'impacto_codigo_num':12,'tasa_mora':23123.12321,'tasa_p_mora':12312.4312}\n",
    "variables_direcciones_2={'aportado_fh':'2017-10','aportado_fh_num':'20180102','aportado_cant':2,'cod_postal':1407,'mes':180,'cpa':'DDCR12','geo_nse':'NA','provincia':'P','aglomerado':'C','avg_tc_limite_credito':1234.123,'pos':2,'cpa_num':331,'impacto_codigo_num':12,'tasa_mora':23123.12321,'tasa_p_mora':12312.4312}\n",
    "variables_direcciones_3={'aportado_fh':'2017-09','aportado_fh_num':'20171201','aportado_cant':5,'cod_postal':1400,'mes':60,'cpa':'DDCR33','geo_nse':'NA','provincia':'P','aglomerado':'C','avg_tc_limite_credito':1234.123,'pos':3,'cpa_num':331,'impacto_codigo_num':12,'tasa_mora':23123.12321,'tasa_p_mora':12312.4312}\n",
    "\n",
    "# Juntamos todos los diccionarios en una lista\n",
    "direcciones_completas = []\n",
    "\n",
    "# Como queremos mantener la estrutura de los diccionarios usamos append\n",
    "direcciones_completas.append(variables_direcciones_1)\n",
    "direcciones_completas.append(variables_direcciones_2)\n",
    "direcciones_completas.append(variables_direcciones_3)\n",
    "\n",
    "#direcciones_completas"
   ]
  },
  {
   "cell_type": "code",
   "execution_count": 92,
   "metadata": {},
   "outputs": [],
   "source": [
    "#Ordenar por menor valor de 'pos'\n",
    "def pos(lista):\n",
    "    return lista['pos']\n",
    "\n",
    "lista_ordenada1 = sorted(direcciones_completas, key=pos, reverse=False)\n",
    "\n",
    "#direcciones_completas[1]['pos']\n",
    "#lista_ordenada"
   ]
  },
  {
   "cell_type": "code",
   "execution_count": 95,
   "metadata": {},
   "outputs": [],
   "source": [
    "#mayor valor de 'aportado_cant'\n",
    "def aportado_cant(lista):\n",
    "    return lista['aportado_cant']\n",
    "\n",
    "lista_ordenada2 = sorted(lista_ordenada1, key=aportado_cant, reverse=True)\n",
    "#lista_ordenada2\n",
    "\n",
    "# Si sigo así tendo que hacer una función por cada ordenamiento - esto se puede evitar usando lambda (ver abajo)"
   ]
  },
  {
   "attachments": {},
   "cell_type": "markdown",
   "metadata": {},
   "source": [
    "#### Solucion de Claudio y Gonzalo\n",
    "\n",
    "Como dijimos, si vamos a usar reverse = True (De mayor a menor), aquellos campos que necesitemos el menor tendremos que negarlos, y viceversa si no ponemos la cláusula reverse.\n",
    "\n",
    "Tener en cuenta que, al ordenar por una tupla, la función sorted ira desde la primer posición hasta la última, es decir, si el valor de la primer posición de la tupla es igual a todas las demás, ordenara por el segundo campo y así hasta el final de los campos. Entonces, **si hay algún campo que sea más relevante que otro se debería meter al principio de la tupla.**\n",
    "\n",
    "Nótese que a los campos pos y cod_postal, se les agrego un “-“  delante para negarlos y asi ordenar con un criterio opuesto al resto de los campos."
   ]
  },
  {
   "cell_type": "code",
   "execution_count": 105,
   "metadata": {},
   "outputs": [
    {
     "data": {
      "text/plain": [
       "[{'aportado_fh': '2012-10',\n",
       "  'aportado_fh_num': '20180101',\n",
       "  'aportado_cant': 4,\n",
       "  'cod_postal': 1406,\n",
       "  'mes': 360,\n",
       "  'cpa': 'DDCR10',\n",
       "  'geo_nse': 'NA',\n",
       "  'provincia': 'P',\n",
       "  'aglomerado': 'C',\n",
       "  'avg_tc_limite_credito': 1234.123,\n",
       "  'pos': 1,\n",
       "  'cpa_num': 331,\n",
       "  'impacto_codigo_num': 12,\n",
       "  'tasa_mora': 23123.12321,\n",
       "  'tasa_p_mora': 12312.4312},\n",
       " {'aportado_fh': '2017-10',\n",
       "  'aportado_fh_num': '20180102',\n",
       "  'aportado_cant': 2,\n",
       "  'cod_postal': 1407,\n",
       "  'mes': 180,\n",
       "  'cpa': 'DDCR12',\n",
       "  'geo_nse': 'NA',\n",
       "  'provincia': 'P',\n",
       "  'aglomerado': 'C',\n",
       "  'avg_tc_limite_credito': 1234.123,\n",
       "  'pos': 2,\n",
       "  'cpa_num': 331,\n",
       "  'impacto_codigo_num': 12,\n",
       "  'tasa_mora': 23123.12321,\n",
       "  'tasa_p_mora': 12312.4312},\n",
       " {'aportado_fh': '2017-09',\n",
       "  'aportado_fh_num': '20171201',\n",
       "  'aportado_cant': 5,\n",
       "  'cod_postal': 1400,\n",
       "  'mes': 60,\n",
       "  'cpa': 'DDCR33',\n",
       "  'geo_nse': 'NA',\n",
       "  'provincia': 'P',\n",
       "  'aglomerado': 'C',\n",
       "  'avg_tc_limite_credito': 1234.123,\n",
       "  'pos': 3,\n",
       "  'cpa_num': 331,\n",
       "  'impacto_codigo_num': 12,\n",
       "  'tasa_mora': 23123.12321,\n",
       "  'tasa_p_mora': 12312.4312}]"
      ]
     },
     "execution_count": 105,
     "metadata": {},
     "output_type": "execute_result"
    }
   ],
   "source": [
    "# Solucion de Claudio y Gonzalo\n",
    "lista_ordenada = sorted(direcciones_completas, \n",
    "        key = lambda dir: (-dir['pos'],dir['aportado_cant'],dir['aportado_fh_num'],-dir['cod_postal']),\n",
    "        reverse=True)\n",
    "\n",
    "lista_ordenada"
   ]
  },
  {
   "cell_type": "code",
   "execution_count": 106,
   "metadata": {},
   "outputs": [
    {
     "name": "stdout",
     "output_type": "stream",
     "text": [
      "DDCR10\n"
     ]
    }
   ],
   "source": [
    "#Obteniendo el primero valor de la lista y accediento por su clave a cpa:\n",
    "print (lista_ordenada[0]['cpa'])"
   ]
  }
 ],
 "metadata": {
  "kernelspec": {
   "display_name": "Python 3",
   "language": "python",
   "name": "python3"
  },
  "language_info": {
   "codemirror_mode": {
    "name": "ipython",
    "version": 3
   },
   "file_extension": ".py",
   "mimetype": "text/x-python",
   "name": "python",
   "nbconvert_exporter": "python",
   "pygments_lexer": "ipython3",
   "version": "3.7.3"
  }
 },
 "nbformat": 4,
 "nbformat_minor": 2
}
