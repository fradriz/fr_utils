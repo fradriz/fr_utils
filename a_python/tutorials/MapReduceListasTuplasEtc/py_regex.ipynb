{
 "cells": [
  {
   "cell_type": "code",
   "execution_count": 48,
   "metadata": {},
   "outputs": [],
   "source": [
    "s1 = 'A=1,000-9,999,B=10,000-24,999,C=25,000-39,999'\n",
    "s2 = 'C=Child 0-12,D=Deceased,E=Elderly Parent,O=Other or Blank,P=Primary Decision Maker,T=Teenage 13-18,Y=Young Adult'\n",
    "#print(s)"
   ]
  },
  {
   "cell_type": "code",
   "execution_count": 43,
   "metadata": {},
   "outputs": [
    {
     "name": "stdout",
     "output_type": "stream",
     "text": [
      "<re.Match object; span=(2, 7), match='1,000'>\n"
     ]
    },
    {
     "data": {
      "text/plain": [
       "'1,000'"
      ]
     },
     "execution_count": 43,
     "metadata": {},
     "output_type": "execute_result"
    }
   ],
   "source": [
    "#https://docs.python.org/3/library/re.html\n",
    "import re\n",
    "o = re.search(r'(\\d+,\\d+)', s1)\n",
    "#o = re.search(r'\\d+,\\d+', s1)\n",
    "\n",
    "print(o)\n",
    "o.group(0)"
   ]
  },
  {
   "cell_type": "code",
   "execution_count": 40,
   "metadata": {},
   "outputs": [
    {
     "name": "stdout",
     "output_type": "stream",
     "text": [
      "HAY nros\n"
     ]
    }
   ],
   "source": [
    "if re.search(r'\\d+,\\d+', s1):\n",
    "    print('HAY nros')\n",
    "else:\n",
    "    print('Nada')"
   ]
  },
  {
   "cell_type": "code",
   "execution_count": 52,
   "metadata": {},
   "outputs": [
    {
     "name": "stdout",
     "output_type": "stream",
     "text": [
      "['1,000', '9,999', '10,000', '24,999', '25,000', '39,999']\n"
     ]
    }
   ],
   "source": [
    "#re.finditer VERLO !!\n",
    "o = re.findall(r\"\\d+,\\d+\", s1)\n",
    "print(o)"
   ]
  },
  {
   "cell_type": "code",
   "execution_count": 54,
   "metadata": {},
   "outputs": [
    {
     "name": "stdout",
     "output_type": "stream",
     "text": [
      "['C=', 'D=', 'E=', 'O=', 'P=', 'T=', 'Y=']\n"
     ]
    }
   ],
   "source": [
    "o = re.findall(r\"\\w+=\", s2)\n",
    "print(o)"
   ]
  }
 ],
 "metadata": {
  "kernelspec": {
   "display_name": "Python 3",
   "language": "python",
   "name": "python3"
  },
  "language_info": {
   "codemirror_mode": {
    "name": "ipython",
    "version": 3
   },
   "file_extension": ".py",
   "mimetype": "text/x-python",
   "name": "python",
   "nbconvert_exporter": "python",
   "pygments_lexer": "ipython3",
   "version": "3.7.3"
  }
 },
 "nbformat": 4,
 "nbformat_minor": 2
}
