{
 "cells": [
  {
   "cell_type": "markdown",
   "metadata": {},
   "source": [
    "# Tutorial  de Python\n",
    "\n",
    "Link: https://www.youtube.com/watch?v=3dt4OGnU5sM\n",
    "\n",
    "__[Código de Markdown para Jupyter](http://jupyter-notebook.readthedocs.io/en/stable/examples/Notebook/Working%20With%20Markdown%20Cells.html)__"
   ]
  },
  {
   "cell_type": "markdown",
   "metadata": {},
   "source": [
    "## Benchamark map vs comprehension lists\n",
    "Fuente: https://stackoverflow.com/questions/1247486/list-comprehension-vs-map\n",
    "\n",
    "### Map vs listas por comprension (python3)\n",
    "Lo que estaba en stackoverflow esta mal comparado:\n",
    "```python\n",
    "$ python -mtimeit -s'xs=range(10)' 'map(hex, xs)'\n",
    "1000000 loops, best of 3: 0.891 usec per loop\n",
    "$ python -mtimeit -s'xs=range(10)' '[hex(x) for x in xs]'\n",
    "1000000 loops, best of 3: 1.09 usec per loop\n",
    "```\n",
    "**Comparando lista (map) vs lista (comprension)**\n",
    "```python\n",
    "$ python -mtimeit -s'xs=range(10)' 'list(map(hex, xs))'\n",
    "1000000 loops, best of 3: 1.19 usec per loop\n",
    "$ python -mtimeit -s'xs=range(10)' '[hex(x) for x in xs]'\n",
    "1000000 loops, best of 3: 1.04 usec per loop\n",
    "```\n",
    "**Comparando generador (map) vs generador(comprension)**\n",
    "```python\n",
    "$ python -mtimeit -s'xs=range(10)' 'map(hex, xs)'\n",
    "1000000 loops, best of 3: 0.904 usec per loop\n",
    "$ python -mtimeit -s'xs=range(10)' '(hex(x) for x in xs)'\n",
    "1000000 loops, best of 3: 0.354 usec per loop\n",
    "```\n",
    "\n",
    "**Comparando lista (map/lambda) vs lista (comprension)**\n",
    "```python\n",
    "$ python -mtimeit -s'xs=range(10)' 'list(map(lambda x: x+2, xs))'\n",
    "1000000 loops, best of 3: 1.47 usec per loop\n",
    "$ python -mtimeit -s'xs=range(10)' '[x+2 for x in xs]'\n",
    "1000000 loops, best of 3: 0.671 usec per loop\n",
    "```\n",
    "\n",
    "### Conclusion: Listas por comprension parecen ser más performantes que map o map/lambda\n",
    "Pero cuidado: Hay que chequear en cada caso, ver los ejemplos de abajo."
   ]
  },
  {
   "cell_type": "code",
   "execution_count": 114,
   "metadata": {},
   "outputs": [
    {
     "name": "stdout",
     "output_type": "stream",
     "text": [
      "1000 loops, best of 3: 235 usec per loop\r\n"
     ]
    }
   ],
   "source": [
    "!python -mtimeit -s'xs=range(3000)' 'list(map(hex, xs))'"
   ]
  },
  {
   "cell_type": "code",
   "execution_count": 115,
   "metadata": {},
   "outputs": [
    {
     "name": "stdout",
     "output_type": "stream",
     "text": [
      "1000 loops, best of 3: 257 usec per loop\r\n"
     ]
    }
   ],
   "source": [
    "!python -mtimeit -s'xs=range(3000)' '[hex(x) for x in xs]'"
   ]
  },
  {
   "cell_type": "markdown",
   "metadata": {},
   "source": [
    "## Operador 'reduce' vs listas por comprension\n",
    "(Benchmark)\n",
    "\n",
    "El resultado es contundente !\n",
    "\n",
    "En este caso claramente gana una **lista por comprension concatenada (usando generator)**.\n",
    "\n",
    "Pero aún es mucho mejor usar <span style=\"color:blue\">*itertools* junto con generators</span> !! (reduce los tiempos a la mitad con respecto a LC).\n",
    "\n",
    "Lo más eficiente Cambiar *list_of_lists* por *gen_of_lists* \n",
    "\n",
    "Tambien puse un ejemplo de for tradicionales. Se ve que tarda un poco más que LC pero sigue siendo mucho menor que `reduce + add`\n",
    "\n",
    "link: https://stackoverflow.com/questions/11264684/flatten-list-of-lists/11264799"
   ]
  },
  {
   "cell_type": "code",
   "execution_count": 84,
   "metadata": {},
   "outputs": [
    {
     "data": {
      "text/plain": [
       "[['100001'], ['200002', '200002'], ['300003', '300003', '300003']]"
      ]
     },
     "execution_count": 84,
     "metadata": {},
     "output_type": "execute_result"
    }
   ],
   "source": [
    "# list_of_lists\n",
    "iab_string = 'IAB=100001:1|IAB=200002:2|IAB=300003:3'\n",
    "[[x[0]] * int(x[1]) for x in re.findall(r\"IAB=(\\d{6}):(\\d+)\", iab_string)]"
   ]
  },
  {
   "cell_type": "code",
   "execution_count": 38,
   "metadata": {},
   "outputs": [
    {
     "name": "stdout",
     "output_type": "stream",
     "text": [
      "['100001', '200002', '200002', '300003', '300003', '300003', '100001']\n",
      "180,000\n",
      "CPU times: user 29.2 s, sys: 451 ms, total: 29.6 s\n",
      "Wall time: 29.7 s\n"
     ]
    }
   ],
   "source": [
    "%%time\n",
    "import re\n",
    "from functools import reduce\n",
    "from operator import add\n",
    "\n",
    "iab_string = 'IAB=100001:1|IAB=200002:2|IAB=300003:3' * 30000\n",
    "\n",
    "l = reduce(add, [[x[0]] * int(x[1]) for x in re.findall(r\"IAB=(\\d{6}):(\\d+)\", iab_string)])\n",
    "                \n",
    "print(l[0:7])\n",
    "print(f\"{len(l):,}\")         "
   ]
  },
  {
   "cell_type": "markdown",
   "metadata": {},
   "source": [
    "### Usando LC y ciclo for tradicional\n",
    "Se observa que tarda **muchisimo menos que la opción anterior !!**\n",
    "\n",
    "Usando un ciclo For para crear la lista:"
   ]
  },
  {
   "cell_type": "code",
   "execution_count": 5,
   "metadata": {},
   "outputs": [
    {
     "name": "stdout",
     "output_type": "stream",
     "text": [
      "['100001', '200002', '200002', '300003', '300003', '300003', '100001']\n",
      "2,400,000\n",
      "CPU times: user 2.12 s, sys: 124 ms, total: 2.24 s\n",
      "Wall time: 2.25 s\n"
     ]
    }
   ],
   "source": [
    "%%time\n",
    "import re\n",
    "\n",
    "iab_string = 'IAB=100001:1|IAB=200002:2|IAB=300003:3' * 400000\n",
    "\n",
    "list_of_lists = [[x[0]] * int(x[1]) for x in re.findall(r\"IAB=(\\d{6}):(\\d+)\", iab_string)]\n",
    "\n",
    "l = []\n",
    "for sublist in list_of_lists:\n",
    "    for val in sublist:\n",
    "        l.append(val)\n",
    "        \n",
    "print(l[0:7])\n",
    "print(f\"{len(l):,}\")"
   ]
  },
  {
   "cell_type": "markdown",
   "metadata": {},
   "source": [
    "**Usando lista por comprension mejora el tiempo**"
   ]
  },
  {
   "cell_type": "code",
   "execution_count": 6,
   "metadata": {},
   "outputs": [
    {
     "name": "stdout",
     "output_type": "stream",
     "text": [
      "['100001', '200002', '200002', '300003', '300003', '300003', '100001']\n",
      "2,400,000\n",
      "CPU times: user 1.76 s, sys: 123 ms, total: 1.88 s\n",
      "Wall time: 1.88 s\n"
     ]
    }
   ],
   "source": [
    "%%time\n",
    "import re\n",
    "\n",
    "iab_string = 'IAB=100001:1|IAB=200002:2|IAB=300003:3' * 400000\n",
    "\n",
    "list_of_lists = [[x[0]] * int(x[1]) for x in re.findall(r\"IAB=(\\d{6}):(\\d+)\", iab_string)]\n",
    "#gen_of_lists = ([x[0]] * int(x[1]) for x in re.findall(r\"IAB=(\\d{6}):(\\d+)\", iab_string))\n",
    "l = [val for sublist in list_of_lists for val in sublist]\n",
    "\n",
    "print(l[0:7])\n",
    "print(f\"{len(l):,}\")"
   ]
  },
  {
   "cell_type": "markdown",
   "metadata": {},
   "source": [
    "**Usando lista por comprension + generator (en lugar de lista) mejora el tiempo aún más !!**"
   ]
  },
  {
   "cell_type": "code",
   "execution_count": 3,
   "metadata": {},
   "outputs": [
    {
     "name": "stdout",
     "output_type": "stream",
     "text": [
      "['100001', '200002', '200002', '300003', '300003', '300003', '100001']\n",
      "2,400,000\n",
      "CPU times: user 1.04 s, sys: 59.7 ms, total: 1.1 s\n",
      "Wall time: 1.11 s\n"
     ]
    }
   ],
   "source": [
    "%%time\n",
    "import re\n",
    "\n",
    "iab_string = 'IAB=100001:1|IAB=200002:2|IAB=300003:3' * 400000\n",
    "\n",
    "#list_of_lists = [[x[0]] * int(x[1]) for x in re.findall(r\"IAB=(\\d{6}):(\\d+)\", iab_string)]\n",
    "gen_of_lists = ([x[0]] * int(x[1]) for x in re.findall(r\"IAB=(\\d{6}):(\\d+)\", iab_string))\n",
    "l = [val for sublist in gen_of_lists for val in sublist]\n",
    "\n",
    "print(l[0:7])\n",
    "print(f\"{len(l):,}\")"
   ]
  },
  {
   "cell_type": "markdown",
   "metadata": {},
   "source": [
    "### Usando itertools\n",
    "Esta opción es **clara y eficiente !**\n",
    "\n",
    "Si cuando creo 'list_of_list' lo hago un *generator* => el resultado es aún mejor !!!"
   ]
  },
  {
   "cell_type": "code",
   "execution_count": 2,
   "metadata": {},
   "outputs": [
    {
     "name": "stdout",
     "output_type": "stream",
     "text": [
      "['100001', '200002', '200002', '300003', '300003', '300003', '100001']\n",
      "2,400,000\n",
      "CPU times: user 1.16 s, sys: 113 ms, total: 1.27 s\n",
      "Wall time: 1.27 s\n"
     ]
    }
   ],
   "source": [
    "%%time\n",
    "import re\n",
    "from itertools import chain\n",
    "\n",
    "iab_string = 'IAB=100001:1|IAB=200002:2|IAB=300003:3' * 400000\n",
    "\n",
    "#list_of_lists = [[x[0]] * int(x[1]) for x in re.findall(r\"IAB=(\\d{6}):(\\d+)\", iab_string)]\n",
    "# Haciendo 'list_of_list' un generator funciona mucho más eficiente !!\n",
    "gen_of_lists = ([x[0]] * int(x[1]) for x in re.findall(r\"IAB=(\\d{6}):(\\d+)\", iab_string))\n",
    "l = list(chain.from_iterable(gen_of_lists))\n",
    "\n",
    "\n",
    "print(l[0:7])\n",
    "print(f\"{len(l):,}\")        "
   ]
  },
  {
   "cell_type": "markdown",
   "metadata": {},
   "source": [
    "# Lists"
   ]
  },
  {
   "cell_type": "code",
   "execution_count": 2,
   "metadata": {},
   "outputs": [
    {
     "data": {
      "text/plain": [
       "[0, 1, 2, 3, 4, 5]"
      ]
     },
     "execution_count": 2,
     "metadata": {},
     "output_type": "execute_result"
    }
   ],
   "source": [
    "#Lists\n",
    "lista = [0,1,2,3,4,5]\n",
    "\n",
    "lista"
   ]
  },
  {
   "cell_type": "code",
   "execution_count": 9,
   "metadata": {},
   "outputs": [
    {
     "name": "stdout",
     "output_type": "stream",
     "text": [
      "[2, 3]\n",
      "4\n"
     ]
    }
   ],
   "source": [
    "print(lista[2:4])  #imprime posición 2 y 3, no incluye la pos 4.\n",
    "print(lista[-2])"
   ]
  },
  {
   "cell_type": "markdown",
   "metadata": {},
   "source": [
    "## Listas por comprension\n",
    "### Obtener cada elemento de la lista al cuadrado usando comprehension"
   ]
  },
  {
   "cell_type": "code",
   "execution_count": 10,
   "metadata": {},
   "outputs": [
    {
     "data": {
      "text/plain": [
       "[0, 1, 4, 9, 16, 25]"
      ]
     },
     "execution_count": 10,
     "metadata": {},
     "output_type": "execute_result"
    }
   ],
   "source": [
    "squared_list = [n*n for n in lista]\n",
    "squared_list"
   ]
  },
  {
   "cell_type": "markdown",
   "metadata": {},
   "source": [
    "### Obtener todos los numeros de la lista que sean pares"
   ]
  },
  {
   "cell_type": "code",
   "execution_count": 12,
   "metadata": {},
   "outputs": [
    {
     "data": {
      "text/plain": [
       "[0, 2, 4]"
      ]
     },
     "execution_count": 12,
     "metadata": {},
     "output_type": "execute_result"
    }
   ],
   "source": [
    "pares = [n for n in lista if n%2 == 0]\n",
    "pares"
   ]
  },
  {
   "cell_type": "markdown",
   "metadata": {},
   "source": [
    "### Crear pares (letra, numero) para 'abcd' y '0123' quedando: (a,0) (a,1) (a,2) ...(d,2)(d,3)(d,4)\n",
    "Devolverá una tupla de letra y número"
   ]
  },
  {
   "cell_type": "code",
   "execution_count": 47,
   "metadata": {},
   "outputs": [
    {
     "data": {
      "text/plain": [
       "[('a', 0),\n",
       " ('a', 1),\n",
       " ('a', 2),\n",
       " ('a', 3),\n",
       " ('b', 0),\n",
       " ('b', 1),\n",
       " ('b', 2),\n",
       " ('b', 3),\n",
       " ('c', 0),\n",
       " ('c', 1),\n",
       " ('c', 2),\n",
       " ('c', 3),\n",
       " ('d', 0),\n",
       " ('d', 1),\n",
       " ('d', 2),\n",
       " ('d', 3)]"
      ]
     },
     "execution_count": 47,
     "metadata": {},
     "output_type": "execute_result"
    }
   ],
   "source": [
    "par_letra_numero = [(l,n) for l in 'abcd' for n in range(4)]\n",
    "par_letra_numero"
   ]
  },
  {
   "cell_type": "markdown",
   "metadata": {},
   "source": [
    "### Ejemplos con Map\n",
    "Link: https://www.youtube.com/watch?v=hUes6y2b--0&list=WL&index=11&t=0s\n",
    "\n",
    "#### Performnance\n",
    "He comparado\n",
    "* For tradicional\n",
    "* Lista por comp\n",
    "* Tupla por comp\n",
    "* Map + funcion\n",
    "* Map + lambda\n",
    "\n",
    "El más rápido ha sido la *tupla por comp*, pero por muy poco margen. No hay un claro ganador."
   ]
  },
  {
   "cell_type": "code",
   "execution_count": 56,
   "metadata": {},
   "outputs": [],
   "source": [
    "n = 5000000"
   ]
  },
  {
   "cell_type": "code",
   "execution_count": 57,
   "metadata": {},
   "outputs": [
    {
     "name": "stdout",
     "output_type": "stream",
     "text": [
      "[3.14, 12.57, 28.27, 50.27]\n",
      "25,000,000\n",
      "CPU times: user 21.9 s, sys: 335 ms, total: 22.2 s\n",
      "Wall time: 22.3 s\n"
     ]
    }
   ],
   "source": [
    "%%time\n",
    "from math import pi\n",
    "\n",
    "# Forma tradicional\n",
    "radii = [1,2,3,4,5] * n\n",
    "area = []\n",
    "for r in radii:\n",
    "    area.append(round(pi*r**2,2))\n",
    "area\n",
    "\n",
    "print(area[:4])\n",
    "print(f\"{len(area):,}\")"
   ]
  },
  {
   "cell_type": "code",
   "execution_count": 58,
   "metadata": {},
   "outputs": [
    {
     "name": "stdout",
     "output_type": "stream",
     "text": [
      "[3.14, 12.57, 28.27, 50.27]\n",
      "25,000,000\n",
      "CPU times: user 19.8 s, sys: 492 ms, total: 20.3 s\n",
      "Wall time: 20.4 s\n"
     ]
    }
   ],
   "source": [
    "%%time\n",
    "from math import pi\n",
    "\n",
    "radii = [1,2,3,4,5] * n\n",
    "# Listas x comprension\n",
    "area = [round(pi*r**2,2) for r in radii]\n",
    "\n",
    "print(area[:4])\n",
    "print(f\"{len(area):,}\")"
   ]
  },
  {
   "cell_type": "code",
   "execution_count": 61,
   "metadata": {},
   "outputs": [
    {
     "name": "stdout",
     "output_type": "stream",
     "text": [
      "[3.14, 12.57, 28.27, 50.27]\n",
      "25,000,000\n",
      "CPU times: user 19.5 s, sys: 458 ms, total: 20 s\n",
      "Wall time: 20 s\n"
     ]
    }
   ],
   "source": [
    "%%time\n",
    "from math import pi\n",
    "\n",
    "radii = (1,2,3,4,5) * n\n",
    "# tupla x comprension\n",
    "area = [round(pi*r**2,2) for r in radii]\n",
    "\n",
    "print(area[:4])\n",
    "print(f\"{len(area):,}\")"
   ]
  },
  {
   "cell_type": "code",
   "execution_count": 59,
   "metadata": {},
   "outputs": [
    {
     "name": "stdout",
     "output_type": "stream",
     "text": [
      "[3.14, 12.57, 28.27, 50.27]\n",
      "25,000,000\n",
      "CPU times: user 20.5 s, sys: 450 ms, total: 20.9 s\n",
      "Wall time: 21 s\n"
     ]
    }
   ],
   "source": [
    "%%time\n",
    "from math import pi\n",
    "\n",
    "radii = [1,2,3,4,5] * n\n",
    "# Map + funcion\n",
    "def calcular_area(r):\n",
    "    return round(pi*r**2,2)\n",
    "\n",
    "area = list(map(calcular_area,radii))\n",
    "\n",
    "print(area[:4])\n",
    "print(f\"{len(area):,}\")"
   ]
  },
  {
   "cell_type": "code",
   "execution_count": null,
   "metadata": {},
   "outputs": [],
   "source": [
    "python -mtimeit -s'xs=range(10)' 'map(hex, xs)'"
   ]
  },
  {
   "cell_type": "code",
   "execution_count": 60,
   "metadata": {},
   "outputs": [
    {
     "name": "stdout",
     "output_type": "stream",
     "text": [
      "[3.14, 12.57, 28.27, 50.27]\n",
      "25,000,000\n",
      "CPU times: user 21 s, sys: 541 ms, total: 21.6 s\n",
      "Wall time: 21.6 s\n"
     ]
    }
   ],
   "source": [
    "%%time\n",
    "from math import pi\n",
    "\n",
    "radii = [1,2,3,4,5] * n\n",
    "# Map + lambda\n",
    "area = list(map(lambda r:round(pi*r**2,2),radii))\n",
    "\n",
    "print(area[:4])\n",
    "print(f\"{len(area):,}\")"
   ]
  },
  {
   "cell_type": "markdown",
   "metadata": {},
   "source": [
    "# Tuples\n",
    "\n",
    "Una tupla está representada por valores separados por comas. **Las tuplas no se pueden cambiar** y la salida es entre paréntesis. Tambien pueden contener ciertos datos que SI pueden cambiar (??)\n",
    "\n",
    "Debido a su inmutabilidad son más rápidas para el procesamiento comparadas con las listas. Por lo tanto, si la lista no cambia es mejor usar tuplas."
   ]
  },
  {
   "cell_type": "code",
   "execution_count": 33,
   "metadata": {},
   "outputs": [
    {
     "data": {
      "text/plain": [
       "(0, 1, 4, 9, 16, 25)"
      ]
     },
     "execution_count": 33,
     "metadata": {},
     "output_type": "execute_result"
    }
   ],
   "source": [
    "tuple_example = 0, 1, 4, 9, 16, 25\n",
    "tuple_example"
   ]
  },
  {
   "cell_type": "code",
   "execution_count": 34,
   "metadata": {},
   "outputs": [
    {
     "data": {
      "text/plain": [
       "4"
      ]
     },
     "execution_count": 34,
     "metadata": {},
     "output_type": "execute_result"
    }
   ],
   "source": [
    "tuple_example[2]"
   ]
  },
  {
   "cell_type": "code",
   "execution_count": 35,
   "metadata": {},
   "outputs": [
    {
     "ename": "TypeError",
     "evalue": "'tuple' object does not support item assignment",
     "output_type": "error",
     "traceback": [
      "\u001b[0;31m---------------------------------------------------------------------------\u001b[0m",
      "\u001b[0;31mTypeError\u001b[0m                                 Traceback (most recent call last)",
      "\u001b[0;32m<ipython-input-35-c211e78352f3>\u001b[0m in \u001b[0;36m<module>\u001b[0;34m()\u001b[0m\n\u001b[0;32m----> 1\u001b[0;31m \u001b[0mtuple_example\u001b[0m\u001b[1;33m[\u001b[0m\u001b[1;36m2\u001b[0m\u001b[1;33m]\u001b[0m \u001b[1;33m=\u001b[0m \u001b[1;36m6\u001b[0m      \u001b[1;31m#Al ser ininmutables esto debería dar error\u001b[0m\u001b[1;33m\u001b[0m\u001b[0m\n\u001b[0m",
      "\u001b[0;31mTypeError\u001b[0m: 'tuple' object does not support item assignment"
     ]
    }
   ],
   "source": [
    "tuple_example[2] = 6      #Al ser ininmutables esto debería dar error"
   ]
  },
  {
   "cell_type": "markdown",
   "metadata": {},
   "source": [
    "## Diccionarios\n",
    "\n",
    "Diccionarios son datos de *key:value* desordenados con la condición de que los 'key' deben ser únicos dentro del mismo diccionario. Un par de llaves: {}"
   ]
  },
  {
   "cell_type": "code",
   "execution_count": 25,
   "metadata": {},
   "outputs": [
    {
     "data": {
      "text/plain": [
       "{'geler': 510, 'radriz': 550, 'nechi': 543, 'raul': 500}"
      ]
     },
     "execution_count": 25,
     "metadata": {},
     "output_type": "execute_result"
    }
   ],
   "source": [
    "ext = {'geler':510, 'radriz':550,'nechi':543,'raul':500}\n",
    "ext"
   ]
  },
  {
   "cell_type": "code",
   "execution_count": 7,
   "metadata": {},
   "outputs": [
    {
     "data": {
      "text/plain": [
       "{'geler': 510, 'nechi': 547, 'radriz': 550, 'raul': 500}"
      ]
     },
     "execution_count": 7,
     "metadata": {},
     "output_type": "execute_result"
    }
   ],
   "source": [
    "ext['nechi'] = 547     #Cambiar un dato\n",
    "ext"
   ]
  },
  {
   "cell_type": "code",
   "execution_count": 26,
   "metadata": {},
   "outputs": [
    {
     "data": {
      "text/plain": [
       "dict_keys(['geler', 'radriz', 'nechi', 'raul'])"
      ]
     },
     "execution_count": 26,
     "metadata": {},
     "output_type": "execute_result"
    }
   ],
   "source": [
    "ext.keys()       # mostrar las keys"
   ]
  },
  {
   "cell_type": "code",
   "execution_count": 27,
   "metadata": {},
   "outputs": [
    {
     "data": {
      "text/plain": [
       "dict_values([510, 550, 543, 500])"
      ]
     },
     "execution_count": 27,
     "metadata": {},
     "output_type": "execute_result"
    }
   ],
   "source": [
    "ext.values()     # mostrar valores"
   ]
  },
  {
   "cell_type": "code",
   "execution_count": 16,
   "metadata": {},
   "outputs": [
    {
     "data": {
      "text/plain": [
       "510"
      ]
     },
     "execution_count": 16,
     "metadata": {},
     "output_type": "execute_result"
    }
   ],
   "source": [
    "ext['geler']      #Acceder a un dato"
   ]
  },
  {
   "cell_type": "markdown",
   "metadata": {},
   "source": [
    "### Ejemplos\n",
    "Dados dos listas de string, las puedo unir 1 a 1 usando el comando *zip*"
   ]
  },
  {
   "cell_type": "code",
   "execution_count": 30,
   "metadata": {},
   "outputs": [
    {
     "data": {
      "text/plain": [
       "'batman'"
      ]
     },
     "execution_count": 30,
     "metadata": {},
     "output_type": "execute_result"
    }
   ],
   "source": [
    "nombres = ['bruce', 'clark', 'peter']\n",
    "heroes = ['batman', 'superman', 'hombre arania']\n",
    "\n",
    "lista_de_tuplas = list(zip(nombres, heroes))\n",
    "lista_de_tuplas\n",
    "\n",
    "lista_de_tuplas[0][1]"
   ]
  },
  {
   "cell_type": "markdown",
   "metadata": {},
   "source": [
    "Ahora, quiero un diccionario de lo anterior donde 'key' sea el nombre y 'value' sea el heroe."
   ]
  },
  {
   "cell_type": "code",
   "execution_count": 35,
   "metadata": {},
   "outputs": [
    {
     "data": {
      "text/plain": [
       "{'bruce': 'batman', 'clark': 'superman', 'peter': 'hombre arania'}"
      ]
     },
     "execution_count": 35,
     "metadata": {},
     "output_type": "execute_result"
    }
   ],
   "source": [
    "# Forma tradicional\n",
    "my_dict = {}\n",
    "for n in lista_de_tuplas:\n",
    "    # my_dict[key] = value\n",
    "    my_dict[n[0]] = n[1]\n",
    "my_dict"
   ]
  },
  {
   "cell_type": "code",
   "execution_count": 36,
   "metadata": {},
   "outputs": [
    {
     "data": {
      "text/plain": [
       "{'bruce': 'batman', 'clark': 'superman', 'peter': 'hombre arania'}"
      ]
     },
     "execution_count": 36,
     "metadata": {},
     "output_type": "execute_result"
    }
   ],
   "source": [
    "# Forma mas compacta\n",
    "my_dict = {}\n",
    "for nombre,heroe in list(zip(nombres, heroes)):\n",
    "    my_dict[nombre] = heroe\n",
    "my_dict"
   ]
  },
  {
   "cell_type": "code",
   "execution_count": 40,
   "metadata": {},
   "outputs": [
    {
     "data": {
      "text/plain": [
       "{'bruce': 'batman', 'clark': 'superman'}"
      ]
     },
     "execution_count": 40,
     "metadata": {},
     "output_type": "execute_result"
    }
   ],
   "source": [
    "# Usando diccionarios por comprension y excluyendo a peter\n",
    "mi_dict = {nombre:heroe for nombre,heroe in list(zip(nombres, heroes)) if nombre != 'peter'}\n",
    "mi_dict"
   ]
  },
  {
   "cell_type": "markdown",
   "metadata": {},
   "source": [
    "## SETs\n",
    "Sets son como las listas pero tienen solamente **valores únicos y ordenados**"
   ]
  },
  {
   "cell_type": "code",
   "execution_count": 44,
   "metadata": {},
   "outputs": [
    {
     "data": {
      "text/plain": [
       "{0, 1, 2, 3, 4, 5, 6, 7, 8, 9}"
      ]
     },
     "execution_count": 44,
     "metadata": {},
     "output_type": "execute_result"
    }
   ],
   "source": [
    "nums = [1,9,1,8,3,7,4,6,5,6,4,7,3,8,2,9,2,0,2,0,2,9,8,3,8,4,7]\n",
    "my_set = set()\n",
    "for n in nums:\n",
    "    my_set.add(n)\n",
    "my_set"
   ]
  },
  {
   "cell_type": "code",
   "execution_count": 46,
   "metadata": {},
   "outputs": [
    {
     "data": {
      "text/plain": [
       "{0, 1, 2, 3, 4, 5, 6, 7, 8, 9}"
      ]
     },
     "execution_count": 46,
     "metadata": {},
     "output_type": "execute_result"
    }
   ],
   "source": [
    "# Estas dos formas funcionan -> se especifica que es un 'set' con '{}' sin ':' (como un dicts)\n",
    "# mi_set = set(n for n in nums)\n",
    "mi_set = {n for n in nums}\n",
    "mi_set"
   ]
  }
 ],
 "metadata": {
  "anaconda-cloud": {},
  "kernelspec": {
   "display_name": "Python 3",
   "language": "python",
   "name": "python3"
  },
  "language_info": {
   "codemirror_mode": {
    "name": "ipython",
    "version": 3
   },
   "file_extension": ".py",
   "mimetype": "text/x-python",
   "name": "python",
   "nbconvert_exporter": "python",
   "pygments_lexer": "ipython3",
   "version": "3.7.5"
  }
 },
 "nbformat": 4,
 "nbformat_minor": 1
}
