{
 "cells": [
  {
   "cell_type": "markdown",
   "metadata": {},
   "source": [
    "# Some interview examples\n",
    "From [youtube source](https://www.youtube.com/watch?v=DEwgZNC-KyE)."
   ]
  },
  {
   "cell_type": "code",
   "execution_count": 7,
   "metadata": {},
   "outputs": [
    {
     "name": "stdout",
     "output_type": "stream",
     "text": [
      "Screen Shot 2019-11-26 at 16.38.23.png\n",
      "Screen Shot 2019-11-26 at 16.39.28.png\n",
      "Screen Shot 2019-12-08 at 11.40.17.png\n",
      "Screen Shot 2019-11-28 at 11.36.29.png\n",
      "Screen Shot 2019-11-28 at 11.36.38.png\n",
      "Screen Shot 2019-11-26 at 16.35.41.png\n"
     ]
    }
   ],
   "source": [
    "# List all the imgages in Desktop\n",
    "import os,glob\n",
    "\n",
    "#!pwd\n",
    "os.chdir(\"/Users/facradri/Desktop\")\n",
    "\n",
    "for file in glob.glob(\"*.png\"):\n",
    "    print(file)"
   ]
  },
  {
   "cell_type": "code",
   "execution_count": 11,
   "metadata": {},
   "outputs": [
    {
     "name": "stdout",
     "output_type": "stream",
     "text": [
      "['Screen Shot 2019-11-26 at 16.38.23.png', 'Screen Shot 2019-11-26 at 16.39.28.png', 'Screen Shot 2019-12-08 at 11.40.17.png', 'Screen Shot 2019-11-28 at 11.36.29.png', 'Screen Shot 2019-11-28 at 11.36.38.png', 'Screen Shot 2019-11-26 at 16.35.41.png']\n"
     ]
    }
   ],
   "source": [
    "# Another way - using list comprehension\n",
    "file = []\n",
    "[file.append(f) for f in glob.glob(\"*.png\")]\n",
    "\n",
    "print(file)"
   ]
  },
  {
   "cell_type": "markdown",
   "metadata": {},
   "source": [
    "## FizzBuzz problem\n",
    "Loop within 100 integeres:\n",
    "    * If the number is divisible by 3  -> 'Fizz'\n",
    "    * If is divisible by 5 -> 'Buzz'\n",
    "    * If divisible by 3 and 5 -> 'FizzBuzz'"
   ]
  },
  {
   "cell_type": "code",
   "execution_count": 28,
   "metadata": {},
   "outputs": [
    {
     "name": "stdout",
     "output_type": "stream",
     "text": [
      "Number 15 -> FizzBuzz\n"
     ]
    }
   ],
   "source": [
    "for i in range(1,21):\n",
    "    if i%3 == 0:\n",
    "        #print(f\"Number {i} -> Fizz\")\n",
    "        pass\n",
    "    if i%5== 0:\n",
    "        #print(f\"Number {i} -> Buzz\")\n",
    "        pass\n",
    "    if i%3==0 and i%5==0:\n",
    "        print(f\"Number {i} -> FizzBuzz\")"
   ]
  },
  {
   "cell_type": "code",
   "execution_count": 35,
   "metadata": {},
   "outputs": [
    {
     "name": "stdout",
     "output_type": "stream",
     "text": [
      "Number 15 -> FizzBuzz\n",
      "Number 30 -> FizzBuzz\n"
     ]
    },
    {
     "data": {
      "text/plain": [
       "[None, None]"
      ]
     },
     "execution_count": 35,
     "metadata": {},
     "output_type": "execute_result"
    }
   ],
   "source": [
    "# Another way (not complete but just to show how to re-write)\n",
    "[print(f\"Number {i} -> FizzBuzz\") for i in range(1,41) if ((i%3==0) and (i%5==0))]"
   ]
  }
 ],
 "metadata": {
  "kernelspec": {
   "display_name": "Python 3",
   "language": "python",
   "name": "python3"
  },
  "language_info": {
   "codemirror_mode": {
    "name": "ipython",
    "version": 3
   },
   "file_extension": ".py",
   "mimetype": "text/x-python",
   "name": "python",
   "nbconvert_exporter": "python",
   "pygments_lexer": "ipython3",
   "version": "3.7.3"
  }
 },
 "nbformat": 4,
 "nbformat_minor": 2
}
