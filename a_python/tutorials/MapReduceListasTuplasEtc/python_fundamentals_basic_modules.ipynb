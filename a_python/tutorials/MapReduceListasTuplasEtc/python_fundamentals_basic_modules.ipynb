{
 "cells": [
  {
   "cell_type": "markdown",
   "metadata": {},
   "source": [
    "# Basic features to use with Python"
   ]
  },
  {
   "cell_type": "code",
   "execution_count": 3,
   "metadata": {},
   "outputs": [
    {
     "name": "stdout",
     "output_type": "stream",
     "text": [
      "Rate: 2841.73913043\n"
     ]
    }
   ],
   "source": [
    "amount = 163400\n",
    "time = 57.5\n",
    "\n",
    "rate = amount / time\n",
    "\n",
    "print('Rate: ' + str(rate))"
   ]
  },
  {
   "cell_type": "code",
   "execution_count": 5,
   "metadata": {},
   "outputs": [
    {
     "name": "stdout",
     "output_type": "stream",
     "text": [
      "size: 65536\n"
     ]
    }
   ],
   "source": [
    "bits = 16\n",
    "size = 2 ** bits\n",
    "\n",
    "print('size: ' + str(size))"
   ]
  },
  {
   "cell_type": "code",
   "execution_count": 7,
   "metadata": {},
   "outputs": [
    {
     "name": "stdout",
     "output_type": "stream",
     "text": [
      "11//3: 3\n",
      "11//3.0: 3.0\n",
      "11/3: 3\n",
      "11%3: 2\n",
      "13\n"
     ]
    }
   ],
   "source": [
    "print('11//3: ' + str(11//3))\n",
    "print('11//3.0: ' + str(11//3.0))\n",
    "print('11/3: ' + str(11/3))\n",
    "print('11%3: ' + str(11%3))\n",
    "\n",
    "#PEDMAS\n",
    "print(10 - 2**2 / 2 + 5)"
   ]
  },
  {
   "cell_type": "markdown",
   "metadata": {},
   "source": [
    "# Strings & print formating"
   ]
  },
  {
   "cell_type": "code",
   "execution_count": 22,
   "metadata": {},
   "outputs": [
    {
     "name": "stdout",
     "output_type": "stream",
     "text": [
      "Number ten 10is what I want to represent\n",
      "Number ten 10 is what I want to represent\n",
      "\n",
      "    Print a \n",
      "    multiline\n",
      "    string.\n",
      "\n",
      "Escaped backslash: \\\n",
      "The same 3 times\n",
      "The same 3 times\n",
      "The same 3 times\n",
      "\n",
      "############################## --MESSAGE-- ##############################\n"
     ]
    }
   ],
   "source": [
    "#format\n",
    "print(\"Number ten \" + str(10) + \"is what I want to represent\")\n",
    "print(\"Number ten {} is what I want to represent\" .format(10))\n",
    "\n",
    "#f-strings: not working in 2.7 python\n",
    "#start_date=\"2019-02-11\"\n",
    "#print(f'The start date is {start_date}')\n",
    "\n",
    "print(\"\"\"\n",
    "    Print a \n",
    "    multiline\n",
    "    string.\n",
    "\"\"\")\n",
    "\n",
    "print(\"Escaped backslash: \\\\\")\n",
    "\n",
    "#Repeaing\n",
    "print(\"The same 3 times\\n\" * 3)\n",
    "print(\"#\"*30 + \" --MESSAGE-- \" + \"#\"*30)"
   ]
  },
  {
   "cell_type": "markdown",
   "metadata": {},
   "source": [
    "# Functions"
   ]
  },
  {
   "cell_type": "code",
   "execution_count": 27,
   "metadata": {},
   "outputs": [
    {
     "name": "stdout",
     "output_type": "stream",
     "text": [
      "$$$$$\n",
      "Hypotenuse: 6.40312423743\n"
     ]
    }
   ],
   "source": [
    "import math\n",
    "\n",
    "def repeat_strings(s,times):\n",
    "    print(s*times)\n",
    "\n",
    "def hyp(x,y):\n",
    "    return math.sqrt (x ** 2 + y ** 2)\n",
    "\n",
    "repeat_strings('$',5)\n",
    "\n",
    "h = hyp(4,5)\n",
    "print(\"Hypotenuse: \" + str(h))"
   ]
  },
  {
   "cell_type": "markdown",
   "metadata": {},
   "source": [
    "# Arrays & Tuples"
   ]
  },
  {
   "cell_type": "code",
   "execution_count": 44,
   "metadata": {},
   "outputs": [
    {
     "name": "stdout",
     "output_type": "stream",
     "text": [
      "Before pop: array('l', [10, 20, 30, 100, 200, 300])\n",
      "After pop: array('l', [10, 20, 30, 100, 200])\n",
      "A3 array('u', u'\\u6548\\u6c6c\\u776f')\n",
      "\n",
      "a4[0]: 3.13\n"
     ]
    }
   ],
   "source": [
    "from array import array\n",
    "\n",
    "a1 = array('l')\n",
    "a2 = array('l', [10,20,30,100,200,300])\n",
    "a3 = array('u', \"Hellow\")\n",
    "a4 = array('d', [3.13, 2.7,1.4,1.6])\n",
    "\n",
    "#Remove last element from the array\n",
    "print('Before pop: %s' %a2)\n",
    "a2.pop()\n",
    "print('After pop: %s' %a2)\n",
    "\n",
    "#a3.append('h')\n",
    "print('A3 %s' %a3)\n",
    "\n",
    "print('\\na4[0]: ' + str(a4[0]))\n"
   ]
  },
  {
   "cell_type": "markdown",
   "metadata": {},
   "source": [
    "Tuples are sequence of element that can not change\n",
    "\n",
    "OBS: Arrays que no cambian !"
   ]
  },
  {
   "cell_type": "code",
   "execution_count": 142,
   "metadata": {},
   "outputs": [
    {
     "name": "stdout",
     "output_type": "stream",
     "text": [
      "t3 + t4: (1, 2, 3, 3.13, 2.7, 1.4, 1.6)\n",
      "Another way to print (notice the ',' at the end !!: ('Hello', 'World')\n"
     ]
    }
   ],
   "source": [
    "#Tuples\n",
    "t1 = (1,2,3) \n",
    "t2 = (3.13, 2.7,1.4,1.6)\n",
    "t3 = ('Hello', 'World')\n",
    "t4 = ('!')\n",
    "\n",
    "print('t3 + t4: {}' .format(t1 + t2))\n",
    "\n",
    "print(\"Another way to print (notice the ',' at the end !!: %s\" %(t3,))\n"
   ]
  },
  {
   "cell_type": "markdown",
   "metadata": {},
   "source": [
    "# Lists"
   ]
  },
  {
   "cell_type": "code",
   "execution_count": 8,
   "metadata": {},
   "outputs": [
    {
     "name": "stdout",
     "output_type": "stream",
     "text": [
      "l1: [5, 10, 15, 20]\n",
      "l1: [5, 10, 15, 20, 25]\n",
      "l2[2:]: [77, 'World', 1.299]\n",
      "l2[:2]: [3, 'Hello']\n"
     ]
    }
   ],
   "source": [
    "l0 = [] #empty list\n",
    "l1 = [5,10,15,20]\n",
    "l2 = [3, 'Hello', 77, 'World' , 1.299]\n",
    "\n",
    "print('l1: %s' %l1)\n",
    "l1.append(25)\n",
    "print('l1: %s' %l1)\n",
    "\n",
    "print('l2[2:]: %s' %l2[2:])\n",
    "print('l2[:2]: %s' %l2[:2])"
   ]
  },
  {
   "cell_type": "markdown",
   "metadata": {},
   "source": [
    "## Sets\n",
    "Son listas sin valores repetidos y ordenados !!"
   ]
  },
  {
   "cell_type": "code",
   "execution_count": 15,
   "metadata": {},
   "outputs": [
    {
     "name": "stdout",
     "output_type": "stream",
     "text": [
      "Sets de numeros: {1, 2, 3, 4, 5, 6, 7, 8, 9, 10, 20}\n"
     ]
    }
   ],
   "source": [
    "my_set = {20,3,10,4,1,5,4,2,6,7,8,9,7,6,5}\n",
    "print(f\"Sets de numeros: {my_set}\")"
   ]
  },
  {
   "cell_type": "markdown",
   "metadata": {},
   "source": [
    "# Dictionary"
   ]
  },
  {
   "cell_type": "code",
   "execution_count": 2,
   "metadata": {},
   "outputs": [
    {
     "name": "stdout",
     "output_type": "stream",
     "text": [
      "hello, world\n",
      "#################### --d2--####################\n",
      "{'first': 9.9, 'second': 10.01, 'third': 10.23}\n",
      "d2 keys:\tdict_keys(['first', 'second', 'third'])\n",
      "d2 values:\tdict_values([9.9, 10.01, 10.23])\n",
      "#################### --\\d2--####################\n"
     ]
    }
   ],
   "source": [
    "d0 = {}\n",
    "d1 = {'greeting':'hello', 'place':'world'}\n",
    "d2 = {'first':9.9,'second':10.01,'third':10.23}\n",
    "\n",
    "print(d1['greeting'] + ', ' + d1['place'])\n",
    "d1['place'] = 'Earth'\n",
    "d1\n",
    "\n",
    "print(\"#\"*20 + ' --d2--' + \"#\"*20)\n",
    "print(d2)\n",
    "print(\"d2 keys:\\t%s\" %d2.keys())\n",
    "print(\"d2 values:\\t%s\" %d2.values())\n",
    "print(\"#\"*20 + ' --\\d2--' + \"#\"*20)"
   ]
  },
  {
   "cell_type": "code",
   "execution_count": 17,
   "metadata": {},
   "outputs": [
    {
     "name": "stdout",
     "output_type": "stream",
     "text": [
      "Clave\t-->\tfirst\n",
      "Valor\t-->\t9.9\n",
      "Clave\t-->\tsecond\n",
      "Valor\t-->\t10.01\n",
      "Clave\t-->\tthird\n",
      "Valor\t-->\t10.23\n"
     ]
    }
   ],
   "source": [
    "for key,val in d2.items():\n",
    "    print(f\"Clave\\t-->\\t{key}\")\n",
    "    print(f\"Valor\\t-->\\t{val}\")"
   ]
  },
  {
   "cell_type": "markdown",
   "metadata": {},
   "source": [
    "## Delete keys from dictionaries\n",
    "https://stackoverflow.com/questions/11277432/how-to-remove-a-key-from-a-python-dictionary\n",
    "\n",
    "https://thispointer.com/different-ways-to-remove-a-key-from-dictionary-in-python/"
   ]
  },
  {
   "cell_type": "code",
   "execution_count": null,
   "metadata": {},
   "outputs": [],
   "source": [
    "#To delete a key regardless of whether it is in the dictionary, use the two-argument form of:\n",
    " \n",
    "my_dict.pop('greeting', None)"
   ]
  },
  {
   "cell_type": "markdown",
   "metadata": {},
   "source": [
    ">This will return my_dict[key] if key exists in the dictionary, and None otherwise. \n",
    "If the second parameter is not specified (ie. my_dict.pop('key')) and key does not exist, a KeyError is raised.\n",
    "\n",
    "To delete a key that is guaranteed to exist, you can also use"
   ]
  },
  {
   "cell_type": "code",
   "execution_count": 3,
   "metadata": {},
   "outputs": [
    {
     "ename": "KeyError",
     "evalue": "'key'",
     "output_type": "error",
     "traceback": [
      "\u001b[0;31m---------------------------------------------------------------------------\u001b[0m",
      "\u001b[0;31mKeyError\u001b[0m                                  Traceback (most recent call last)",
      "\u001b[0;32m<ipython-input-3-dcc3e982c5c4>\u001b[0m in \u001b[0;36m<module>\u001b[0;34m\u001b[0m\n\u001b[1;32m      1\u001b[0m \u001b[0;31m# This raises a KeyError if the key does not exist in the dictionary.\u001b[0m\u001b[0;34m\u001b[0m\u001b[0;34m\u001b[0m\u001b[0;34m\u001b[0m\u001b[0m\n\u001b[0;32m----> 2\u001b[0;31m \u001b[0;32mdel\u001b[0m \u001b[0md1\u001b[0m\u001b[0;34m[\u001b[0m\u001b[0;34m'key'\u001b[0m\u001b[0;34m]\u001b[0m\u001b[0;34m\u001b[0m\u001b[0;34m\u001b[0m\u001b[0m\n\u001b[0m",
      "\u001b[0;31mKeyError\u001b[0m: 'key'"
     ]
    }
   ],
   "source": [
    "# This raises a KeyError if the key does not exist in the dictionary.\n",
    "del d1['key']"
   ]
  },
  {
   "cell_type": "markdown",
   "metadata": {},
   "source": [
    "## Convert dict to JSON\n",
    "https://appdividend.com/2019/04/15/how-to-convert-python-dictionary-to-json-tutorial-with-example/"
   ]
  },
  {
   "cell_type": "markdown",
   "metadata": {},
   "source": [
    "# Branching & Loops"
   ]
  },
  {
   "cell_type": "code",
   "execution_count": 100,
   "metadata": {},
   "outputs": [
    {
     "name": "stdout",
     "output_type": "stream",
     "text": [
      "#################### --WHILE--####################\n",
      "4 4 3 3 2 2 1 1\n",
      "#################### --USE OF BREAK--####################\n",
      "0 1 2\n",
      "#################### --USE OF CONTIUE--####################\n",
      "Original c:[3, 'Hello', 77, 'World', 1.299]\n",
      "Using continue will skip one value\n",
      "77 World 1.299\n"
     ]
    }
   ],
   "source": [
    "a = 4\n",
    "\n",
    "c = [3, 'Hello', 77, 'World' , 1.299]\n",
    "\n",
    "print(\"#\"*20 + ' --WHILE--' + \"#\"*20)\n",
    "while a > 0:\n",
    "    #print (a, end = ' ') #valid for py 3, for py 2, these two is valid instead:\n",
    "    print a,              #Note the ',' at the end\n",
    "    print \"%s\" %a,\n",
    "    a -= 1\n",
    "\n",
    "print\n",
    "# Break statement will finish the execution of the loop if met some condition\n",
    "print(\"#\"*20 + ' --USE OF BREAK--' + \"#\"*20)\n",
    "while a < 5:\n",
    "    if a == 3:\n",
    "        break\n",
    "    print a,\n",
    "    a += 1\n",
    "\n",
    "print\n",
    "print(\"#\"*20 + ' --USE OF CONTIUE--' + \"#\"*20)\n",
    "print (\"Original c:%s\" %c)\n",
    "print(\"Using continue will skip one value\")\n",
    "for i in c:\n",
    "    if i == 3 or i == 'Hello':     #Skipping some values of the tuple\n",
    "        continue\n",
    "    print i,\n"
   ]
  },
  {
   "cell_type": "markdown",
   "metadata": {},
   "source": [
    "# Date & time"
   ]
  },
  {
   "cell_type": "code",
   "execution_count": 126,
   "metadata": {},
   "outputs": [
    {
     "name": "stdout",
     "output_type": "stream",
     "text": [
      "1550586690.62\n",
      "time.struct_time(tm_year=2019, tm_mon=2, tm_mday=19, tm_hour=11, tm_min=31, tm_sec=30, tm_wday=1, tm_yday=50, tm_isdst=0)\n",
      "2019-02-19\n",
      "2019-02-19 11:31:30.616000\n",
      "\n",
      "dt1\n",
      "2019-02-19T00:00:00\n",
      "\n",
      "dt2\n",
      "2019-02-12 00:00:00\n",
      "\n",
      "dt3\n",
      "1969-12-31T21:00:00\n",
      "\n",
      "dt4\n",
      "2018-04-01T12:00:00\n"
     ]
    }
   ],
   "source": [
    "import time\n",
    "from datetime import datetime, date\n",
    "\n",
    "print(time.time())                   #timestamp - epoch\n",
    "print(time.localtime(time.time()))   #time struct\n",
    "print(date.today())                  #YYYY-MM-DD\n",
    "print(datetime.today())              #YYYY-MM-DD HH:mm:ss.ss - ISO 8601 date-time\n",
    "\n",
    "#some common date-time convertions\n",
    "print \"\\ndt1\"\n",
    "dt1 = datetime.strptime('19/02/2019', '%d/%m/%Y').isoformat()\n",
    "#dt1 = datetime.strptime('19/02/2019', '%d/%m/%Y')\n",
    "print(dt1)\n",
    "\n",
    "print \"\\ndt2\"\n",
    "dt2 = datetime.strptime('12/02/19', '%d/%m/%y')\n",
    "print(dt2)\n",
    "\n",
    "#timestamp since 8:00PM on December 31st, 1969 (EPOCH time)\n",
    "print \"\\ndt3\"\n",
    "dt3 = datetime.fromtimestamp(0).isoformat()\n",
    "print(dt3)\n",
    "\n",
    "print \"\\ndt4\"\n",
    "dt4 = datetime.strptime('Sun 01 Apr 2018 12:00:00','%a %d %b %Y %H:%M:%S').isoformat()\n",
    "print(dt4)"
   ]
  },
  {
   "cell_type": "markdown",
   "metadata": {},
   "source": [
    "# IO Files"
   ]
  },
  {
   "cell_type": "code",
   "execution_count": 3,
   "metadata": {},
   "outputs": [
    {
     "name": "stdout",
     "output_type": "stream",
     "text": [
      "uno\n",
      "\n",
      "dos\n",
      "\n",
      "tres cuatro\n",
      "\n",
      "cinco\n"
     ]
    }
   ],
   "source": [
    "#If not specified, open as 'read' (default)\n",
    "with open('mon.txt') as f:\n",
    "    for lines in f:\n",
    "        print (lines,)"
   ]
  },
  {
   "cell_type": "code",
   "execution_count": 128,
   "metadata": {
    "collapsed": true
   },
   "outputs": [],
   "source": [
    "#Writting in a file\n",
    "add_lines = ('aa','bb','cc')         #tuple with new lines to add\n",
    "with open('new_file.txt', 'w') as f:\n",
    "    for line in add_lines:\n",
    "        f.write(line)\n",
    "        f.write('\\n')"
   ]
  },
  {
   "cell_type": "code",
   "execution_count": 1,
   "metadata": {},
   "outputs": [
    {
     "name": "stdout",
     "output_type": "stream",
     "text": [
      "Adding ('ddd', 'eee', 'fff')\n",
      "\n"
     ]
    }
   ],
   "source": [
    "#Appending lines in a file\n",
    "another_lines = ('ddd','eee','fff')\n",
    "#print(\"Adding {}\" .format(another_lines))\n",
    "print ('Adding %s\\n' %(another_lines,))\n",
    "\n",
    "with open('new_file.txt','a') as f:\n",
    "    f.write('Adding %s\\n' %(another_lines,))"
   ]
  }
 ],
 "metadata": {
  "kernelspec": {
   "display_name": "Python 3",
   "language": "python",
   "name": "python3"
  },
  "language_info": {
   "codemirror_mode": {
    "name": "ipython",
    "version": 3
   },
   "file_extension": ".py",
   "mimetype": "text/x-python",
   "name": "python",
   "nbconvert_exporter": "python",
   "pygments_lexer": "ipython3",
   "version": "3.7.3"
  }
 },
 "nbformat": 4,
 "nbformat_minor": 2
}
