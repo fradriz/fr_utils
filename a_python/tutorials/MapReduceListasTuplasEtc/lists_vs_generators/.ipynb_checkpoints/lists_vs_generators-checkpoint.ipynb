{
 "cells": [
  {
   "cell_type": "markdown",
   "metadata": {},
   "source": [
    "# Generators\n",
    "Following this tutorial: https://www.youtube.com/watch?v=bD05uGo_sVI&t=270s\n",
    "\n",
    "Generators: Son mucho mejor para la performance porque no dejan los valores en memoria."
   ]
  },
  {
   "cell_type": "code",
   "execution_count": 4,
   "metadata": {},
   "outputs": [
    {
     "name": "stdout",
     "output_type": "stream",
     "text": [
      "[1, 4, 9, 16, 25]\n"
     ]
    }
   ],
   "source": [
    "# Typical approach\n",
    "def square_numbers(nums):\n",
    "    \n",
    "    result = []\n",
    "    \n",
    "    for i in nums:\n",
    "        result.append(i*i)\n",
    "    return result\n",
    "\n",
    "my_nums = square_numbers([1,2,3,4,5])\n",
    "\n",
    "print(my_nums)"
   ]
  },
  {
   "cell_type": "code",
   "execution_count": 12,
   "metadata": {},
   "outputs": [
    {
     "name": "stdout",
     "output_type": "stream",
     "text": [
      "1\n",
      "4\n",
      "9\n",
      "16\n",
      "25\n"
     ]
    },
    {
     "ename": "StopIteration",
     "evalue": "",
     "output_type": "error",
     "traceback": [
      "\u001b[0;31m---------------------------------------------------------------------------\u001b[0m",
      "\u001b[0;31mStopIteration\u001b[0m                             Traceback (most recent call last)",
      "\u001b[0;32m<ipython-input-12-e4f044582771>\u001b[0m in \u001b[0;36m<module>\u001b[0;34m\u001b[0m\n\u001b[1;32m     20\u001b[0m \u001b[0;34m\u001b[0m\u001b[0m\n\u001b[1;32m     21\u001b[0m \u001b[0;31m# Si hago un valor mas da error - Execption \"stop\"\u001b[0m\u001b[0;34m\u001b[0m\u001b[0;34m\u001b[0m\u001b[0;34m\u001b[0m\u001b[0m\n\u001b[0;32m---> 22\u001b[0;31m \u001b[0mprint\u001b[0m\u001b[0;34m(\u001b[0m\u001b[0mnext\u001b[0m\u001b[0;34m(\u001b[0m\u001b[0mmy_nums\u001b[0m\u001b[0;34m)\u001b[0m\u001b[0;34m)\u001b[0m\u001b[0;34m\u001b[0m\u001b[0;34m\u001b[0m\u001b[0m\n\u001b[0m",
      "\u001b[0;31mStopIteration\u001b[0m: "
     ]
    }
   ],
   "source": [
    "# Using generator - Remember that generators yield one result at the time\n",
    "def square_numbers(nums):\n",
    "    for i in nums:\n",
    "        yield (i*i)           # Esto es lo que lo convierte en generator\n",
    "\n",
    "my_nums = square_numbers([1,2,3,4,5])\n",
    "\n",
    "# El resultado devuelve un puntero a memoria\n",
    "# Los generators no guardan los resultados en memoria (como las listas) sino que devuelven (yield) un resultado c/vez\n",
    "\n",
    "# print(my_nums)  # -> \"<generator object square_numbers at 0x109d42de0>\"\n",
    "\n",
    "# Para acceder al resultado hay que usar 'next'\n",
    "\n",
    "print(next(my_nums)) #-> devuelve el 1er resultado: '1'\n",
    "print(next(my_nums)) #-> devuelve el 2do resultado: '1'\n",
    "print(next(my_nums))\n",
    "print(next(my_nums))\n",
    "print(next(my_nums))\n",
    "\n",
    "# Si hago un valor mas da error - Execption \"StopIteration\" porque no hay mas valores\n",
    "print(next(my_nums))"
   ]
  },
  {
   "cell_type": "code",
   "execution_count": 14,
   "metadata": {},
   "outputs": [
    {
     "name": "stdout",
     "output_type": "stream",
     "text": [
      "1\n",
      "4\n",
      "9\n",
      "16\n",
      "25\n"
     ]
    }
   ],
   "source": [
    "# Using generator & For loop to present results\n",
    "def square_numbers(nums):\n",
    "    for i in nums:\n",
    "        yield (i*i)           # Esto es lo que lo convierte en generator\n",
    "\n",
    "my_nums = square_numbers([1,2,3,4,5])\n",
    "\n",
    "for num in my_nums:\n",
    "    print(num)\n"
   ]
  },
  {
   "cell_type": "code",
   "execution_count": 19,
   "metadata": {},
   "outputs": [
    {
     "name": "stdout",
     "output_type": "stream",
     "text": [
      "<generator object <genexpr> at 0x109d456d8>\n",
      "1\n",
      "4\n",
      "9\n",
      "16\n",
      "25\n"
     ]
    }
   ],
   "source": [
    "# Using generator + list comprehension\n",
    "# Usar el generator es más performante para la memoria !!\n",
    "#my_nums = [x*x for x in [1,2,3,4,5]]      #<- es una LC pero no es un geerator ! \n",
    "my_nums = (x*x for x in [1,2,3,4,5])       #<- es una LC y un generator ! Camibar las [] por () hizo el cambio!!\n",
    "\n",
    "print(my_nums)\n",
    "\n",
    "for num in my_nums:\n",
    "    print(num)"
   ]
  },
  {
   "cell_type": "code",
   "execution_count": 22,
   "metadata": {},
   "outputs": [
    {
     "name": "stdout",
     "output_type": "stream",
     "text": [
      "<generator object <genexpr> at 0x109d456d8>\n",
      "[1, 4, 9, 16, 25]\n"
     ]
    }
   ],
   "source": [
    "# Generator + list comprehension + \n",
    "my_nums = (x*x for x in [1,2,3,4,5])       #<- es una LC y un generator ! Camibar las [] por () hizo el cambio!!\n",
    "\n",
    "print(my_nums)\n",
    "print (list(my_nums))               #<- Esto pasa a lista PERO se pierde la ventaja en performance de los generators"
   ]
  },
  {
   "cell_type": "code",
   "execution_count": 10,
   "metadata": {},
   "outputs": [
    {
     "name": "stdout",
     "output_type": "stream",
     "text": [
      "Memory before: [64.66796875]MB\n",
      "Memory after: [65.65625]MB\n",
      "Tiempo usado: 5.178590813999904 secs\n"
     ]
    }
   ],
   "source": [
    "# Benchamark \n",
    "import memory_profiler\n",
    "#import mem_profile\n",
    "import random\n",
    "import time\n",
    "\n",
    "names = [\"pablo\",\"ramon\",\"ismael\",\"ricarda\",\"josefa\",\"mica\",\"eva\"]\n",
    "majors = [\"ing\",\"letras\",\"contador\",\"abogado\",\"portero\",\"negocios\"]\n",
    "\n",
    "print(\"Memory usage before (less is better): {mem}MB\" .format(mem=memory_profiler.memory_usage()))\n",
    "\n",
    "def people_list(num_people):\n",
    "    result = []\n",
    "    \n",
    "    for i in range(num_people):\n",
    "        person = {\n",
    "            'id' : i,\n",
    "            'name' : random.choice(names),\n",
    "            'major' : random.choice(majors)\n",
    "        }\n",
    "        result.append(person)\n",
    "    return result\n",
    "\n",
    "def people_generator(num_people):\n",
    "    for i in range(num_people):\n",
    "        person = {\n",
    "            'id' : i,\n",
    "            'name' : random.choice(names),\n",
    "            'major' : random.choice(majors)\n",
    "        }\n",
    "        yield(person)\n",
    "    \n",
    "iteraciones = 3000000\n",
    "#t1 = time.clock()\n",
    "t1 = time.perf_counter()\n",
    "people_list(iteraciones)\n",
    "#people_generator(iteraciones)\n",
    "#t2 = time.clock()\n",
    "t2 = time.perf_counter()\n",
    "'''\n",
    "Con 3M - list\n",
    "Memory usage before: [64.66796875]MB\n",
    "Memory usage after: [65.65625]MB\n",
    "Tiempo usado: 5.178590813999904 secs\n",
    "\n",
    "Con 3M - generator\n",
    "Memory usage before: [64.6640625]MB\n",
    "Memory usage after: [64.66796875]MB\n",
    "Tiempo usado: 9.999899998547335e-05 secs\n",
    "'''\n",
    "\n",
    "print(\"Memory usage after (less is better): {mem}MB\" .format(mem=memory_profiler.memory_usage()))\n",
    "print(\"Tiempo usado: {tt} secs\" .format(tt=t2-t1))\n"
   ]
  }
 ],
 "metadata": {
  "kernelspec": {
   "display_name": "Python 3",
   "language": "python",
   "name": "python3"
  },
  "language_info": {
   "codemirror_mode": {
    "name": "ipython",
    "version": 3
   },
   "file_extension": ".py",
   "mimetype": "text/x-python",
   "name": "python",
   "nbconvert_exporter": "python",
   "pygments_lexer": "ipython3",
   "version": "3.7.3"
  }
 },
 "nbformat": 4,
 "nbformat_minor": 2
}
