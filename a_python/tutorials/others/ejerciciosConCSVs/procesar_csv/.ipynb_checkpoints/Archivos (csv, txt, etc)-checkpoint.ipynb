{
 "cells": [
  {
   "cell_type": "code",
   "execution_count": 18,
   "metadata": {
    "collapsed": false
   },
   "outputs": [
    {
     "name": "stdout",
     "output_type": "stream",
     "text": [
      "['111', '  22222222222', ' 3444444', '  444455', '   666666666']\n",
      "['aaa', '  bbbbbbbbbbb', ' cdddddd', '  ddddee', '   fffffffff']\n"
     ]
    }
   ],
   "source": [
    "import csv\n",
    "\n",
    "#f = open('inicial.csv', 'rb')\n",
    "\n",
    "#With open('inicial.csv', 'rb') as f:\n",
    "#arch = csv.reader(f)\n",
    "#for row in reader:\n",
    "#    print row\n",
    "\n",
    "with open('inicial.csv') as csvfile:\n",
    "    readCSV = csv.reader(csvfile, delimiter=',')\n",
    "    for row in readCSV:\n",
    "        print(row)\n",
    "        #print(row[0])\n",
    "        print(row[0],row[1],row[2],)"
   ]
  },
  {
   "cell_type": "code",
   "execution_count": 19,
   "metadata": {
    "collapsed": false
   },
   "outputs": [
    {
     "name": "stdout",
     "output_type": "stream",
     "text": [
      "['111', '', '22222222222', '3444444', '', '444455', '', '', '666666666']\n",
      "['aaa', '', 'bbbbbbbbbbb', 'cdddddd', '', 'ddddee', '', '', 'fffffffff']\n"
     ]
    }
   ],
   "source": [
    "with open('inicial.txt') as csvfile:\n",
    "    readCSV = csv.reader(csvfile, delimiter=' ')\n",
    "    for row in readCSV:\n",
    "        print(row)\n",
    "        #print(row[0])\n",
    "        #print(row[0],row[1],row[2],)"
   ]
  },
  {
   "cell_type": "code",
   "execution_count": 13,
   "metadata": {
    "collapsed": false,
    "scrolled": true
   },
   "outputs": [
    {
     "name": "stdout",
     "output_type": "stream",
     "text": [
      "Linea completa: 111--22222222222-3444444--444455---666666666\n",
      "\n",
      "\tmatriz(5): 111--\n",
      "\tcuit(11): 22222222222\n",
      "\tsit_1(2): -3\n",
      "\tsit_jud_1(12): 444444--4444\n",
      "\tsit_2(2): 55\n",
      "\tsit_jud_1(12): ---666666666\n",
      "Linea completa: aaa--bbbbbbbbbbb-cdddddd--ddddee---fffffffff\n",
      "\tmatriz(5): aaa--\n",
      "\tcuit(11): bbbbbbbbbbb\n",
      "\tsit_1(2): -c\n",
      "\tsit_jud_1(12): dddddd--dddd\n",
      "\tsit_2(2): ee\n",
      "\tsit_jud_1(12): ---fffffffff\n"
     ]
    }
   ],
   "source": [
    "#x = []\n",
    "with open('inicial.txt', 'r') as f:\n",
    "    #temp_list = []\n",
    "    for line in f:\n",
    "        print ('Linea completa:', line)\n",
    "        print('\\tmatriz(5):',line[0:5])\n",
    "        print('\\tcuit(11):',line[5:16])\n",
    "        print('\\tsit_1(2):',line[16:18])\n",
    "        print('\\tsit_jud_1(12):',line[18:30])\n",
    "        print('\\tsit_2(2):',line[30:32])\n",
    "        print('\\tsit_jud_1(12):',line[32:44])\n",
    "\n",
    "        #if line.strip(): #line is not blank\n",
    "        #    temp_list.append(line)\n",
    "        #else: #line is blank, i.e., it contains only newlines and/or whitespace\n",
    "        #    if temp_list: #check if temp_list contains any items\n",
    "        #        x.append(temp_list)\n",
    "        #    temp_list = []"
   ]
  },
  {
   "cell_type": "markdown",
   "metadata": {},
   "source": [
    "Links:\n",
    "https://docs.python.org/2/library/csv.html\n",
    "https://stackoverflow.com/questions/17444679/reading-a-huge-csv-file\n",
    "https://stackoverflow.com/questions/509211/understanding-pythons-slice-notation\n",
    "https://pythonprogramming.net/reading-csv-files-python-3/\n",
    "https://stackoverflow.com/questions/28454359/python-read-text-file-into-array-unequal-row-distrubution\n",
    "https://stackoverflow.com/questions/24868856/reading-rows-of-big-csv-file-in-python\n",
    "https://codereview.stackexchange.com/questions/88885/efficiently-filter-a-large-100gb-csv-file-v3\n",
    "http://dask.pydata.org/en/latest/index.html\n",
    "\n"
   ]
  }
 ],
 "metadata": {
  "anaconda-cloud": {},
  "kernelspec": {
   "display_name": "Python [default]",
   "language": "python",
   "name": "python3"
  },
  "language_info": {
   "codemirror_mode": {
    "name": "ipython",
    "version": 3
   },
   "file_extension": ".py",
   "mimetype": "text/x-python",
   "name": "python",
   "nbconvert_exporter": "python",
   "pygments_lexer": "ipython3",
   "version": "3.5.2"
  }
 },
 "nbformat": 4,
 "nbformat_minor": 1
}
