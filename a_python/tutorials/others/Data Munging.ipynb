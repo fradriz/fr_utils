{
 "cells": [
  {
   "cell_type": "markdown",
   "metadata": {},
   "source": [
    "# Data Munging\n",
    "\n",
    "Voy a analizar y validar un set de datos sin usar Pandas porque no está instalado en Cambrian. Abajo dejo algunos links para ver con Pandas. \n",
    "\n",
    "Leer archivos CSVs gigantes:\n",
    "\n",
    "* https://stackoverflow.com/questions/17444679/reading-a-huge-csv-file (usa las **[generator functions](https://www.programiz.com/python-programming/generator)** )\n",
    "\n",
    "Otros:\n",
    "* https://stackoverflow.com/questions/17006708/how-to-process-huge-csv-file-into-python\n",
    "* https://stackoverflow.com/questions/42900757/sequentially-read-huge-csv-file-in-python\n",
    "* https://stackoverflow.com/questions/28951172/improving-efficiency-of-reading-a-large-csv-file\n",
    "* https://stackoverflow.com/questions/9087039/most-efficient-way-to-parse-a-large-csv-in-python\n",
    "\n",
    "Con Pandas:\n",
    "* Data Munging with Python, SQL and Excel: https://blogs.library.ucsf.edu/ckm/2016/09/27/data-munging-with-python-sql-and-excel/\n",
    "\n",
    "Ver tambien el notebook con el tutorial de Pandas\n"
   ]
  },
  {
   "cell_type": "markdown",
   "metadata": {},
   "source": [
    "## Detectar separador\n",
    "\n",
    "Para buscar el separador puedo ver las 10 primeras líneas de un archvio ('head') y contar:\n",
    "\n",
    "* TABS =  grep -o -P \"\\t\" sc.csv|wc -l\n",
    "* PYC = grep -o ';' sc.csv|wc -l\n",
    "* COM = grep -o ',' sc.csv|wc -l\n",
    "* ESP = grep -o ' ' sc.csv|wc -l\n",
    "\n",
    "El que obtenga el mayor número se considerará el separador."
   ]
  },
  {
   "cell_type": "code",
   "execution_count": 64,
   "metadata": {
    "collapsed": false
   },
   "outputs": [
    {
     "name": "stdout",
     "output_type": "stream",
     "text": [
      "El separador es:';'\n",
      "Modulo = 0 - CAMPOS =  6\n"
     ]
    }
   ],
   "source": [
    "#Usar: import os\n",
    "# PYC = os.popen('head %s | grep -o -P \\\"\\\\t\\\"|wc -l' %archivo).read()\n",
    "# die en python: #sys.exit()\n",
    "\n",
    "#Supiendo que ya obtuve de los comandos anteriores las cantidades armo un diccionario y obtengo el mayor.\n",
    "PYC = 30\n",
    "COM = 5\n",
    "ESP = 5\n",
    "TABS = 2\n",
    "sep = {';':PYC, ',':COM,' ':ESP,'\\t':TABS}\n",
    "\n",
    "#Esta funcion obtiene el key con el mayor valor.\n",
    "#separador=max(sep,key=lambda k: sep[k])\n",
    "separador=max(sep,key=sep.get)\n",
    "\n",
    "print (\"El separador es:'%s'\" %separador)\n",
    "\n",
    "# De: https://stackoverflow.com/questions/42174367/how-can-i-determine-the-number-of-fields-in-a-csv-from-the-shell\n",
    "# y: https://stackoverflow.com/questions/450799/shell-command-to-sum-integers-one-per-line\n",
    "#Número de campos: head -n 10 sc.csv | awk -F\";\" '{print NF}'\n",
    "#Para que sume todas las lineas: CANTIDAD_CAMPOS =   head -n 10 sc.csv | awk -F\";\" '{print NF}'|awk '{s+=$1} END {print s}'\n",
    "#Cuento 10 líneas del archivo. Si CANTIDAD_CAMPOS % 0 es distinto de cero => la cantida de campos está mal = > TERMNAR EJ\n",
    "\n",
    "CANTIDAD_CAMPOS = 60\n",
    "\n",
    "if (CANTIDAD_CAMPOS%10):\n",
    "    print (\"El modulo <> 0 - TERMINAR EJECUCION DEL PROGRAMA CON ERROR\")\n",
    "else:\n",
    "    CANTIDAD_CAMPOS = int(CANTIDAD_CAMPOS/10)\n",
    "    print (\"Modulo = 0 - CAMPOS = \", CANTIDAD_CAMPOS)"
   ]
  },
  {
   "cell_type": "code",
   "execution_count": 41,
   "metadata": {
    "collapsed": false
   },
   "outputs": [
    {
     "name": "stdout",
     "output_type": "stream",
     "text": [
      "Fila 0: FECHA;HORA;EAN;MONTO_UNITARIO;CANTIDAD;MONTO_TOTAL\n",
      "Cantidad de campos: 6\n",
      "\n",
      "Fila 1: 2017-09-05 00000000;\t203405;0001;  3,56;1;3,56\n",
      "Cantidad de campos: 6\n",
      "\n",
      "Fila 2: 2017-09-05 00000000;203405;0001;4,05;2;8,1\n",
      "Cantidad de campos: 6\n",
      "\n",
      "Fila 3: 2017-15-05 00000000;203405;0001;4,05;2;8,1\n",
      "Cantidad de campos: 6\n",
      "\n",
      "Fila 4: 2017-09-05 00000000;283405;0001;3,56;1;3,56\n",
      "Cantidad de campos: 6\n",
      "\n",
      "Fila 5: 2017-09-05 00000000;;0001;3,56;1;3,56\n",
      "Cantidad de campos: 6\n",
      "\n"
     ]
    }
   ],
   "source": [
    "#Leer un csv con Pandas\n",
    "#df = pd.read_csv(archivo\") \n",
    "#df.head(10)\n",
    "\n",
    "#Abrir y leer csv sin Pandas (como Cambrian no tiene Pandas por ahora lo tengo que resolver así)\n",
    "#import csv\n",
    "nombre_archivo = \"scentia_test.csv\"\n",
    "path='C:/Users/F/Dropbox/Personal/CienciaDeDatos/98_Miscelaneos/pydata101/TutorialPython/datasets/'\n",
    "archivo=path + nombre_archivo\n",
    "\n",
    "#Abrir el archivo: https://docs.python.org/2/tutorial/inputoutput.html#reading-and-writing-files\n",
    "#           r -> read (default si no se aclara)\n",
    "#           w -> write (OJO: archivo con el mismo nombre se borra)\n",
    "#           a -> append (agregar más datos al final de un archivo existente)\n",
    "#           r+ -> read/write\n",
    "#           b -> binary. Usar siempre en Windows para archivos binarios. Si un archivo binario se abre como texto en windows puede corromperse.\n",
    "#           r+b -> read write binary.\n",
    "# OJO: En windows usar siempre el modo 'b' para no corromper archivos binarios. En Linux es indiferente. \n",
    "#Por lo tanto, para no tener problemas de plataforma USAR SIEMPRE 'b'\n",
    "\n",
    "csv_file = open(archivo, 'r')\n",
    "\n",
    "#FALTA: buscar el separador del archivo. Ver cuantas \n",
    "c=0\n",
    "for row in csv_file:    \n",
    "    row=row.rstrip()\n",
    "    print ('Fila %s: %s' %(c,row)); c += 1    #rstrip == chomp\n",
    "    #COM = row.count(','); PYC = row.count(';');  TABS = row.count('\\t'); ESP = row.count(' ')\n",
    "    #print(\"Separadores:\\n\\tComa: %s\\n\\tPunto y coma: %s\\n\\tTabs: %s\\n\\tESP: %s\" %(COM,PYC,TABS,ESP))\n",
    "    #col = row.decode('ascii').split(';')    #El decode se usa porque lo abrí como binario, sino hay que abrir como texto (sin la 'b')\n",
    "    #col = row.split(';')\n",
    "    col = row.split(separador)\n",
    "    #print(type(col))\n",
    "    print(\"Cantidad de campos: %s\\n\" %len(col))\n",
    "    #print (col[0])\n",
    "    \n",
    "csv_file.close()           #Cerrar el archivo cuando no se use mas"
   ]
  },
  {
   "cell_type": "code",
   "execution_count": 96,
   "metadata": {
    "collapsed": false
   },
   "outputs": [
    {
     "name": "stdout",
     "output_type": "stream",
     "text": [
      "Linea 1: Cantidad de campos correcta - Seguir verificando\n",
      "Linea 2: Cantidad de campos correcta - Seguir verificando\n",
      "Linea 3: Cantidad de campos correcta - Seguir verificando\n",
      "Linea 4: Cantidad de campos correcta - Seguir verificando\n",
      "Linea 5: Cantidad de campos incorrecta - MANDAR LINEA A LOG DE ERRORES\n",
      "Linea 6: Cantidad de campos correcta - Seguir verificando\n",
      "--- Tiempo de ejecución: 0.001953125 seconds ---\n"
     ]
    }
   ],
   "source": [
    "#Abrir y leer csv sin Pandas (como Cambrian no tiene Pandas por ahora lo tengo que resolver así)\n",
    "import time\n",
    "start_time = time.time()\n",
    "\n",
    "nombre_archivo = \"scentia_test.csv\"\n",
    "path='C:/Users/F/Dropbox/Personal/CienciaDeDatos/98_Miscelaneos/pydata101/TutorialPython/datasets/'\n",
    "archivo=path + nombre_archivo\n",
    "\n",
    "csv_file = open(archivo, 'r')\n",
    "\n",
    "c=0\n",
    "for row in csv_file:    \n",
    "    row=row.rstrip()                           #rstrip == chomp\n",
    "    #print ('Fila %s: %s' %(c,row)); \n",
    "    c += 1    \n",
    "    col = row.split(separador)\n",
    "    #print(\"Cantidad de campos: %s\\n\" %len(col))\n",
    "    if (CANTIDAD_CAMPOS != len(col)):\n",
    "        print(\"Linea %s: Cantidad de campos incorrecta - MANDAR LINEA A LOG DE ERRORES\" %c)\n",
    "    else:\n",
    "        print(\"Linea %s: Cantidad de campos correcta - Seguir verificando\" %c)\n",
    "        FECHA = col[0]\n",
    "        HORA = col[1]\n",
    "        EAN = col[2]\n",
    "        MONTO_UNITARIO = col[3]\n",
    "        \n",
    "csv_file.close()           #Cerrar el archivo cuando no se use mas\n",
    "\n",
    "end_time = time.time()\n",
    "print(\"--- Tiempo de ejecución: %s seconds ---\" % (end_time - start_time))"
   ]
  }
 ],
 "metadata": {
  "anaconda-cloud": {},
  "kernelspec": {
   "display_name": "Python [default]",
   "language": "python",
   "name": "python3"
  },
  "language_info": {
   "codemirror_mode": {
    "name": "ipython",
    "version": 3
   },
   "file_extension": ".py",
   "mimetype": "text/x-python",
   "name": "python",
   "nbconvert_exporter": "python",
   "pygments_lexer": "ipython3",
   "version": "3.5.2"
  }
 },
 "nbformat": 4,
 "nbformat_minor": 1
}
