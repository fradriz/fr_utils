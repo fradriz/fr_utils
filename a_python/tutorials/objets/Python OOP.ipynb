{
 "cells": [
  {
   "cell_type": "markdown",
   "metadata": {},
   "source": [
    "# Python Object-Oriented Programming (OOP)\n",
    "\n",
    "## Tutorial 1\n",
    "\n",
    "Link: https://www.youtube.com/watch?v=ZDa-Z5JzLYM&list=WL&t=0s&index=15\n",
    "\n",
    "Method: function asssiated with a class\n",
    "\n",
    "Class is a blue print to create instances"
   ]
  },
  {
   "cell_type": "code",
   "execution_count": 4,
   "metadata": {
    "collapsed": false
   },
   "outputs": [
    {
     "name": "stdout",
     "output_type": "stream",
     "text": [
      "<__main__.Employee object at 0x0000009B94D1D400>\n",
      "<__main__.Employee object at 0x0000009B94D1D208>\n",
      "Corey.Schafer@company.com\n",
      "Test.User@company.com\n"
     ]
    }
   ],
   "source": [
    "class Employee:\n",
    "    pass\n",
    "    \n",
    "emp_1 = Employee()\n",
    "emp_2 = Employee()\n",
    "\n",
    "print(emp_1)\n",
    "print(emp_2)\n",
    "\n",
    "\n",
    "emp_1.first = 'Corey'\n",
    "emp_1.last = 'Schafer'\n",
    "emp_1.email = 'Corey.Schafer@company.com'\n",
    "emp_1.pay = 50000\n",
    "\n",
    "emp_2.first = 'Test'\n",
    "emp_2.last = 'User'\n",
    "emp_2.email = 'Test.User@company.com'\n",
    "emp_2.pay = 60000\n",
    "\n",
    "print(emp_1.email)\n",
    "print(emp_2.email)\n"
   ]
  },
  {
   "cell_type": "markdown",
   "metadata": {},
   "source": [
    "Para tener alguna ventaja cuando se usan clases haremos lo mismo pero diferente."
   ]
  },
  {
   "cell_type": "code",
   "execution_count": 34,
   "metadata": {
    "collapsed": false
   },
   "outputs": [
    {
     "name": "stdout",
     "output_type": "stream",
     "text": [
      "Corey.Schafer@company.com\n",
      "Test.User@company.com\n",
      "Corey Schafer\n",
      "Corey Schafer\n",
      "Usamos el método fullname de la clase Employee, instancia emp_1:\n",
      "\t Corey Schafer\n"
     ]
    }
   ],
   "source": [
    "class Employee:\n",
    "    \n",
    "    def __init__(self,first,last,pay):        #Inicializador o constructor (java). 'self' (la instancia) es una convención (no es mandatorio de python)\n",
    "        self.first = first                    #Estos son los atributos de la clase\n",
    "        self.last = last\n",
    "        self.pay = pay\n",
    "        self.email = first + '.' + last + '@company.com'\n",
    "        \n",
    "    def fullname(self):                      #Method para mostrar el nombre completo. NO olvidar poner la instancia 'self'\n",
    "        return '{} {}'.format(self.first,self.last)\n",
    "    \n",
    "emp_1 = Employee('Corey','Schafer',50000)\n",
    "emp_2 = Employee('Test','User',60000)\n",
    "\n",
    "print(emp_1.email)\n",
    "print(emp_2.email)\n",
    "\n",
    "#Imprimimos los nombres directamente\n",
    "print(emp_1.first + ' ' + emp_1.last)\n",
    "print('{} {}'.format(emp_1.first,emp_1.last))\n",
    "\n",
    "#Imprimimos el nombre usando el método fullname()\n",
    "print('Usamos el método fullname de la clase Employee, instancia emp_1:')\n",
    "print('\\t', emp_1.fullname())\n"
   ]
  },
  {
   "cell_type": "code",
   "execution_count": 24,
   "metadata": {
    "collapsed": false
   },
   "outputs": [],
   "source": [
    "Employee.fullname(emp_1)              #Eso es lo que pasa cuando se escribe 'emp_1.fullname()'"
   ]
  },
  {
   "cell_type": "markdown",
   "metadata": {},
   "source": [
    "## Tutorial 2 - Class Variables\n",
    "\n",
    "Link:https://www.youtube.com/watch?v=BJ-VvGyQxho "
   ]
  },
  {
   "cell_type": "code",
   "execution_count": 36,
   "metadata": {
    "collapsed": false
   },
   "outputs": [
    {
     "name": "stdout",
     "output_type": "stream",
     "text": [
      "Antes del aumento:  50000\n",
      "Despues del aumento:  52000\n"
     ]
    }
   ],
   "source": [
    "#Suponemos que se quiere asignar un aumento del 4% del sueldo cada vez que se aplica el método'apply_raise'\n",
    "class Employee:\n",
    "    \n",
    "    def __init__(self,first,last,pay):        \n",
    "        self.first = first                    \n",
    "        self.last = last\n",
    "        self.pay = pay\n",
    "        self.email = first + '.' + last + '@company.com'\n",
    "        \n",
    "    def fullname(self):                      \n",
    "        return '{} {}'.format(self.first,self.last)\n",
    "    \n",
    "    def apply_raise(self):\n",
    "        self.pay = int(self.pay * 1.04)\n",
    "        \n",
    "emp_1 = Employee('Corey','Schafer',50000)\n",
    "emp_2 = Employee('Test','User',60000)\n",
    "        \n",
    "print('Antes del aumento: ',emp_1.pay)\n",
    "emp_1.apply_raise()\n",
    "print('Despues del aumento: ', emp_1.pay)"
   ]
  },
  {
   "cell_type": "code",
   "execution_count": 37,
   "metadata": {
    "collapsed": false
   },
   "outputs": [
    {
     "name": "stdout",
     "output_type": "stream",
     "text": [
      "Antes del aumento:  50000\n",
      "Despues del aumento:  52000\n"
     ]
    }
   ],
   "source": [
    "# Idem antes pero definiendo el aumento desde una variable\n",
    "class Employee:\n",
    "    \n",
    "    raise_amount = 1.04                     #Variable que se usará para el aumento\n",
    "    \n",
    "    def __init__(self,first,last,pay):        \n",
    "        self.first = first                    \n",
    "        self.last = last\n",
    "        self.pay = pay\n",
    "        self.email = first + '.' + last + '@company.com'\n",
    "        \n",
    "    def fullname(self):                      \n",
    "        return '{} {}'.format(self.first,self.last)\n",
    "    \n",
    "    def apply_raise(self):\n",
    "        self.pay = int(self.pay * self.raise_amount)\n",
    "        \n",
    "emp_1 = Employee('Corey','Schafer',50000)\n",
    "emp_2 = Employee('Test','User',60000)\n",
    "        \n",
    "print('Antes del aumento: ',emp_1.pay)\n",
    "emp_1.apply_raise()\n",
    "print('Despues del aumento: ', emp_1.pay)"
   ]
  },
  {
   "cell_type": "code",
   "execution_count": 40,
   "metadata": {
    "collapsed": false
   },
   "outputs": [
    {
     "name": "stdout",
     "output_type": "stream",
     "text": [
      "{'email': 'Corey.Schafer@company.com', 'pay': 52000, 'first': 'Corey', 'last': 'Schafer'}\n"
     ]
    }
   ],
   "source": [
    "print(emp_1.__dict__)"
   ]
  },
  {
   "cell_type": "code",
   "execution_count": 41,
   "metadata": {
    "collapsed": false
   },
   "outputs": [
    {
     "name": "stdout",
     "output_type": "stream",
     "text": [
      "{'raise_amount': 1.04, '__weakref__': <attribute '__weakref__' of 'Employee' objects>, '__init__': <function Employee.__init__ at 0x0000009B94D39B70>, '__dict__': <attribute '__dict__' of 'Employee' objects>, '__doc__': None, 'fullname': <function Employee.fullname at 0x0000009B94D39F28>, '__module__': '__main__', 'apply_raise': <function Employee.apply_raise at 0x0000009B94D39D08>}\n"
     ]
    }
   ],
   "source": [
    "print(Employee.__dict__)"
   ]
  },
  {
   "cell_type": "code",
   "execution_count": 42,
   "metadata": {
    "collapsed": false
   },
   "outputs": [
    {
     "name": "stdout",
     "output_type": "stream",
     "text": [
      "{'raise_amount': 1.05, 'email': 'Corey.Schafer@company.com', 'pay': 52000, 'first': 'Corey', 'last': 'Schafer'}\n"
     ]
    }
   ],
   "source": [
    "emp_1.raise_amount = 1.05\n",
    "print(emp_1.__dict__)"
   ]
  },
  {
   "cell_type": "code",
   "execution_count": 46,
   "metadata": {
    "collapsed": false
   },
   "outputs": [
    {
     "name": "stdout",
     "output_type": "stream",
     "text": [
      "El cambio anterior en emp_1 solo afectó a la instancia emp_1, el resto queda como lo definido en la clase original\n",
      "1.04\n",
      "1.05\n",
      "1.04\n"
     ]
    }
   ],
   "source": [
    "print('El cambio anterior en emp_1 solo afectó a la instancia emp_1, el resto queda como lo definido en la clase original')\n",
    "print('{}\\n{}\\n{}'.format(Employee.raise_amount, emp_1.raise_amount,emp_2.raise_amount))"
   ]
  },
  {
   "cell_type": "code",
   "execution_count": 70,
   "metadata": {
    "collapsed": false
   },
   "outputs": [
    {
     "name": "stdout",
     "output_type": "stream",
     "text": [
      "0\n",
      "2\n"
     ]
    }
   ],
   "source": [
    "# Idem antes pero definiendo variable que va cambiando para la clase (Employee) y no la instancia (emp_1)\n",
    "class Employee:\n",
    "    \n",
    "    num_of_emps = 0                     #Variable de clase que debe incrmentarse cuando se agrega un nuevo empleado\n",
    "    raise_amount = 1.04                 #Variable de clase    \n",
    "    \n",
    "    def __init__(self,first,last,pay):        \n",
    "        self.first = first                    \n",
    "        self.last = last\n",
    "        self.pay = pay\n",
    "        self.email = first + '.' + last + '@company.com'\n",
    "        Employee.num_of_emps += 1         #Variable de clase: Esto funciona si lo pongo en el constructor. OJO !\n",
    "        #Link: https://stackoverflow.com/questions/42193121/incrementing-class-variables-dynamically-in-python\n",
    "        \n",
    "    def fullname(self):                      \n",
    "        return '{} {}'.format(self.first,self.last)\n",
    "    \n",
    "    def apply_raise(self):\n",
    "        self.pay = int(self.pay * self.raise_amount)\n",
    "\n",
    "print(Employee.num_of_emps)\n",
    "\n",
    "emp_1 = Employee('Corey','Schafer',50000)\n",
    "emp_2 = Employee('Test','User',60000)\n",
    "\n",
    "print(Employee.num_of_emps)"
   ]
  },
  {
   "cell_type": "markdown",
   "metadata": {},
   "source": [
    "## Tutorial 3 - Classmethods and staticmethods\n",
    "\n",
    "Link: https://www.youtube.com/watch?v=rq8cL2XMM5M"
   ]
  },
  {
   "cell_type": "code",
   "execution_count": 3,
   "metadata": {
    "collapsed": false
   },
   "outputs": [
    {
     "name": "stdout",
     "output_type": "stream",
     "text": [
      "Usando la variable de clase original el aumento es del 4%\n",
      "1.04\n",
      "1.04\n",
      "1.04\n",
      "Usando la variable en el método de clase vemos como cambió el aumento a 5%\n",
      "1.05\n",
      "1.05\n",
      "1.05\n"
     ]
    }
   ],
   "source": [
    "# Idem antes pero definiendo variable que va cambiando para la clase (Employee) y no la instancia (emp_1)\n",
    "class Employee:\n",
    "    \n",
    "    num_of_emps = 0                     \n",
    "    raise_amount = 1.04            #Variable de clase             \n",
    "    \n",
    "    def __init__(self,first,last,pay):        \n",
    "        self.first = first                    \n",
    "        self.last = last\n",
    "        self.pay = pay\n",
    "        self.email = first + '.' + last + '@company.com'\n",
    "        Employee.num_of_emps += 1         \n",
    "        \n",
    "    def fullname(self):                              #Método regular: Instance como primer argumento         \n",
    "        return '{} {}'.format(self.first,self.last)\n",
    "    \n",
    "    def apply_raise(self):\n",
    "        self.pay = int(self.pay * self.raise_amount)\n",
    "        \n",
    "    @classmethod                        #DECORATOR<----Esto define un método de clase\n",
    "    def set_raise_amt(cls, amount):     #Método de clase. El 1er argumento es la clase (no usar 'class' por ser palabra reservada)\n",
    "        cls.raise_amt = amount\n",
    "\n",
    "emp_1 = Employee('Corey','Schafer',50000)\n",
    "emp_2 = Employee('Test','User',60000)\n",
    "\n",
    "Employee.set_raise_amt(1.05)           #Uso el método de clase para definir un 5% de aumento. El 1er argumento es la clase 'cls' y NO se pone.\n",
    "\n",
    "print('Usando la variable de clase original el aumento es del 4%')\n",
    "print('{}\\n{}\\n{}'.format(Employee.raise_amount, emp_1.raise_amount,emp_2.raise_amount))\n",
    "print('Usando la variable en el método de clase vemos como cambió el aumento a 5%')\n",
    "print('{}\\n{}\\n{}'.format(Employee.raise_amt, emp_1.raise_amt,emp_2.raise_amt))\n"
   ]
  },
  {
   "cell_type": "code",
   "execution_count": 5,
   "metadata": {
    "collapsed": false
   },
   "outputs": [
    {
     "name": "stdout",
     "output_type": "stream",
     "text": [
      "John.Doe@company.com\n",
      "70000\n"
     ]
    }
   ],
   "source": [
    "# \n",
    "class Employee:\n",
    "    \n",
    "    num_of_emps = 0                     \n",
    "    raise_amount = 1.04            #Variable de clase             \n",
    "    \n",
    "    def __init__(self,first,last,pay):        \n",
    "        self.first = first                    \n",
    "        self.last = last\n",
    "        self.pay = pay\n",
    "        self.email = first + '.' + last + '@company.com'\n",
    "        Employee.num_of_emps += 1         \n",
    "        \n",
    "    def fullname(self):                              #Método regular: Instance como primer argumento         \n",
    "        return '{} {}'.format(self.first,self.last)\n",
    "    \n",
    "    def apply_raise(self):\n",
    "        self.pay = int(self.pay * self.raise_amount)\n",
    "        \n",
    "    @classmethod                        #DECORATOR<----Esto define un método de clase\n",
    "    def set_raise_amt(cls, amount):     #Método de clase. El 1er argumento es la clase (no usar 'class' por ser palabra reservada)\n",
    "        cls.raise_amt = amount\n",
    "\n",
    "emp_1 = Employee('Corey','Schafer',50000)\n",
    "emp_2 = Employee('Test','User',60000)\n",
    "\n",
    "#Suponemos que se quiere crear nuevos empleados desde esto:\n",
    "emp_str_1 = 'John-Doe-70000'\n",
    "emp_str_2 = 'Steve-Smith-30000'\n",
    "emp_str_3 = 'Jan-Doe-90000'\n",
    "\n",
    "first, last, pay = emp_str_1.split('-')\n",
    "new_emp_1 = Employee(first,last,pay)\n",
    "\n",
    "print(new_emp_1.email)\n",
    "print(new_emp_1.pay)"
   ]
  },
  {
   "cell_type": "code",
   "execution_count": 8,
   "metadata": {
    "collapsed": false
   },
   "outputs": [
    {
     "name": "stdout",
     "output_type": "stream",
     "text": [
      "Jan.Doe@company.com\n",
      "90000\n"
     ]
    }
   ],
   "source": [
    "# Se hace lo anterior pero usando un classmethod\n",
    "class Employee:\n",
    "    \n",
    "    num_of_emps = 0                     \n",
    "    raise_amount = 1.04            #Variable de clase             \n",
    "    \n",
    "    def __init__(self,first,last,pay):              #Constructor     \n",
    "        self.first = first                    \n",
    "        self.last = last\n",
    "        self.pay = pay\n",
    "        self.email = first + '.' + last + '@company.com'\n",
    "        Employee.num_of_emps += 1         \n",
    "        \n",
    "    def fullname(self):                              #Método regular o de instancia: Instance como primer argumento         \n",
    "        return '{} {}'.format(self.first,self.last)\n",
    "    \n",
    "    def apply_raise(self):\n",
    "        self.pay = int(self.pay * self.raise_amount)\n",
    "        \n",
    "    @classmethod                        #DECORATOR<----Esto define un método de clase\n",
    "    def set_raise_amt(cls, amount):     #Método de clase. El 1er argumento es la clase (no usar 'class' por ser palabra reservada)\n",
    "        cls.raise_amt = amount\n",
    "\n",
    "    @classmethod\n",
    "    def from_string(cls,emp_str):                       #CONSTRUCTOR ALTERNATIVO usando un método de clase\n",
    "        first, last, pay = emp_str.split('-')           #Se hace el split aca\n",
    "        return cls(first,last,pay)                      #Esto es equivalente a 'Employee(first,last,pay)' usado antes\n",
    "        \n",
    "emp_1 = Employee('Corey','Schafer',50000)\n",
    "emp_2 = Employee('Test','User',60000)\n",
    "\n",
    "#Suponemos que se quiere crear nuevos empleados desde esto:\n",
    "emp_str_1 = 'John-Doe-70000'\n",
    "emp_str_2 = 'Steve-Smith-30000'\n",
    "emp_str_3 = 'Jan-Doe-90000'\n",
    "\n",
    "#first, last, pay = emp_str_1.split('-')           #Estas dos lineas se pasaron al método de clase 'from_string'\n",
    "#new_emp_1 = Employee(first,last,pay)\n",
    "\n",
    "new_emp_1 = Employee.from_string(emp_str_3)        #Ahora se crea el nuevo empleado usando el método de clase 'from_string'\n",
    "\n",
    "print(new_emp_1.email)\n",
    "print(new_emp_1.pay)"
   ]
  },
  {
   "cell_type": "code",
   "execution_count": 28,
   "metadata": {
    "collapsed": false
   },
   "outputs": [
    {
     "name": "stdout",
     "output_type": "stream",
     "text": [
      "Fast implementation of the datetime type.\n"
     ]
    }
   ],
   "source": [
    "import datetime\n",
    "#Uso de una clase 'time' o 'datetime'\n",
    "#print(time.__doc__)\n",
    "print(datetime.__doc__)"
   ]
  },
  {
   "cell_type": "code",
   "execution_count": 34,
   "metadata": {
    "collapsed": false
   },
   "outputs": [
    {
     "name": "stdout",
     "output_type": "stream",
     "text": [
      "True\n"
     ]
    }
   ],
   "source": [
    "#Ahora se utilizará métodos estáticos (staticmethod)\n",
    "# Se hace lo anterior pero usando un classmethod\n",
    "class Employee:\n",
    "    \n",
    "    num_of_emps = 0                     \n",
    "    raise_amount = 1.04                             #Variable de clase             \n",
    "    \n",
    "    def __init__(self,first,last,pay):              #Constructor     \n",
    "        self.first = first                    \n",
    "        self.last = last\n",
    "        self.pay = pay\n",
    "        self.email = first + '.' + last + '@company.com'\n",
    "        Employee.num_of_emps += 1         \n",
    "        \n",
    "    def fullname(self):                              #Método regular o de instancia: Instance como primer argumento         \n",
    "        return '{} {}'.format(self.first,self.last)\n",
    "    \n",
    "    def apply_raise(self):\n",
    "        self.pay = int(self.pay * self.raise_amount)\n",
    "        \n",
    "    @classmethod                                    #DECORATOR<----Esto define un método de clase\n",
    "    def set_raise_amt(cls, amount):                 #Método de clase. El 1er argumento es la clase \n",
    "        cls.raise_amt = amount\n",
    "\n",
    "    @classmethod\n",
    "    def from_string(cls,emp_str):                   #CONSTRUCTOR ALTERNATIVO usando un método de clase\n",
    "        first, last, pay = emp_str.split('-')       #Se hace el split aca\n",
    "        return cls(first,last,pay)                  #Esto es equivalente a 'Employee(first,last,pay)' usado antes\n",
    "    \n",
    "    #Forma de saber que tipo de método usar:\n",
    "            # Si se accede a la instancia (self) -> método regular o de instancia\n",
    "            # Si se accede a la clase (cls) -> método de clase\n",
    "            # Si no se accede a la instancia o la clase -> método estático\n",
    "            \n",
    "    @staticmethod                                   #DECORATOR<----Esto define un método estático\n",
    "    def is_workday(day):                            #Funcion/método que verifica si un dia es de finde o no. Mon = 0, Sun = 6.\n",
    "        if (day.weekday() == 5) or (day.weekday() == 6):\n",
    "            return False\n",
    "        return True\n",
    "    \n",
    "        \n",
    "emp_1 = Employee('Corey','Schafer',50000)\n",
    "emp_2 = Employee('Test','User',60000)\n",
    "\n",
    "my_date = datetime.date (2016, 7, 11)\n",
    "\n",
    "print (Employee.is_workday(my_date))\n",
    "\n"
   ]
  },
  {
   "cell_type": "markdown",
   "metadata": {},
   "source": [
    "## Tutorial 4 - Inheritance - Creating Subclasses\n",
    "\n",
    "Link: https://www.youtube.com/watch?v=RSl87lqOXDE"
   ]
  },
  {
   "cell_type": "code",
   "execution_count": 37,
   "metadata": {
    "collapsed": false
   },
   "outputs": [
    {
     "name": "stdout",
     "output_type": "stream",
     "text": [
      "Help on class Developer in module __main__:\n",
      "\n",
      "class Developer(Employee)\n",
      " |  Method resolution order:\n",
      " |      Developer\n",
      " |      Employee\n",
      " |      builtins.object\n",
      " |  \n",
      " |  Methods inherited from Employee:\n",
      " |  \n",
      " |  __init__(self, first, last, pay)\n",
      " |      Initialize self.  See help(type(self)) for accurate signature.\n",
      " |  \n",
      " |  apply_raise(self)\n",
      " |  \n",
      " |  fullname(self)\n",
      " |  \n",
      " |  ----------------------------------------------------------------------\n",
      " |  Data descriptors inherited from Employee:\n",
      " |  \n",
      " |  __dict__\n",
      " |      dictionary for instance variables (if defined)\n",
      " |  \n",
      " |  __weakref__\n",
      " |      list of weak references to the object (if defined)\n",
      " |  \n",
      " |  ----------------------------------------------------------------------\n",
      " |  Data and other attributes inherited from Employee:\n",
      " |  \n",
      " |  raise_amt = 1.04\n",
      "\n",
      "None\n"
     ]
    }
   ],
   "source": [
    "class Employee:\n",
    "    \n",
    "    raise_amt = 1.04                             #Variable de clase             \n",
    "    \n",
    "    def __init__(self,first,last,pay):              #Constructor     \n",
    "        self.first = first                    \n",
    "        self.last = last\n",
    "        self.pay = pay\n",
    "        self.email = first + '.' + last + '@company.com'\n",
    "        #Employee.num_of_emps += 1         \n",
    "        \n",
    "    def fullname(self):                              #Método regular o de instancia: Instance como primer argumento         \n",
    "        return '{} {}'.format(self.first,self.last)\n",
    "    \n",
    "    def apply_raise(self):\n",
    "        self.pay = int(self.pay * self.raise_amount)\n",
    "\n",
    "class Developer(Employee):                        #Clase que hereda de 'Employee'\n",
    "    pass\n",
    "\n",
    "#Obtener información de la clase y el orden de resolución del método.\n",
    "print(help(Developer))\n",
    "\n",
    "dev_1 = Developer('Corey','Schafer',50000)\n",
    "dev_2 = Developer('Test','User',60000)\n",
    "\n",
    "#print(dev_1.email)\n",
    "#print(dev_2.email)"
   ]
  },
  {
   "cell_type": "code",
   "execution_count": 44,
   "metadata": {
    "collapsed": false
   },
   "outputs": [
    {
     "name": "stdout",
     "output_type": "stream",
     "text": [
      "Salario de dev_1:  50000\n",
      "Salario con aumento de dev_1:  55000\n",
      "Salario de emp_2:  50000\n",
      "Salario con aumento de emp_2:  52000\n"
     ]
    }
   ],
   "source": [
    "class Employee:\n",
    "    \n",
    "    raise_amt = 1.04                             #Variable de clase             \n",
    "    \n",
    "    def __init__(self,first,last,pay):              #Constructor     \n",
    "        self.first = first                    \n",
    "        self.last = last\n",
    "        self.pay = pay\n",
    "        self.email = first + '.' + last + '@company.com'\n",
    "        #Employee.num_of_emps += 1         \n",
    "        \n",
    "    def fullname(self):                              #Método regular o de instancia: Instance como primer argumento         \n",
    "        return '{} {}'.format(self.first,self.last)\n",
    "    \n",
    "    def apply_raise(self):\n",
    "        self.pay = int(self.pay * self.raise_amt)\n",
    "\n",
    "class Developer(Employee):                        #Clase que hereda de 'Employee'\n",
    "    raise_amt = 1.10                              #Para los desarrolladores el aumento es del 10%\n",
    "\n",
    "#Obtener información de la clase y el orden de resolución del método.\n",
    "#print(help(Developer))\n",
    "\n",
    "dev_1 = Developer('Corey','Schafer',50000)\n",
    "emp_2 = Employee('Test','User',50000)\n",
    "\n",
    "print('Salario de dev_1: ', dev_1.pay)\n",
    "dev_1.apply_raise()\n",
    "print('Salario con aumento de dev_1: ', dev_1.pay)\n",
    "\n",
    "print('Salario de emp_2: ', emp_2.pay)\n",
    "emp_2.apply_raise()\n",
    "print('Salario con aumento de emp_2: ', emp_2.pay)"
   ]
  }
 ],
 "metadata": {
  "anaconda-cloud": {},
  "kernelspec": {
   "display_name": "Python [default]",
   "language": "python",
   "name": "python3"
  },
  "language_info": {
   "codemirror_mode": {
    "name": "ipython",
    "version": 3
   },
   "file_extension": ".py",
   "mimetype": "text/x-python",
   "name": "python",
   "nbconvert_exporter": "python",
   "pygments_lexer": "ipython3",
   "version": "3.5.2"
  }
 },
 "nbformat": 4,
 "nbformat_minor": 1
}
