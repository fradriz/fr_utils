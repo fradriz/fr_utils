{
 "cells": [
  {
   "cell_type": "code",
   "execution_count": 10,
   "metadata": {
    "collapsed": false
   },
   "outputs": [
    {
     "name": "stdout",
     "output_type": "stream",
     "text": [
      "0\n"
     ]
    }
   ],
   "source": [
    "# Idem antes pero definiendo variable que va cambiando para la clase (Employee) y no la instancia (emp_1)\n",
    "class Employee(object):\n",
    "    \n",
    "    num_of_emps = 0                     #Variable que debe incrmentarse cuando se agrega un nuevo empleado\n",
    "    raise_amount = 1.04                     \n",
    "    \n",
    "    #Employee.num_of_emps += 1                 #Cada vez que se aplica la clase se suma uno.\n",
    "    \n",
    "    def __init__(self,first,last,pay):        \n",
    "        self.first = first                    \n",
    "        self.last = last\n",
    "        self.pay = pay\n",
    "        self.email = first + '.' + last + '@company.com'\n",
    "        Employee.num_of_emps += 1\n",
    "        \n",
    "    def fullname(self):                      \n",
    "        return '{} {}'.format(self.first,self.last)\n",
    "    \n",
    "    def apply_raise(self):\n",
    "        self.pay = int(self.pay * self.raise_amount)\n",
    "\n",
    "#print(Employee.num_of_emps)\n",
    "\n",
    "emp_1 = Employee('Corey','Schafer',50000)\n",
    "emp_2 = Employee('Test','User',60000)\n",
    "\n",
    "print(Employee.num_of_emps)\n",
    "\n",
    "#print(Employee.__dict__)"
   ]
  }
 ],
 "metadata": {
  "anaconda-cloud": {},
  "kernelspec": {
   "display_name": "Python [conda root]",
   "language": "python",
   "name": "conda-root-py"
  },
  "language_info": {
   "codemirror_mode": {
    "name": "ipython",
    "version": 3
   },
   "file_extension": ".py",
   "mimetype": "text/x-python",
   "name": "python",
   "nbconvert_exporter": "python",
   "pygments_lexer": "ipython3",
   "version": "3.5.2"
  }
 },
 "nbformat": 4,
 "nbformat_minor": 1
}
