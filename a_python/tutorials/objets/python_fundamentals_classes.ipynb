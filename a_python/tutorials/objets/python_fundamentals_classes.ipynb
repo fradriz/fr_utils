{
 "cells": [
  {
   "cell_type": "markdown",
   "metadata": {},
   "source": [
    "# Class Data & Methods"
   ]
  },
  {
   "cell_type": "code",
   "execution_count": 13,
   "metadata": {},
   "outputs": [
    {
     "name": "stdout",
     "output_type": "stream",
     "text": [
      "FAILED:\n",
      "SemanticException\n",
      "[Error\n",
      "10001]: Line 1:23 Table not found 'py_efx_indicadores_weekly'\n"
     ]
    }
   ],
   "source": [
    "#Object is implied but some people like to put it anyway\n",
    "class LogEntry(object):\n",
    "    def __init__(self,line):            #Constructor method\n",
    "        self.line = line\n",
    "        self.info = line.split(' ',3)\n",
    "        #self.info = line.split(' ')\n",
    "        \n",
    "    def printline(self):\n",
    "        #print(self.line)\n",
    "        for entry in self.info:\n",
    "            print(entry)\n",
    "        #print\n",
    "        \n",
    "s = \"FAILED: SemanticException [Error 10001]: Line 1:23 Table not found 'py_efx_indicadores_weekly'\"\n",
    "\n",
    "log = LogEntry(s)           #New instance of the class LogEntry\n",
    "\n",
    "log.printline()"
   ]
  },
  {
   "cell_type": "code",
   "execution_count": 21,
   "metadata": {},
   "outputs": [
    {
     "name": "stdout",
     "output_type": "stream",
     "text": [
      "Message sent to joe: \tThe first message\n",
      "Message sent to jane: \tThe second message\n",
      "Message sent to bob: \tThe second message\n",
      "[]\n",
      "n items? []\n",
      "m items? ['some item']\n"
     ]
    }
   ],
   "source": [
    "class Notification(object):\n",
    "    \n",
    "    #items = []    #wrong place to be\n",
    "    \n",
    "    def __init__(self, user, message):\n",
    "        self.user = user\n",
    "        self.message = message\n",
    "        self.items = []    #right place to be\n",
    "        \n",
    "    def send_message(self):\n",
    "        print('Message sent to {}: {}' .format(self.user, self.message))\n",
    "        \n",
    "    def change_user(self, user):\n",
    "        self.user = user\n",
    "    \n",
    "n = Notification('joe','\\tThe first message')\n",
    "m = Notification('jane','\\tThe second message')\n",
    "\n",
    "n.send_message()\n",
    "m.send_message()\n",
    "\n",
    "m.change_user('bob')\n",
    "m.send_message()\n",
    "\n",
    "print(m.items)\n",
    "m.items.append('some item')\n",
    "print('n items? ' + str(n.items))\n",
    "print('m items? ' + str(m.items))"
   ]
  },
  {
   "cell_type": "markdown",
   "metadata": {},
   "source": [
    "## One OOP example"
   ]
  },
  {
   "cell_type": "code",
   "execution_count": 7,
   "metadata": {},
   "outputs": [
    {
     "name": "stdout",
     "output_type": "stream",
     "text": [
      "my name is Facundo\n"
     ]
    }
   ],
   "source": [
    "# BASE CLASS: Se crea la clase 'Person'\n",
    "class Person(object):\n",
    "    def __init__(self, name):\n",
    "        self.name = name\n",
    "        \n",
    "    def reveal_identity(self):\n",
    "        print(f\"my name is {self.name}\")\n",
    "   \n",
    "# CLASE QUE HEREDA DE BASE CLASS: Clase 'SuperHero' hereda de 'Person'\n",
    "class SuperHero(Person):\n",
    "    def __init__(self, name, hero_name):\n",
    "        super(SuperHero, self).__init__(name)    # <- 'super' inicializa basandose en la clase Person\n",
    "        self.hero_name = hero_name\n",
    "      \n",
    "    # Se reescribe el metodo 'reveal_identity'\n",
    "    def reveal_identity(self):\n",
    "        super(SuperHero, self).reveal_identity()\n",
    "        print(f\"...and I am {self.hero_name}\")\n",
    "        \n",
    "    \n",
    "persona_normal = Person('Facundo')\n",
    "persona_normal.reveal_identity()    "
   ]
  },
  {
   "cell_type": "code",
   "execution_count": 6,
   "metadata": {},
   "outputs": [
    {
     "name": "stdout",
     "output_type": "stream",
     "text": [
      "my name is peter parker\n",
      "...and I am Hombre araña\n"
     ]
    }
   ],
   "source": [
    "peter = SuperHero(\"peter parker\", \"Hombre araña\")\n",
    "peter.reveal_identity()"
   ]
  }
 ],
 "metadata": {
  "kernelspec": {
   "display_name": "Python 3",
   "language": "python",
   "name": "python3"
  },
  "language_info": {
   "codemirror_mode": {
    "name": "ipython",
    "version": 3
   },
   "file_extension": ".py",
   "mimetype": "text/x-python",
   "name": "python",
   "nbconvert_exporter": "python",
   "pygments_lexer": "ipython3",
   "version": "3.7.3"
  }
 },
 "nbformat": 4,
 "nbformat_minor": 2
}
