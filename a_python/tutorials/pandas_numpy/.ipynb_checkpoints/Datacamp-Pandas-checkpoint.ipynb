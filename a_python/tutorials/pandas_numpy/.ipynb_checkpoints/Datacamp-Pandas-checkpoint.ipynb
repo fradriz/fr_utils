{
 "cells": [
  {
   "cell_type": "markdown",
   "metadata": {},
   "source": [
    "# Curso Pandas - Datacamp\n",
    "https://campus.datacamp.com/courses/data-manipulation-with-pandas/transforming-data?ex=9\n",
    "\n",
    "## I) Transforming the data"
   ]
  },
  {
   "cell_type": "markdown",
   "metadata": {},
   "source": [
    "### I.1) Introduction\n",
    "\n",
    "`Pandas esta construido sobre:\n",
    "\n",
    "\t* Numpy:\n",
    "\t\tMultidimension array objects Pandas lo usa para guardar los datos (dataframes)\n",
    "\t* Matplot lib\n",
    "\n",
    "Como representar los datos:\n",
    "\t* Rectangluar o Tabular data (tablas) es la más común\n",
    "\n",
    "\n",
    "Inspecting a DataFrame\n",
    "When you get a new DataFrame to work with, the first thing you need to do is explore it and see what it contains. There are several useful methods and attributes for this.\n",
    "\n",
    ".head() returns the first few rows (the “head” of the DataFrame).\n",
    ".info() shows information on each of the columns, such as the data type and number of missing values.\n",
    ".shape returns the number of rows and columns of the DataFrame.\n",
    ".describe() calculates a few summary statistics for each column.\n",
    "\n",
    "Exploración de datos:\n",
    "\tdf.head()\n",
    "\tdf.info() -> info gral sobre los datos, tipos de datos, columnas x filas, etc\n",
    "\tdf.shape -> (7, 6) es rows x columns. Como es un atributo en vez de un método se escribe SIN parentesis.\n",
    "\tdf.describe -> Summary statistics para las columnas numéricas (mean, max, etc)\n",
    "\n",
    "Parts of a DataFrame\n",
    "To better understand DataFrame objects, it's useful to know that they consist of three components, stored as attributes:\n",
    "\n",
    ".values: A two-dimensional NumPy array of values.\n",
    ".columns: An index of columns: the column names.\n",
    ".index: An index for the rows: either row numbers or row names.\n",
    "You can usually think of indexes as being like a list of strings or numbers, though the pandas Index data type allows for more sophisticated options. (These will be covered later in the course.)\t\n",
    "\n",
    "DF tienen 3 componentes:\n",
    "\t* accesable using attributes:\n",
    "\t\tdf.values  -> valores de datos (data values) y un array de np de dos dimensiones\n",
    "\t\tdf.columns -> Nombres de las columnas en un array de np (unidemensional)\n",
    "\t\tdf.index -> Número de filas o row names -> OJO: los nómbres de las filas están en index, NO en df.rows\n",
    "\t\t\tLos nombres de las filas pueden ser números pero tambien strings.`"
   ]
  },
  {
   "cell_type": "markdown",
   "metadata": {},
   "source": [
    "### I.2) Sorting\n",
    "`\n",
    "df.sort_values(\"columna\", ascending=False)\n",
    "\n",
    "Ordenando por varias columnas hay que pasar una lista de columnas: \n",
    "\t* df.sort_values([\"col1\", \"col2\"])\n",
    "\t* df.sort_values([\"col1\", \"col2\"], ascending=[False, True])`"
   ]
  },
  {
   "cell_type": "markdown",
   "metadata": {},
   "source": [
    "### I.3) Subsetting\n",
    "`select de una columna: \tdf[\"col1\"]\n",
    "select de varias columnas: \tdf[[\"col1\", \"col2\"]]\n",
    "\n",
    "Crear una condición lógica: \n",
    "\t* df[\"edad\"] > 30\n",
    "\t* la salida va a ser True o False según lo que compla cada row\n",
    "\n",
    "Desde lo anterior podemos seleccionar solo las columnas que dan True: df[df[\"edad\"] > 30]\n",
    "\n",
    "Tambien se puede seleccionar datos por:\n",
    "\t* texto: df[df[\"nombre\"] == 'Carlos']\n",
    "\t* Fechas: df[df[\"fecha_de_nacimiento\"] > '2015-04-1']\n",
    "\n",
    "Se pueden usar multiples filtros usand AND:\n",
    "\t* nombre_carlos = df[\"nombre\"] == 'Carlos'\n",
    "\t* nacio_dps_2015 = df[\"fecha_de_nacimiento\"] > '2015-04-1'\n",
    "\n",
    "\tdf[nombre_carlos & nacio_dps_2015] o df[(df[\"nombre\"] == 'Carlos') & (\"fecha_de_nacimiento\"] > '2015-04-1')]\n",
    "\n",
    "Para variables categoricas se puede usar .isin\n",
    "\tcarlos_ricardos = df[\"nombre\"].isin([\"Carlos\", \"Ricardos\"])\n",
    "\tdf[carlos_ricardos]\t`"
   ]
  },
  {
   "cell_type": "markdown",
   "metadata": {},
   "source": [
    "## 2) Transforming the data frame\n",
    "Mutating a dataframe = Transforming a df = feature engineering\n",
    "\n",
    "### 2.I) Adding a new column\n",
    "`\n",
    "Para agregar una columna mutando una columna existente:\n",
    "    * En este caso las dos columnas quedan en el df: df['col_nueva'] = df['col_vieja'] / 100\n",
    "     * La nueva columna queda al final del df`"
   ]
  },
  {
   "cell_type": "code",
   "execution_count": null,
   "metadata": {},
   "outputs": [],
   "source": [
    "In [5]: homelessness.head()\n",
    "Out[5]: \n",
    "               region       state  individuals  family_members  state_pop\n",
    "0  East South Central     Alabama       2570.0           864.0    4887681\n",
    "1             Pacific      Alaska       1434.0           582.0     735139\n",
    "2            Mountain     Arizona       7259.0          2606.0    7158024\n",
    "3  West South Central    Arkansas       2280.0           432.0    3009733\n",
    "4             Pacific  California     109008.0         20964.0   39461588     \n",
    "\n",
    "\n",
    "# Add total col as sum of individuals and family_members\n",
    "homelessness['total'] = homelessness['individuals'] + homelessness['family_members']\n",
    "\n",
    "# Add p_individuals col as proportion of individuals\n",
    "homelessness['p_individuals'] = homelessness['individuals'] / homelessness['total']\n",
    "\n",
    "# See the result\n",
    "print(homelessness)"
   ]
  },
  {
   "cell_type": "code",
   "execution_count": null,
   "metadata": {},
   "outputs": [],
   "source": [
    "# Create indiv_per_10k col as homeless individuals per 10k state pop\n",
    "homelessness[\"indiv_per_10k\"] = 10000 * homelessness[\"individuals\"] / homelessness[\"state_pop\"] \n",
    "\n",
    "# Subset rows for indiv_per_10k greater than 20\n",
    "high_homelessness = homelessness[homelessness[\"indiv_per_10k\"] > 20]\n",
    "\n",
    "# Sort high_homelessness by descending indiv_per_10k\n",
    "high_homelessness_srt = high_homelessness.sort_values(\"indiv_per_10k\", ascending=False)\n",
    "\n",
    "# From high_homelessness_srt, select the state and indiv_per_10k cols\n",
    "result = high_homelessness_srt[['state','indiv_per_10k']]"
   ]
  }
 ],
 "metadata": {
  "kernelspec": {
   "display_name": "Python 3",
   "language": "python",
   "name": "python3"
  },
  "language_info": {
   "codemirror_mode": {
    "name": "ipython",
    "version": 3
   },
   "file_extension": ".py",
   "mimetype": "text/x-python",
   "name": "python",
   "nbconvert_exporter": "python",
   "pygments_lexer": "ipython3",
   "version": "3.7.5"
  }
 },
 "nbformat": 4,
 "nbformat_minor": 2
}
